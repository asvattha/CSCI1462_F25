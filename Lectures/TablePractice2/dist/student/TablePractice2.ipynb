{
 "cells": [
  {
   "cell_type": "code",
   "execution_count": null,
   "id": "0141fcf5",
   "metadata": {
    "deletable": false,
    "editable": false
   },
   "outputs": [],
   "source": [
    "# Initialize Otter\n",
    "import otter\n",
    "grader = otter.Notebook(\"TablePractice2.ipynb\")"
   ]
  },
  {
   "cell_type": "code",
   "execution_count": null,
   "id": "e1f0459c-a2eb-4c94-b60c-fbdba60e7970",
   "metadata": {},
   "outputs": [],
   "source": [
    "import pandas as pd\n",
    "import numpy as np"
   ]
  },
  {
   "cell_type": "markdown",
   "id": "eb31463b-9652-4195-b250-c69f997af392",
   "metadata": {},
   "source": [
    "## Give me some coffee\n",
    "\n",
    "Jennifer is studying late at the SFA library and wants a coffee to help her stay alert and refreshed. She plans to order online so the drink will be ready for pickup when she drives to the coffee shop. She has access to two tables: `drinks` and `businesses`, that might help her select a coffee to order. \n",
    "\n",
    "`drinks` table:\n",
    "- **Shop** (string): Name of the coffee shop\n",
    "- **Price** (float): The base price of a coffee\n",
    "- **Rating** (float): The aggregate Google reviews rating, out of 5.0 stars\n",
    "\n",
    "`businesses` table: \n",
    "- **Business** (string): Name of the business\n",
    "- **Neighborhood** (string): The neighborhood within Nacogdoches that the business is located in\n",
    "- **Minutes** (integer): The estimated number of minutes that it takes to drive from SFA library to the business\n",
    "- **Late_Night** (boolean): Indicates whether or not the business is open past 8 pm"
   ]
  },
  {
   "cell_type": "code",
   "execution_count": null,
   "id": "45639868-442c-4dec-99e6-eea8470d565e",
   "metadata": {},
   "outputs": [],
   "source": [
    "drinks = pd.read_csv('data/drinks.csv')\n",
    "drinks.head(3)"
   ]
  },
  {
   "cell_type": "code",
   "execution_count": null,
   "id": "7c859d51-7ca3-44db-b949-062b6b4b3425",
   "metadata": {},
   "outputs": [],
   "source": [
    "businesses = pd.read_csv('data/businesses.csv')\n",
    "businesses.head(3)"
   ]
  },
  {
   "cell_type": "markdown",
   "id": "bb468597-0408-4cbb-86ae-70c2a32d11d1",
   "metadata": {
    "deletable": false,
    "editable": false
   },
   "source": [
    "### Question 1.1\n",
    "\n",
    "Write a python code to create a pivot table displaying the number of coffee shops having a particular combination of neighborhood (as row labels) and late night availability (as column labels)\n"
   ]
  },
  {
   "cell_type": "code",
   "execution_count": null,
   "id": "7798a939-398b-4ad0-a1b2-2f23b408b23f",
   "metadata": {
    "tags": []
   },
   "outputs": [],
   "source": [
    "your_ans = businesses.pivot_table(index = ... , columns=... , values=... , aggfunc=...)\n",
    "your_ans"
   ]
  },
  {
   "cell_type": "code",
   "execution_count": null,
   "id": "c50bc316",
   "metadata": {
    "deletable": false,
    "editable": false
   },
   "outputs": [],
   "source": [
    "grader.check(\"q1.1\")"
   ]
  },
  {
   "cell_type": "markdown",
   "id": "bea345ba-2457-4615-a623-e0011da9957c",
   "metadata": {
    "deletable": false,
    "editable": false
   },
   "source": [
    "### Question 1.2\n",
    "\n",
    "Find the number of coffee shops with a rating above 4.0 stars and a coffee prices less than 7 dollars."
   ]
  },
  {
   "cell_type": "code",
   "execution_count": null,
   "id": "aeb250f1-df29-4abc-bfe7-5b2b6291fe74",
   "metadata": {
    "tags": []
   },
   "outputs": [],
   "source": [
    "your_ans = ...\n",
    "your_ans"
   ]
  },
  {
   "cell_type": "code",
   "execution_count": null,
   "id": "92e8d957",
   "metadata": {
    "deletable": false,
    "editable": false
   },
   "outputs": [],
   "source": [
    "grader.check(\"q1.2\")"
   ]
  },
  {
   "cell_type": "markdown",
   "id": "9eda1c0c-ae0a-41d5-9921-8b58978ed94f",
   "metadata": {
    "deletable": false,
    "editable": false
   },
   "source": [
    "### Question 1.3\n",
    "\n",
    "Create a two column table containing the average price of coffee in shops for each neighborhood.\n"
   ]
  },
  {
   "cell_type": "code",
   "execution_count": null,
   "id": "4cc90eff-1ba7-4c6d-b1bf-e8fd8bf4964e",
   "metadata": {
    "tags": []
   },
   "outputs": [],
   "source": [
    "merged_shops = ...\n",
    "your_ans = ...\n",
    "your_ans"
   ]
  },
  {
   "cell_type": "code",
   "execution_count": null,
   "id": "3d62a15c",
   "metadata": {
    "deletable": false,
    "editable": false
   },
   "outputs": [],
   "source": [
    "grader.check(\"q1.3\")"
   ]
  },
  {
   "cell_type": "markdown",
   "id": "8cb11d4b-b529-4d4e-af79-6ac371f03cc3",
   "metadata": {
    "deletable": false,
    "editable": false
   },
   "source": [
    "### Question 1.4\n",
    "\n",
    "The name of the restaurant which offers the best value for a coffee, given the amount of time it takes to drive to the restaurant from SFA library.\n",
    "\n",
    "Hint: \n",
    "1. Find the Price per Minutes\n",
    "2. Sort the columns based on Price_per_minutes\n",
    "3. Find the coffee shop with least Price_per_minutes value\n"
   ]
  },
  {
   "cell_type": "code",
   "execution_count": null,
   "id": "c96dfa0d-003b-49c2-9915-f075c15cd858",
   "metadata": {
    "tags": []
   },
   "outputs": [],
   "source": [
    "merged_shops['Price_per_minutes'] = ...\n",
    "sorted_merged_shops = ...\n",
    "first_row = ...\n",
    "your_ans = ...\n",
    "your_ans"
   ]
  },
  {
   "cell_type": "code",
   "execution_count": null,
   "id": "d3dcf23a",
   "metadata": {
    "deletable": false,
    "editable": false
   },
   "outputs": [],
   "source": [
    "grader.check(\"q1.4\")"
   ]
  }
 ],
 "metadata": {
  "kernelspec": {
   "display_name": "Python 3 (ipykernel)",
   "language": "python",
   "name": "python3"
  },
  "language_info": {
   "codemirror_mode": {
    "name": "ipython",
    "version": 3
   },
   "file_extension": ".py",
   "mimetype": "text/x-python",
   "name": "python",
   "nbconvert_exporter": "python",
   "pygments_lexer": "ipython3",
   "version": "3.12.6"
  },
  "otter": {
   "OK_FORMAT": true,
   "tests": {
    "q1.1": {
     "name": "q1.1",
     "points": null,
     "suites": [
      {
       "cases": [
        {
         "code": ">>> your_ans.shape == (5, 2)\nTrue",
         "hidden": false,
         "locked": false
        },
        {
         "code": ">>> your_ans.loc['North St', False].item() == 3\nTrue",
         "hidden": false,
         "locked": false
        },
        {
         "code": ">>> your_ans.loc['North St', True].item() == 2\nTrue",
         "hidden": false,
         "locked": false
        }
       ],
       "scored": true,
       "setup": "",
       "teardown": "",
       "type": "doctest"
      }
     ]
    },
    "q1.2": {
     "name": "q1.2",
     "points": null,
     "suites": [
      {
       "cases": [
        {
         "code": ">>> your_ans == 4\nTrue",
         "hidden": false,
         "locked": false
        }
       ],
       "scored": true,
       "setup": "",
       "teardown": "",
       "type": "doctest"
      }
     ]
    },
    "q1.3": {
     "name": "q1.3",
     "points": null,
     "suites": [
      {
       "cases": [
        {
         "code": ">>> your_ans.shape == (5, 2)\nTrue",
         "hidden": false,
         "locked": false
        }
       ],
       "scored": true,
       "setup": "",
       "teardown": "",
       "type": "doctest"
      }
     ]
    },
    "q1.4": {
     "name": "q1.4",
     "points": null,
     "suites": [
      {
       "cases": [
        {
         "code": ">>> your_ans == 'Culinary Cafe'\nTrue",
         "hidden": false,
         "locked": false
        }
       ],
       "scored": true,
       "setup": "",
       "teardown": "",
       "type": "doctest"
      }
     ]
    }
   }
  }
 },
 "nbformat": 4,
 "nbformat_minor": 5
}
