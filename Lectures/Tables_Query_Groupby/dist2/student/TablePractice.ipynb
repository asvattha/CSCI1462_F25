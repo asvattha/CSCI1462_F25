{
 "cells": [
  {
   "cell_type": "code",
   "execution_count": null,
   "id": "003300d9",
   "metadata": {
    "deletable": false,
    "editable": false
   },
   "outputs": [],
   "source": [
    "# Initialize Otter\n",
    "import otter\n",
    "grader = otter.Notebook(\"TablePractice.ipynb\")"
   ]
  },
  {
   "cell_type": "code",
   "execution_count": null,
   "id": "29e08054-1e3b-4172-9308-504ecbddc80f",
   "metadata": {},
   "outputs": [],
   "source": [
    "import pandas as pd\n",
    "import numpy as np"
   ]
  },
  {
   "cell_type": "markdown",
   "id": "9c176602-eff5-4235-91ac-17744645d475",
   "metadata": {},
   "source": [
    "# 1. Citi Bike Dataset 🗽\n",
    "\n",
    "Citibike is a well-known bike sharing/renting system in New York City. It is privately owned by Lyft and operates in the boroughs of the Bronx, Brooklyn, Manhattan, Queens, Jersey City New Jersey, and Hoboken New Jersey. The system was proposed in 2008 but officially started in 2013 with 332 stations and 6,000 bikes. As of today, there are 17,000 bikes with approximately 50,000 rides on average daily."
   ]
  },
  {
   "cell_type": "markdown",
   "id": "62216796-416b-44dd-866f-51e04982d48a",
   "metadata": {
    "deletable": false,
    "editable": false
   },
   "source": [
    "### Question 1.1\n",
    "\n",
    "Write a python code to read the file **citibike-trips.csv** located under the data directory. Store your answer in the variable `citibike`.\n",
    "\n",
    "Hint: Use `read_csv()` method"
   ]
  },
  {
   "cell_type": "code",
   "execution_count": null,
   "id": "baeaa2ba-f0db-4927-8b80-7be6508efb24",
   "metadata": {
    "tags": []
   },
   "outputs": [],
   "source": [
    "citibike = ...\n",
    "citibike.head()"
   ]
  },
  {
   "cell_type": "code",
   "execution_count": null,
   "id": "f4b8f2f3",
   "metadata": {
    "deletable": false,
    "editable": false
   },
   "outputs": [],
   "source": [
    "grader.check(\"q1.1\")"
   ]
  },
  {
   "cell_type": "markdown",
   "id": "10209997-627e-405a-b8d5-138298d8abc9",
   "metadata": {
    "deletable": false,
    "editable": false
   },
   "source": [
    "### Question 1.2\n",
    "\n",
    "Select the columns `tripduration`, `start_station_name` and `end_station_name` from the citibike dataframe. Store your answer in the updated dataframe `citibike`. \n"
   ]
  },
  {
   "cell_type": "code",
   "execution_count": null,
   "id": "d09f9990-4764-4207-aeb9-a928a055e7c8",
   "metadata": {
    "tags": []
   },
   "outputs": [],
   "source": [
    "citibike = ...\n",
    "citibike.head()"
   ]
  },
  {
   "cell_type": "code",
   "execution_count": null,
   "id": "e1eef495",
   "metadata": {
    "deletable": false,
    "editable": false
   },
   "outputs": [],
   "source": [
    "grader.check(\"q1.2\")"
   ]
  },
  {
   "cell_type": "markdown",
   "id": "09e9a42c-4f80-4269-999a-60daa1ed3332",
   "metadata": {
    "deletable": false,
    "editable": false
   },
   "source": [
    "### Question 1.3\n",
    "\n",
    "Find the average duration of a trip that lasted more than 30 minutes. Store your answer in the variable `above_30_mins` rounded upto two decimal points. "
   ]
  },
  {
   "cell_type": "code",
   "execution_count": null,
   "id": "f3476c90-a0ca-4976-a8a5-a0090656fd7c",
   "metadata": {
    "tags": []
   },
   "outputs": [],
   "source": [
    "above_30_mins = ...\n",
    "above_30_mins"
   ]
  },
  {
   "cell_type": "code",
   "execution_count": null,
   "id": "d56c1d71",
   "metadata": {
    "deletable": false,
    "editable": false
   },
   "outputs": [],
   "source": [
    "grader.check(\"q1.3\")"
   ]
  },
  {
   "cell_type": "markdown",
   "id": "9e9da08a-c3b7-4c04-a9fd-7a19cd4e44ab",
   "metadata": {
    "deletable": false,
    "editable": false
   },
   "source": [
    "### Question 1.4\n",
    "\n",
    "Find the number of trips that started at the **W 78 St & Broadway** station. Store your answer in the variable `num_trips`. \n"
   ]
  },
  {
   "cell_type": "code",
   "execution_count": null,
   "id": "bc85a57e-0731-48a5-84a3-c6ddda83f3ff",
   "metadata": {
    "tags": []
   },
   "outputs": [],
   "source": [
    "num_trips = ...\n",
    "num_trips"
   ]
  },
  {
   "cell_type": "code",
   "execution_count": null,
   "id": "8a71095c",
   "metadata": {
    "deletable": false,
    "editable": false
   },
   "outputs": [],
   "source": [
    "grader.check(\"q1.4\")"
   ]
  },
  {
   "cell_type": "markdown",
   "id": "9f8f928c-5cca-44f6-bcfe-b2cd134cd743",
   "metadata": {
    "deletable": false,
    "editable": false
   },
   "source": [
    "### Question 1.5\n",
    "\n",
    "Find the station name where the most trips ended (Assume there are no ties). Store your answer in the variable `crowded_station` of type `str`."
   ]
  },
  {
   "cell_type": "code",
   "execution_count": null,
   "id": "5803277c-1e27-4aba-a0c4-6afd1f326d48",
   "metadata": {
    "tags": []
   },
   "outputs": [],
   "source": [
    "crowded_station = ...\n",
    "crowded_station"
   ]
  },
  {
   "cell_type": "code",
   "execution_count": null,
   "id": "dced3614",
   "metadata": {
    "deletable": false,
    "editable": false
   },
   "outputs": [],
   "source": [
    "grader.check(\"q1.5\")"
   ]
  },
  {
   "cell_type": "markdown",
   "id": "58277edd-d966-4f27-a9a1-7dff6b28f361",
   "metadata": {
    "deletable": false,
    "editable": false
   },
   "source": [
    "### Question 1.6\n",
    "\n",
    "Find the number of trips for which the trip duration ending at the `crowded_station` was at least 500 seconds. Store your answer in the variable `num_trips`. "
   ]
  },
  {
   "cell_type": "code",
   "execution_count": null,
   "id": "1c01e3d5-dc9a-49a6-bcc7-3dab22c691c4",
   "metadata": {
    "tags": []
   },
   "outputs": [],
   "source": [
    "num_trips = ...\n",
    "num_trips"
   ]
  },
  {
   "cell_type": "code",
   "execution_count": null,
   "id": "bce42ba0",
   "metadata": {
    "deletable": false,
    "editable": false
   },
   "outputs": [],
   "source": [
    "grader.check(\"q1.6\")"
   ]
  },
  {
   "cell_type": "markdown",
   "id": "ed96748c-680f-4a1e-8a23-af25e5290afb",
   "metadata": {
    "deletable": false,
    "editable": false
   },
   "source": [
    "### Question 1.7\n",
    "\n",
    "Find the number of stations for which the average duration ending at that station was at least 2000 seconds. Store your answer in the variable `num_stations`. "
   ]
  },
  {
   "cell_type": "code",
   "execution_count": null,
   "id": "5f1eb24a-25e7-424e-bf9b-2e5c909943dc",
   "metadata": {
    "tags": []
   },
   "outputs": [],
   "source": [
    "num_stations = ...\n",
    "num_stations"
   ]
  },
  {
   "cell_type": "code",
   "execution_count": null,
   "id": "fceb4e59",
   "metadata": {
    "deletable": false,
    "editable": false
   },
   "outputs": [],
   "source": [
    "grader.check(\"q1.7\")"
   ]
  },
  {
   "cell_type": "markdown",
   "id": "300b5a03-5b8a-4f8c-9b5c-4c81d6f77cb9",
   "metadata": {},
   "source": [
    "# 2. SFA Basketball\n",
    "\n",
    "The **sfa** table describes the `name` (string), `position` (string), `class` (string), and `height` (int) of SFA basketball\n",
    "players in the 2024-125 season. Please note, this is just a synthetic data. "
   ]
  },
  {
   "cell_type": "code",
   "execution_count": null,
   "id": "986fba8f-bd67-426e-86ef-817cc5de4c92",
   "metadata": {},
   "outputs": [],
   "source": [
    "sfa = pd.read_csv('data/sfa_basketball.csv')\n",
    "sfa.head()"
   ]
  },
  {
   "cell_type": "markdown",
   "id": "ed68af12-b52a-4cf4-a9af-ed79f4ba7f1b",
   "metadata": {
    "deletable": false,
    "editable": false
   },
   "source": [
    "### Question 2.1\n",
    "\n",
    "Find the proportion of all players whose position is **Forward**. Store you answer in variable `fwd_prop` rounded upto two decimal points. "
   ]
  },
  {
   "cell_type": "code",
   "execution_count": null,
   "id": "7266f4ce-cf09-4bfe-8f19-396daab7cd78",
   "metadata": {
    "tags": []
   },
   "outputs": [],
   "source": [
    "fwd_prop = ...\n",
    "fwd_prop"
   ]
  },
  {
   "cell_type": "code",
   "execution_count": null,
   "id": "732da12c",
   "metadata": {
    "deletable": false,
    "editable": false
   },
   "outputs": [],
   "source": [
    "grader.check(\"q2.1\")"
   ]
  },
  {
   "cell_type": "markdown",
   "id": "694dd598-39e1-48c8-bd83-49d07621753c",
   "metadata": {
    "deletable": false,
    "editable": false
   },
   "source": [
    "### Question 2.2\n",
    "\n",
    "Find the name of the shortest **freshman**. Assume that one is shorter than the rest. Store your answer in the variable `shortest` of type `str`\n"
   ]
  },
  {
   "cell_type": "code",
   "execution_count": null,
   "id": "6c581aca-a110-4d84-8d21-ae3275a76b02",
   "metadata": {
    "tags": []
   },
   "outputs": [],
   "source": [
    "shortest = ...\n",
    "shortest"
   ]
  },
  {
   "cell_type": "code",
   "execution_count": null,
   "id": "b3ad72ff",
   "metadata": {
    "deletable": false,
    "editable": false
   },
   "outputs": [],
   "source": [
    "grader.check(\"q2.2\")"
   ]
  },
  {
   "cell_type": "markdown",
   "id": "999a4497-4c56-4b61-ae7f-c85e8cb1195d",
   "metadata": {
    "deletable": false,
    "editable": false
   },
   "source": [
    "### Question 2.3\n",
    "\n",
    "Find whether there are at least 3/4 of players that are atleast 80 inches taller. The result should be True or False and stored in the variable `percentile_75th`."
   ]
  },
  {
   "cell_type": "code",
   "execution_count": null,
   "id": "8dad6a95-0d8d-4196-bcb2-6f98cc649e4b",
   "metadata": {
    "tags": []
   },
   "outputs": [],
   "source": [
    "percentile_75th = ...\n",
    "percentile_75th"
   ]
  },
  {
   "cell_type": "code",
   "execution_count": null,
   "id": "d04a351e",
   "metadata": {
    "deletable": false,
    "editable": false
   },
   "outputs": [],
   "source": [
    "grader.check(\"q2.3\")"
   ]
  },
  {
   "cell_type": "markdown",
   "id": "5023ac58-87c1-4172-849d-064a4dcd3ee7",
   "metadata": {
    "deletable": false,
    "editable": false
   },
   "source": [
    "### Question 2.4\n",
    "\n",
    "Find a pandas series of all positions, sorted in increasing order of the average height for all players in that position. Store your answer in variable `sorted_pos` of type `pandas.Series`\n"
   ]
  },
  {
   "cell_type": "code",
   "execution_count": null,
   "id": "cff6c36f-0dc4-40fd-9c8c-d03a83d5eecd",
   "metadata": {
    "tags": []
   },
   "outputs": [],
   "source": [
    "sorted_pos = ...\n",
    "sorted_pos "
   ]
  },
  {
   "cell_type": "code",
   "execution_count": null,
   "id": "947fd378",
   "metadata": {
    "deletable": false,
    "editable": false
   },
   "outputs": [],
   "source": [
    "grader.check(\"q2.4\")"
   ]
  }
 ],
 "metadata": {
  "kernelspec": {
   "display_name": "Python 3 (ipykernel)",
   "language": "python",
   "name": "python3"
  },
  "language_info": {
   "codemirror_mode": {
    "name": "ipython",
    "version": 3
   },
   "file_extension": ".py",
   "mimetype": "text/x-python",
   "name": "python",
   "nbconvert_exporter": "python",
   "pygments_lexer": "ipython3",
   "version": "3.12.6"
  },
  "otter": {
   "OK_FORMAT": true,
   "tests": {
    "q1.1": {
     "name": "q1.1",
     "points": null,
     "suites": [
      {
       "cases": [
        {
         "code": ">>> citibike.shape == (473556, 16)\nTrue",
         "hidden": false,
         "locked": false
        }
       ],
       "scored": true,
       "setup": "",
       "teardown": "",
       "type": "doctest"
      }
     ]
    },
    "q1.2": {
     "name": "q1.2",
     "points": null,
     "suites": [
      {
       "cases": [
        {
         "code": ">>> citibike.shape == (473556, 3)\nTrue",
         "hidden": false,
         "locked": false
        }
       ],
       "scored": true,
       "setup": "",
       "teardown": "",
       "type": "doctest"
      }
     ]
    },
    "q1.3": {
     "name": "q1.3",
     "points": null,
     "suites": [
      {
       "cases": [
        {
         "code": ">>> int(above_30_mins) == 4117\nTrue",
         "hidden": false,
         "locked": false
        }
       ],
       "scored": true,
       "setup": "",
       "teardown": "",
       "type": "doctest"
      }
     ]
    },
    "q1.4": {
     "name": "q1.4",
     "points": null,
     "suites": [
      {
       "cases": [
        {
         "code": ">>> num_trips == 362\nTrue",
         "hidden": false,
         "locked": false
        }
       ],
       "scored": true,
       "setup": "",
       "teardown": "",
       "type": "doctest"
      }
     ]
    },
    "q1.5": {
     "name": "q1.5",
     "points": null,
     "suites": [
      {
       "cases": [
        {
         "code": ">>> crowded_station == 'E 17 St & Broadway'\nTrue",
         "hidden": false,
         "locked": false
        }
       ],
       "scored": true,
       "setup": "",
       "teardown": "",
       "type": "doctest"
      }
     ]
    },
    "q1.6": {
     "name": "q1.6",
     "points": null,
     "suites": [
      {
       "cases": [
        {
         "code": ">>> num_trips == 2351\nTrue",
         "hidden": false,
         "locked": false
        }
       ],
       "scored": true,
       "setup": "",
       "teardown": "",
       "type": "doctest"
      }
     ]
    },
    "q1.7": {
     "name": "q1.7",
     "points": null,
     "suites": [
      {
       "cases": [
        {
         "code": ">>> num_stations == 40\nTrue",
         "hidden": false,
         "locked": false
        }
       ],
       "scored": true,
       "setup": "",
       "teardown": "",
       "type": "doctest"
      }
     ]
    },
    "q2.1": {
     "name": "q2.1",
     "points": null,
     "suites": [
      {
       "cases": [
        {
         "code": ">>> fwd_prop == 0.36\nTrue",
         "hidden": false,
         "locked": false
        }
       ],
       "scored": true,
       "setup": "",
       "teardown": "",
       "type": "doctest"
      }
     ]
    },
    "q2.2": {
     "name": "q2.2",
     "points": null,
     "suites": [
      {
       "cases": [
        {
         "code": ">>> shortest == 'Lauryn Stockin'\nTrue",
         "hidden": false,
         "locked": false
        }
       ],
       "scored": true,
       "setup": "",
       "teardown": "",
       "type": "doctest"
      }
     ]
    },
    "q2.3": {
     "name": "q2.3",
     "points": null,
     "suites": [
      {
       "cases": [
        {
         "code": ">>> percentile_75th == False\nTrue",
         "hidden": false,
         "locked": false
        }
       ],
       "scored": true,
       "setup": "",
       "teardown": "",
       "type": "doctest"
      }
     ]
    },
    "q2.4": {
     "name": "q2.4",
     "points": null,
     "suites": [
      {
       "cases": [
        {
         "code": ">>> sorted_pos.iloc[0] == 'Guard' and sorted_pos.iloc[-1] == 'Center'\nTrue",
         "hidden": false,
         "locked": false
        }
       ],
       "scored": true,
       "setup": "",
       "teardown": "",
       "type": "doctest"
      }
     ]
    }
   }
  }
 },
 "nbformat": 4,
 "nbformat_minor": 5
}
