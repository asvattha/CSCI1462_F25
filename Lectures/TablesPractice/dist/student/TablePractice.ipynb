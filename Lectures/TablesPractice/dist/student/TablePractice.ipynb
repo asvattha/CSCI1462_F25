{
 "cells": [
  {
   "cell_type": "code",
   "execution_count": 3,
   "id": "ec69fbe7",
   "metadata": {
    "deletable": false,
    "editable": false
   },
   "outputs": [],
   "source": [
    "# Initialize Otter\n",
    "import otter\n",
    "grader = otter.Notebook(\"TablePractice.ipynb\")"
   ]
  },
  {
   "cell_type": "code",
   "execution_count": 4,
   "id": "29e08054-1e3b-4172-9308-504ecbddc80f",
   "metadata": {},
   "outputs": [],
   "source": [
    "import pandas as pd\n",
    "import numpy as np"
   ]
  },
  {
   "cell_type": "markdown",
   "id": "9c176602-eff5-4235-91ac-17744645d475",
   "metadata": {},
   "source": [
    "# 1. Citi Bike Dataset 🗽\n",
    "\n",
    "Citibike is a well-known bike sharing/renting system in New York City. It is privately owned by Lyft and operates in the boroughs of the Bronx, Brooklyn, Manhattan, Queens, Jersey City New Jersey, and Hoboken New Jersey. The system was proposed in 2008 but officially started in 2013 with 332 stations and 6,000 bikes. As of today, there are 17,000 bikes with approximately 50,000 rides on average daily."
   ]
  },
  {
   "cell_type": "markdown",
   "id": "62216796-416b-44dd-866f-51e04982d48a",
   "metadata": {
    "deletable": false,
    "editable": false
   },
   "source": [
    "### Question 1.1\n",
    "\n",
    "Write a python code to read the file **citibike-trips.csv** located under the data directory. Store your answer in the variable `citibike`.\n",
    "\n",
    "Hint: Use `read_csv()` method"
   ]
  },
  {
   "cell_type": "code",
   "execution_count": 5,
   "id": "baeaa2ba-f0db-4927-8b80-7be6508efb24",
   "metadata": {
    "tags": []
   },
   "outputs": [
    {
     "data": {
      "text/html": [
       "<div>\n",
       "<style scoped>\n",
       "    .dataframe tbody tr th:only-of-type {\n",
       "        vertical-align: middle;\n",
       "    }\n",
       "\n",
       "    .dataframe tbody tr th {\n",
       "        vertical-align: top;\n",
       "    }\n",
       "\n",
       "    .dataframe thead th {\n",
       "        text-align: right;\n",
       "    }\n",
       "</style>\n",
       "<table border=\"1\" class=\"dataframe\">\n",
       "  <thead>\n",
       "    <tr style=\"text-align: right;\">\n",
       "      <th></th>\n",
       "      <th>tripduration</th>\n",
       "      <th>starttime</th>\n",
       "      <th>stoptime</th>\n",
       "      <th>start_station_id</th>\n",
       "      <th>start_station_name</th>\n",
       "      <th>start_station_latitude</th>\n",
       "      <th>start_station_longitude</th>\n",
       "      <th>end_station_id</th>\n",
       "      <th>end_station_name</th>\n",
       "      <th>end_station_latitude</th>\n",
       "      <th>end_station_longitude</th>\n",
       "      <th>bikeid</th>\n",
       "      <th>usertype</th>\n",
       "      <th>birth_year</th>\n",
       "      <th>gender</th>\n",
       "      <th>customer_plan</th>\n",
       "    </tr>\n",
       "  </thead>\n",
       "  <tbody>\n",
       "    <tr>\n",
       "      <th>0</th>\n",
       "      <td>2319</td>\n",
       "      <td>2016-03-09 13:08:21</td>\n",
       "      <td>2016-03-09 13:47:01</td>\n",
       "      <td>520</td>\n",
       "      <td>W 52 St &amp; 5 Ave</td>\n",
       "      <td>40.759923</td>\n",
       "      <td>-73.976485</td>\n",
       "      <td>363</td>\n",
       "      <td>West Thames St</td>\n",
       "      <td>40.708347</td>\n",
       "      <td>-74.017134</td>\n",
       "      <td>23062</td>\n",
       "      <td>Subscriber</td>\n",
       "      <td>1972.0</td>\n",
       "      <td>male</td>\n",
       "      <td>NaN</td>\n",
       "    </tr>\n",
       "    <tr>\n",
       "      <th>1</th>\n",
       "      <td>313</td>\n",
       "      <td>2015-07-09 15:42:30</td>\n",
       "      <td>2015-07-09 15:47:44</td>\n",
       "      <td>520</td>\n",
       "      <td>W 52 St &amp; 5 Ave</td>\n",
       "      <td>40.759923</td>\n",
       "      <td>-73.976485</td>\n",
       "      <td>493</td>\n",
       "      <td>W 45 St &amp; 6 Ave</td>\n",
       "      <td>40.756800</td>\n",
       "      <td>-73.982912</td>\n",
       "      <td>16909</td>\n",
       "      <td>Subscriber</td>\n",
       "      <td>1968.0</td>\n",
       "      <td>female</td>\n",
       "      <td>NaN</td>\n",
       "    </tr>\n",
       "    <tr>\n",
       "      <th>2</th>\n",
       "      <td>798</td>\n",
       "      <td>2017-04-20 18:43:59</td>\n",
       "      <td>2017-04-20 18:57:17</td>\n",
       "      <td>520</td>\n",
       "      <td>W 52 St &amp; 5 Ave</td>\n",
       "      <td>40.759923</td>\n",
       "      <td>-73.976485</td>\n",
       "      <td>3258</td>\n",
       "      <td>W 27 St &amp; 10 Ave</td>\n",
       "      <td>40.750182</td>\n",
       "      <td>-74.002184</td>\n",
       "      <td>15555</td>\n",
       "      <td>Subscriber</td>\n",
       "      <td>1991.0</td>\n",
       "      <td>male</td>\n",
       "      <td>NaN</td>\n",
       "    </tr>\n",
       "    <tr>\n",
       "      <th>3</th>\n",
       "      <td>3100</td>\n",
       "      <td>2017-04-23 15:23:46</td>\n",
       "      <td>2017-04-23 16:15:26</td>\n",
       "      <td>520</td>\n",
       "      <td>W 52 St &amp; 5 Ave</td>\n",
       "      <td>40.759923</td>\n",
       "      <td>-73.976485</td>\n",
       "      <td>281</td>\n",
       "      <td>Grand Army Plaza &amp; Central Park S</td>\n",
       "      <td>40.764397</td>\n",
       "      <td>-73.973715</td>\n",
       "      <td>20648</td>\n",
       "      <td>Customer</td>\n",
       "      <td>NaN</td>\n",
       "      <td>unknown</td>\n",
       "      <td>NaN</td>\n",
       "    </tr>\n",
       "    <tr>\n",
       "      <th>4</th>\n",
       "      <td>906</td>\n",
       "      <td>2016-01-11 18:32:33</td>\n",
       "      <td>2016-01-11 18:47:39</td>\n",
       "      <td>520</td>\n",
       "      <td>W 52 St &amp; 5 Ave</td>\n",
       "      <td>40.759923</td>\n",
       "      <td>-73.976485</td>\n",
       "      <td>3162</td>\n",
       "      <td>W 78 St &amp; Broadway</td>\n",
       "      <td>40.783400</td>\n",
       "      <td>-73.980931</td>\n",
       "      <td>15614</td>\n",
       "      <td>Subscriber</td>\n",
       "      <td>1961.0</td>\n",
       "      <td>male</td>\n",
       "      <td>NaN</td>\n",
       "    </tr>\n",
       "  </tbody>\n",
       "</table>\n",
       "</div>"
      ],
      "text/plain": [
       "   tripduration            starttime             stoptime  start_station_id  \\\n",
       "0          2319  2016-03-09 13:08:21  2016-03-09 13:47:01               520   \n",
       "1           313  2015-07-09 15:42:30  2015-07-09 15:47:44               520   \n",
       "2           798  2017-04-20 18:43:59  2017-04-20 18:57:17               520   \n",
       "3          3100  2017-04-23 15:23:46  2017-04-23 16:15:26               520   \n",
       "4           906  2016-01-11 18:32:33  2016-01-11 18:47:39               520   \n",
       "\n",
       "  start_station_name  start_station_latitude  start_station_longitude  \\\n",
       "0    W 52 St & 5 Ave               40.759923               -73.976485   \n",
       "1    W 52 St & 5 Ave               40.759923               -73.976485   \n",
       "2    W 52 St & 5 Ave               40.759923               -73.976485   \n",
       "3    W 52 St & 5 Ave               40.759923               -73.976485   \n",
       "4    W 52 St & 5 Ave               40.759923               -73.976485   \n",
       "\n",
       "   end_station_id                   end_station_name  end_station_latitude  \\\n",
       "0             363                     West Thames St             40.708347   \n",
       "1             493                    W 45 St & 6 Ave             40.756800   \n",
       "2            3258                   W 27 St & 10 Ave             40.750182   \n",
       "3             281  Grand Army Plaza & Central Park S             40.764397   \n",
       "4            3162                 W 78 St & Broadway             40.783400   \n",
       "\n",
       "   end_station_longitude  bikeid    usertype  birth_year   gender  \\\n",
       "0             -74.017134   23062  Subscriber      1972.0     male   \n",
       "1             -73.982912   16909  Subscriber      1968.0   female   \n",
       "2             -74.002184   15555  Subscriber      1991.0     male   \n",
       "3             -73.973715   20648    Customer         NaN  unknown   \n",
       "4             -73.980931   15614  Subscriber      1961.0     male   \n",
       "\n",
       "   customer_plan  \n",
       "0            NaN  \n",
       "1            NaN  \n",
       "2            NaN  \n",
       "3            NaN  \n",
       "4            NaN  "
      ]
     },
     "execution_count": 5,
     "metadata": {},
     "output_type": "execute_result"
    }
   ],
   "source": [
    "citibike = pd.read_csv(\"data/citibike-trips.csv\")\n",
    "citibike.head()"
   ]
  },
  {
   "cell_type": "code",
   "execution_count": 6,
   "id": "3a2a9d89",
   "metadata": {
    "deletable": false,
    "editable": false
   },
   "outputs": [
    {
     "data": {
      "text/html": [
       "<p><strong><pre style='display: inline;'>q1.1</pre></strong> passed! 🌈</p>"
      ],
      "text/plain": [
       "q1.1 results: All test cases passed!"
      ]
     },
     "execution_count": 6,
     "metadata": {},
     "output_type": "execute_result"
    }
   ],
   "source": [
    "grader.check(\"q1.1\")"
   ]
  },
  {
   "cell_type": "markdown",
   "id": "10209997-627e-405a-b8d5-138298d8abc9",
   "metadata": {
    "deletable": false,
    "editable": false
   },
   "source": [
    "### Question 1.2\n",
    "\n",
    "Select the columns `tripduration`, `start_station_name` and `end_station_name` from the citibike dataframe. Store your answer in the updated dataframe `citibike`. \n"
   ]
  },
  {
   "cell_type": "code",
   "execution_count": 7,
   "id": "d09f9990-4764-4207-aeb9-a928a055e7c8",
   "metadata": {
    "tags": []
   },
   "outputs": [
    {
     "data": {
      "text/html": [
       "<div>\n",
       "<style scoped>\n",
       "    .dataframe tbody tr th:only-of-type {\n",
       "        vertical-align: middle;\n",
       "    }\n",
       "\n",
       "    .dataframe tbody tr th {\n",
       "        vertical-align: top;\n",
       "    }\n",
       "\n",
       "    .dataframe thead th {\n",
       "        text-align: right;\n",
       "    }\n",
       "</style>\n",
       "<table border=\"1\" class=\"dataframe\">\n",
       "  <thead>\n",
       "    <tr style=\"text-align: right;\">\n",
       "      <th></th>\n",
       "      <th>tripduration</th>\n",
       "      <th>start_station_name</th>\n",
       "      <th>end_station_name</th>\n",
       "    </tr>\n",
       "  </thead>\n",
       "  <tbody>\n",
       "    <tr>\n",
       "      <th>0</th>\n",
       "      <td>2319</td>\n",
       "      <td>W 52 St &amp; 5 Ave</td>\n",
       "      <td>West Thames St</td>\n",
       "    </tr>\n",
       "    <tr>\n",
       "      <th>1</th>\n",
       "      <td>313</td>\n",
       "      <td>W 52 St &amp; 5 Ave</td>\n",
       "      <td>W 45 St &amp; 6 Ave</td>\n",
       "    </tr>\n",
       "    <tr>\n",
       "      <th>2</th>\n",
       "      <td>798</td>\n",
       "      <td>W 52 St &amp; 5 Ave</td>\n",
       "      <td>W 27 St &amp; 10 Ave</td>\n",
       "    </tr>\n",
       "    <tr>\n",
       "      <th>3</th>\n",
       "      <td>3100</td>\n",
       "      <td>W 52 St &amp; 5 Ave</td>\n",
       "      <td>Grand Army Plaza &amp; Central Park S</td>\n",
       "    </tr>\n",
       "    <tr>\n",
       "      <th>4</th>\n",
       "      <td>906</td>\n",
       "      <td>W 52 St &amp; 5 Ave</td>\n",
       "      <td>W 78 St &amp; Broadway</td>\n",
       "    </tr>\n",
       "  </tbody>\n",
       "</table>\n",
       "</div>"
      ],
      "text/plain": [
       "   tripduration start_station_name                   end_station_name\n",
       "0          2319    W 52 St & 5 Ave                     West Thames St\n",
       "1           313    W 52 St & 5 Ave                    W 45 St & 6 Ave\n",
       "2           798    W 52 St & 5 Ave                   W 27 St & 10 Ave\n",
       "3          3100    W 52 St & 5 Ave  Grand Army Plaza & Central Park S\n",
       "4           906    W 52 St & 5 Ave                 W 78 St & Broadway"
      ]
     },
     "execution_count": 7,
     "metadata": {},
     "output_type": "execute_result"
    }
   ],
   "source": [
    "citibike = citibike.loc[: , ['tripduration', 'start_station_name', 'end_station_name']]\n",
    "citibike.head()"
   ]
  },
  {
   "cell_type": "code",
   "execution_count": 8,
   "id": "ab2d4cf7",
   "metadata": {
    "deletable": false,
    "editable": false
   },
   "outputs": [
    {
     "data": {
      "text/html": [
       "<p><strong><pre style='display: inline;'>q1.2</pre></strong> passed! 🌟</p>"
      ],
      "text/plain": [
       "q1.2 results: All test cases passed!"
      ]
     },
     "execution_count": 8,
     "metadata": {},
     "output_type": "execute_result"
    }
   ],
   "source": [
    "grader.check(\"q1.2\")"
   ]
  },
  {
   "cell_type": "markdown",
   "id": "09e9a42c-4f80-4269-999a-60daa1ed3332",
   "metadata": {
    "deletable": false,
    "editable": false
   },
   "source": [
    "### Question 1.3\n",
    "\n",
    "Find the average duration of a trip that lasted more than 30 minutes. Store your answer in the variable `above_30_mins` rounded upto two decimal points. "
   ]
  },
  {
   "cell_type": "code",
   "execution_count": 15,
   "id": "f3476c90-a0ca-4976-a8a5-a0090656fd7c",
   "metadata": {
    "tags": []
   },
   "outputs": [
    {
     "data": {
      "text/plain": [
       "np.float64(4117.84)"
      ]
     },
     "execution_count": 15,
     "metadata": {},
     "output_type": "execute_result"
    }
   ],
   "source": [
    "above_30_mins_df = citibike.query('tripduration > 1800')\n",
    "above_30_mins = np.mean(above_30_mins_df.loc[:, 'tripduration'])\n",
    "above_30_mins = round(above_30_mins, 2)\n",
    "above_30_mins"
   ]
  },
  {
   "cell_type": "code",
   "execution_count": 17,
   "id": "ab66beb6-a6d4-4485-9b35-439a3e7ddf82",
   "metadata": {},
   "outputs": [
    {
     "data": {
      "text/plain": [
       "np.float64(4117.84)"
      ]
     },
     "execution_count": 17,
     "metadata": {},
     "output_type": "execute_result"
    }
   ],
   "source": [
    "mask = citibike['tripduration'] > 1800\n",
    "above_30_mins_df = citibike[mask]\n",
    "above_30_mins = np.mean(above_30_mins_df.loc[:, 'tripduration'])\n",
    "above_30_mins = round(above_30_mins, 2)\n",
    "above_30_mins"
   ]
  },
  {
   "cell_type": "code",
   "execution_count": 16,
   "id": "bbc22323",
   "metadata": {
    "deletable": false,
    "editable": false
   },
   "outputs": [
    {
     "data": {
      "text/html": [
       "<p><strong><pre style='display: inline;'>q1.3</pre></strong> passed! 🍀</p>"
      ],
      "text/plain": [
       "q1.3 results: All test cases passed!"
      ]
     },
     "execution_count": 16,
     "metadata": {},
     "output_type": "execute_result"
    }
   ],
   "source": [
    "grader.check(\"q1.3\")"
   ]
  },
  {
   "cell_type": "markdown",
   "id": "9e9da08a-c3b7-4c04-a9fd-7a19cd4e44ab",
   "metadata": {
    "deletable": false,
    "editable": false
   },
   "source": [
    "### Question 1.4\n",
    "\n",
    "Find the number of trips that started at the **W 78 St & Broadway** station. Store your answer in the variable `num_trips`. \n"
   ]
  },
  {
   "cell_type": "code",
   "execution_count": 19,
   "id": "bc85a57e-0731-48a5-84a3-c6ddda83f3ff",
   "metadata": {
    "tags": []
   },
   "outputs": [
    {
     "data": {
      "text/plain": [
       "362"
      ]
     },
     "execution_count": 19,
     "metadata": {},
     "output_type": "execute_result"
    }
   ],
   "source": [
    "trips = citibike.query('start_station_name == \"W 78 St & Broadway\"')\n",
    "num_trips = trips.shape[0]\n",
    "num_trips"
   ]
  },
  {
   "cell_type": "code",
   "execution_count": 21,
   "id": "5a99dd6c-9ba9-4c9c-a940-363095c35f3c",
   "metadata": {},
   "outputs": [
    {
     "data": {
      "text/plain": [
       "362"
      ]
     },
     "execution_count": 21,
     "metadata": {},
     "output_type": "execute_result"
    }
   ],
   "source": [
    "mask = citibike['start_station_name'] == \"W 78 St & Broadway\"\n",
    "trips = citibike[mask]\n",
    "num_trips = trips.shape[0]\n",
    "num_trips"
   ]
  },
  {
   "cell_type": "code",
   "execution_count": 20,
   "id": "2398a0cc",
   "metadata": {
    "deletable": false,
    "editable": false
   },
   "outputs": [
    {
     "data": {
      "text/html": [
       "<p><strong><pre style='display: inline;'>q1.4</pre></strong> passed! 🍀</p>"
      ],
      "text/plain": [
       "q1.4 results: All test cases passed!"
      ]
     },
     "execution_count": 20,
     "metadata": {},
     "output_type": "execute_result"
    }
   ],
   "source": [
    "grader.check(\"q1.4\")"
   ]
  },
  {
   "cell_type": "markdown",
   "id": "9f8f928c-5cca-44f6-bcfe-b2cd134cd743",
   "metadata": {
    "deletable": false,
    "editable": false
   },
   "source": [
    "### Question 1.5\n",
    "\n",
    "Find the station name where the most trips ended (Assume there are no ties). Store your answer in the variable `crowded_station` of type `str`."
   ]
  },
  {
   "cell_type": "code",
   "execution_count": 30,
   "id": "5803277c-1e27-4aba-a0c4-6afd1f326d48",
   "metadata": {
    "tags": []
   },
   "outputs": [
    {
     "data": {
      "text/plain": [
       "'E 17 St & Broadway'"
      ]
     },
     "execution_count": 30,
     "metadata": {},
     "output_type": "execute_result"
    }
   ],
   "source": [
    "count_trips = citibike.loc[: , ['tripduration', 'end_station_name']].groupby('end_station_name', as_index=False).count()\n",
    "sorted_count_trips = count_trips.sort_values('tripduration', ascending=False)\n",
    "first_row = sorted_count_trips.iloc[0]\n",
    "crowded_station = first_row.loc['end_station_name'] # sorted_count_trips.iloc[0, 0]\n",
    "crowded_station"
   ]
  },
  {
   "cell_type": "code",
   "execution_count": null,
   "id": "1703d701",
   "metadata": {
    "deletable": false,
    "editable": false
   },
   "outputs": [],
   "source": [
    "grader.check(\"q1.5\")"
   ]
  },
  {
   "cell_type": "markdown",
   "id": "58277edd-d966-4f27-a9a1-7dff6b28f361",
   "metadata": {
    "deletable": false,
    "editable": false
   },
   "source": [
    "### Question 1.6\n",
    "\n",
    "Find the number of trips for which the trip duration ending at the `crowded_station` was at least 500 seconds. Store your answer in the variable `num_trips`. "
   ]
  },
  {
   "cell_type": "code",
   "execution_count": null,
   "id": "6df10a04-fd0a-408b-aa2b-7fe8a9c04b8d",
   "metadata": {},
   "outputs": [],
   "source": []
  },
  {
   "cell_type": "code",
   "execution_count": null,
   "id": "f26dc1c8-01a3-413d-b6fc-a7d61342eefe",
   "metadata": {},
   "outputs": [],
   "source": []
  },
  {
   "cell_type": "code",
   "execution_count": null,
   "id": "74736bad-2337-42a4-8987-f9efdd4e515f",
   "metadata": {},
   "outputs": [],
   "source": []
  },
  {
   "cell_type": "code",
   "execution_count": null,
   "id": "1f5d7903-4741-4821-964e-3e0e1b9222de",
   "metadata": {},
   "outputs": [],
   "source": []
  },
  {
   "cell_type": "code",
   "execution_count": null,
   "id": "e22b1bf7-b133-42dd-8027-7ce24806355f",
   "metadata": {},
   "outputs": [],
   "source": []
  },
  {
   "cell_type": "code",
   "execution_count": 32,
   "id": "1c01e3d5-dc9a-49a6-bcc7-3dab22c691c4",
   "metadata": {
    "tags": []
   },
   "outputs": [
    {
     "name": "stderr",
     "output_type": "stream",
     "text": [
      "/tmp/ipykernel_430941/319832472.py:5: UserWarning: Boolean Series key will be reindexed to match DataFrame index.\n",
      "  crowded_station_df = crowded_station_df[mask2]\n"
     ]
    },
    {
     "data": {
      "text/plain": [
       "2351"
      ]
     },
     "execution_count": 32,
     "metadata": {},
     "output_type": "execute_result"
    }
   ],
   "source": [
    "# Step 1: Filter the rows where a trip ended at the crowded_station\n",
    "mask1 = citibike['end_station_name'] == crowded_station\n",
    "crowded_station_df = citibike[mask1]\n",
    "\n",
    "# Step2: Filter the rows from Step1, where a trip duration is atleast 500 seconds\n",
    "mask2 = citibike['tripduration'] >= 500\n",
    "crowded_station_df = crowded_station_df[mask2]\n",
    "\n",
    "# Step 3: Find the number of rows in the final dataframe\n",
    "num_trips = crowded_station_df.shape[0]\n",
    "num_trips"
   ]
  },
  {
   "cell_type": "code",
   "execution_count": 34,
   "id": "7e661d84-5a24-4252-a936-0d0e60bd2d05",
   "metadata": {},
   "outputs": [
    {
     "data": {
      "text/plain": [
       "2344"
      ]
     },
     "execution_count": 34,
     "metadata": {},
     "output_type": "execute_result"
    }
   ],
   "source": [
    "crowded_station_df = citibike.query('end_station_name == @crowded_station') # Step 1\n",
    "crowded_station_df = crowded_station_df.query('tripduration > 500') # Step 2\n",
    "num_trips = crowded_station_df.shape[0] # Step 3\n",
    "num_trips"
   ]
  },
  {
   "cell_type": "code",
   "execution_count": null,
   "id": "1078d003-e7f5-40a8-87d9-acea0da89cdf",
   "metadata": {},
   "outputs": [],
   "source": []
  },
  {
   "cell_type": "code",
   "execution_count": null,
   "id": "2f8f04eb-48da-4117-b105-56fa08746eb4",
   "metadata": {},
   "outputs": [],
   "source": []
  },
  {
   "cell_type": "code",
   "execution_count": 33,
   "id": "2aa6f4bb",
   "metadata": {
    "deletable": false,
    "editable": false
   },
   "outputs": [
    {
     "data": {
      "text/html": [
       "<p><strong><pre style='display: inline;'>q1.6</pre></strong> passed! ✨</p>"
      ],
      "text/plain": [
       "q1.6 results: All test cases passed!"
      ]
     },
     "execution_count": 33,
     "metadata": {},
     "output_type": "execute_result"
    }
   ],
   "source": [
    "grader.check(\"q1.6\")"
   ]
  },
  {
   "cell_type": "markdown",
   "id": "ed96748c-680f-4a1e-8a23-af25e5290afb",
   "metadata": {
    "deletable": false,
    "editable": false
   },
   "source": [
    "### Question 1.7\n",
    "\n",
    "Find the number of stations for which the average duration ending at that station was at least 2000 seconds. Store your answer in the variable `num_stations`. "
   ]
  },
  {
   "cell_type": "code",
   "execution_count": null,
   "id": "5f1eb24a-25e7-424e-bf9b-2e5c909943dc",
   "metadata": {
    "tags": []
   },
   "outputs": [],
   "source": [
    "num_stations = ...\n",
    "num_stations"
   ]
  },
  {
   "cell_type": "code",
   "execution_count": null,
   "id": "d42f473a",
   "metadata": {
    "deletable": false,
    "editable": false
   },
   "outputs": [],
   "source": [
    "grader.check(\"q1.7\")"
   ]
  },
  {
   "cell_type": "markdown",
   "id": "300b5a03-5b8a-4f8c-9b5c-4c81d6f77cb9",
   "metadata": {},
   "source": [
    "# 2. SFA Basketball\n",
    "\n",
    "The **sfa** table describes the `name` (string), `position` (string), `class` (string), and `height` (int) of SFA basketball\n",
    "players in the 2024-125 season. Please note, this is just a synthetic data. "
   ]
  },
  {
   "cell_type": "code",
   "execution_count": null,
   "id": "986fba8f-bd67-426e-86ef-817cc5de4c92",
   "metadata": {},
   "outputs": [],
   "source": [
    "sfa = pd.read_csv('data/sfa_basketball.csv')\n",
    "sfa.head()"
   ]
  },
  {
   "cell_type": "markdown",
   "id": "ed68af12-b52a-4cf4-a9af-ed79f4ba7f1b",
   "metadata": {
    "deletable": false,
    "editable": false
   },
   "source": [
    "### Question 2.1\n",
    "\n",
    "Find the proportion of all players whose position is **Forward**. Store you answer in variable `fwd_prop` rounded upto two decimal points. "
   ]
  },
  {
   "cell_type": "code",
   "execution_count": null,
   "id": "7266f4ce-cf09-4bfe-8f19-396daab7cd78",
   "metadata": {
    "tags": []
   },
   "outputs": [],
   "source": [
    "fwd_prop = ...\n",
    "fwd_prop"
   ]
  },
  {
   "cell_type": "code",
   "execution_count": null,
   "id": "cbfdaedf",
   "metadata": {
    "deletable": false,
    "editable": false
   },
   "outputs": [],
   "source": [
    "grader.check(\"q2.1\")"
   ]
  },
  {
   "cell_type": "markdown",
   "id": "694dd598-39e1-48c8-bd83-49d07621753c",
   "metadata": {
    "deletable": false,
    "editable": false
   },
   "source": [
    "### Question 2.2\n",
    "\n",
    "Find the name of the shortest **freshman**. Assume that one is shorter than the rest. Store your answer in the variable `shortest` of type `str`\n"
   ]
  },
  {
   "cell_type": "code",
   "execution_count": null,
   "id": "6c581aca-a110-4d84-8d21-ae3275a76b02",
   "metadata": {
    "tags": []
   },
   "outputs": [],
   "source": [
    "shortest = ...\n",
    "shortest"
   ]
  },
  {
   "cell_type": "code",
   "execution_count": null,
   "id": "ed0ee96a",
   "metadata": {
    "deletable": false,
    "editable": false
   },
   "outputs": [],
   "source": [
    "grader.check(\"q2.2\")"
   ]
  },
  {
   "cell_type": "markdown",
   "id": "999a4497-4c56-4b61-ae7f-c85e8cb1195d",
   "metadata": {
    "deletable": false,
    "editable": false
   },
   "source": [
    "### Question 2.3\n",
    "\n",
    "Find whether there are at least 3/4 of players that are atleast 80 inches taller. The result should be True or False and stored in the variable `percentile_75th`."
   ]
  },
  {
   "cell_type": "code",
   "execution_count": null,
   "id": "8dad6a95-0d8d-4196-bcb2-6f98cc649e4b",
   "metadata": {
    "tags": []
   },
   "outputs": [],
   "source": [
    "percentile_75th = ...\n",
    "percentile_75th"
   ]
  },
  {
   "cell_type": "code",
   "execution_count": null,
   "id": "628fa52c",
   "metadata": {
    "deletable": false,
    "editable": false
   },
   "outputs": [],
   "source": [
    "grader.check(\"q2.3\")"
   ]
  },
  {
   "cell_type": "markdown",
   "id": "5023ac58-87c1-4172-849d-064a4dcd3ee7",
   "metadata": {
    "deletable": false,
    "editable": false
   },
   "source": [
    "### Question 2.4\n",
    "\n",
    "Find a pandas series of all positions, sorted in increasing order of the average height for all players in that position. Store your answer in variable `sorted_pos` of type `pandas.Series`\n"
   ]
  },
  {
   "cell_type": "code",
   "execution_count": null,
   "id": "cff6c36f-0dc4-40fd-9c8c-d03a83d5eecd",
   "metadata": {
    "tags": []
   },
   "outputs": [],
   "source": [
    "sorted_pos = ...\n",
    "sorted_pos "
   ]
  },
  {
   "cell_type": "code",
   "execution_count": null,
   "id": "04f2ebf8",
   "metadata": {
    "deletable": false,
    "editable": false
   },
   "outputs": [],
   "source": [
    "grader.check(\"q2.4\")"
   ]
  }
 ],
 "metadata": {
  "kernelspec": {
   "display_name": "Python 3 (ipykernel)",
   "language": "python",
   "name": "python3"
  },
  "language_info": {
   "codemirror_mode": {
    "name": "ipython",
    "version": 3
   },
   "file_extension": ".py",
   "mimetype": "text/x-python",
   "name": "python",
   "nbconvert_exporter": "python",
   "pygments_lexer": "ipython3",
   "version": "3.12.6"
  },
  "otter": {
   "OK_FORMAT": true,
   "tests": {
    "q1.1": {
     "name": "q1.1",
     "points": null,
     "suites": [
      {
       "cases": [
        {
         "code": ">>> citibike.shape == (473556, 16)\nTrue",
         "hidden": false,
         "locked": false
        }
       ],
       "scored": true,
       "setup": "",
       "teardown": "",
       "type": "doctest"
      }
     ]
    },
    "q1.2": {
     "name": "q1.2",
     "points": null,
     "suites": [
      {
       "cases": [
        {
         "code": ">>> citibike.shape == (473556, 3)\nTrue",
         "hidden": false,
         "locked": false
        }
       ],
       "scored": true,
       "setup": "",
       "teardown": "",
       "type": "doctest"
      }
     ]
    },
    "q1.3": {
     "name": "q1.3",
     "points": null,
     "suites": [
      {
       "cases": [
        {
         "code": ">>> int(above_30_mins) == 4117\nTrue",
         "hidden": false,
         "locked": false
        }
       ],
       "scored": true,
       "setup": "",
       "teardown": "",
       "type": "doctest"
      }
     ]
    },
    "q1.4": {
     "name": "q1.4",
     "points": null,
     "suites": [
      {
       "cases": [
        {
         "code": ">>> num_trips == 362\nTrue",
         "hidden": false,
         "locked": false
        }
       ],
       "scored": true,
       "setup": "",
       "teardown": "",
       "type": "doctest"
      }
     ]
    },
    "q1.5": {
     "name": "q1.5",
     "points": null,
     "suites": [
      {
       "cases": [
        {
         "code": ">>> crowded_station == 'E 17 St & Broadway'\nTrue",
         "hidden": false,
         "locked": false
        }
       ],
       "scored": true,
       "setup": "",
       "teardown": "",
       "type": "doctest"
      }
     ]
    },
    "q1.6": {
     "name": "q1.6",
     "points": null,
     "suites": [
      {
       "cases": [
        {
         "code": ">>> num_trips == 2351\nTrue",
         "hidden": false,
         "locked": false
        }
       ],
       "scored": true,
       "setup": "",
       "teardown": "",
       "type": "doctest"
      }
     ]
    },
    "q1.7": {
     "name": "q1.7",
     "points": null,
     "suites": [
      {
       "cases": [
        {
         "code": ">>> num_stations == 40\nTrue",
         "hidden": false,
         "locked": false
        }
       ],
       "scored": true,
       "setup": "",
       "teardown": "",
       "type": "doctest"
      }
     ]
    },
    "q2.1": {
     "name": "q2.1",
     "points": null,
     "suites": [
      {
       "cases": [
        {
         "code": ">>> fwd_prop == 0.36\nTrue",
         "hidden": false,
         "locked": false
        }
       ],
       "scored": true,
       "setup": "",
       "teardown": "",
       "type": "doctest"
      }
     ]
    },
    "q2.2": {
     "name": "q2.2",
     "points": null,
     "suites": [
      {
       "cases": [
        {
         "code": ">>> shortest == 'Lauryn Stockin'\nTrue",
         "hidden": false,
         "locked": false
        }
       ],
       "scored": true,
       "setup": "",
       "teardown": "",
       "type": "doctest"
      }
     ]
    },
    "q2.3": {
     "name": "q2.3",
     "points": null,
     "suites": [
      {
       "cases": [
        {
         "code": ">>> percentile_75th == False\nTrue",
         "hidden": false,
         "locked": false
        }
       ],
       "scored": true,
       "setup": "",
       "teardown": "",
       "type": "doctest"
      }
     ]
    },
    "q2.4": {
     "name": "q2.4",
     "points": null,
     "suites": [
      {
       "cases": [
        {
         "code": ">>> sorted_pos.iloc[0] == 'Guard' and sorted_pos.iloc[-1] == 'Center'\nTrue",
         "hidden": false,
         "locked": false
        }
       ],
       "scored": true,
       "setup": "",
       "teardown": "",
       "type": "doctest"
      }
     ]
    }
   }
  }
 },
 "nbformat": 4,
 "nbformat_minor": 5
}
