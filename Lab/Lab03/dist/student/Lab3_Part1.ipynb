{
 "cells": [
  {
   "cell_type": "code",
   "execution_count": null,
   "id": "c08f30a9",
   "metadata": {
    "deletable": false,
    "editable": false
   },
   "outputs": [],
   "source": [
    "# Initialize Otter\n",
    "import otter\n",
    "grader = otter.Notebook(\"Lab3_Part1.ipynb\")"
   ]
  },
  {
   "cell_type": "code",
   "execution_count": null,
   "id": "014dca9d-9937-49a5-b54b-ecaa00e4fe23",
   "metadata": {},
   "outputs": [],
   "source": [
    "import pandas as pd\n",
    "import numpy as np"
   ]
  },
  {
   "cell_type": "markdown",
   "id": "8fb8cc27-5249-4517-9b34-f8457e7f5b04",
   "metadata": {},
   "source": [
    "**Due data:  10 March by 11:59 pm**\n",
    "\n",
    "Rubric: \n",
    "| Question | Points | \n",
    "| ---- | --- |\n",
    "| 1(a) | 5 |\n",
    "| 1(b) | 5 |\n",
    "| 1(c) | 10 |\n",
    "| 1(d) | 10 |\n",
    "| 1(e) | 10 |\n",
    "| 1(f) | 10 |\n",
    "| Total | 50 |"
   ]
  },
  {
   "cell_type": "markdown",
   "id": "e63830eb-8910-48e1-9f30-add5bf0ebbcb",
   "metadata": {},
   "source": [
    "## Instructions: \n",
    "\n",
    "1. Upload this jupyter lab (.ipynb) file of your solutions for the first part and upload them together with the images of the second part’s written solutions to D2L as single zipped folder.\n",
    "2.  This lab assignment is due on the date and time specified above. Consult the syllabus for late penalty.\n",
    "3. This assignment is restricted to individual effort. As per our syllabus, the use of AI is prohibited. You may not receive help from any other person except the instructor, the TA, or the AARC (help from the TA and AARC must be well documented!).\n",
    "4. Any resource used (other than the instructor or the course text) must be documented in a separate README.txt file detailing the source and describing exactly what was learned and how that information was used in your assignment. Submissions will be severely penalized if copied in part or whole from any source.\n",
    "5. If you need help, visit your instructor during his posted office hours. If your schedule cannot accommodate any of these times, then email your instructor to schedule a different time..\n",
    "6. Passing the autograder test does not guarantee that your answer is correct. Be sure to answer questions carefully, as the instructor has additional hidden tests. Full points will only be awarded if your answers pass these tests during grading.\n",
    "7. If you encounter any difficulties, don't hesitate to contact me for assistance."
   ]
  },
  {
   "cell_type": "markdown",
   "id": "7e246ea8-8992-4750-94a0-101ea2d299be",
   "metadata": {},
   "source": [
    "**Objectives:** To practice and learn about the following topics:\n",
    "\n",
    "1. Tables"
   ]
  },
  {
   "cell_type": "markdown",
   "id": "de6b84ca-dcda-4882-b5fd-90e3d97b7db1",
   "metadata": {},
   "source": [
    "# 1. Tables"
   ]
  },
  {
   "cell_type": "markdown",
   "id": "225f4e88-3fc0-426c-a009-684e4c221068",
   "metadata": {},
   "source": [
    "### Question 1\n",
    "\n",
    "A table named `instructor` contains one row for each SFA faculty member and these columns:\n",
    "- **Dept**: a string, the department of the faculty member\n",
    "- **Name**: a string, the first name fo the faculty member\n",
    "- **Designation**: a string, one of: Lecturer, Assitant Professor, Associate Professor, or Professor\n",
    "- **Salary**: an int, last year's salary paid by the university\n",
    "\n",
    "Write a python code to answer the following questions: "
   ]
  },
  {
   "cell_type": "code",
   "execution_count": null,
   "id": "f9eb0268-1121-4a63-9ef1-a9b3acc50b16",
   "metadata": {},
   "outputs": [],
   "source": [
    "instructor = pd.read_csv('data/instructor.csv')\n",
    "instructor.head(3)"
   ]
  },
  {
   "cell_type": "markdown",
   "id": "a4e7dc03-845e-42df-9768-e09a16382d0a",
   "metadata": {
    "deletable": false,
    "editable": false
   },
   "source": [
    "### Question 1(a) [5 points]\n",
    "The total salary amount paid to all faculty by the university last year. "
   ]
  },
  {
   "cell_type": "code",
   "execution_count": null,
   "id": "7789f039-b333-43d0-81ad-b440fead7ec4",
   "metadata": {
    "tags": []
   },
   "outputs": [],
   "source": [
    "your_ans = ...\n",
    "your_ans"
   ]
  },
  {
   "cell_type": "code",
   "execution_count": null,
   "id": "faa8220e",
   "metadata": {
    "deletable": false,
    "editable": false
   },
   "outputs": [],
   "source": [
    "grader.check(\"q1(a)\")"
   ]
  },
  {
   "cell_type": "markdown",
   "id": "6f5185ff-3dfc-495e-a3e2-da743c85a62e",
   "metadata": {
    "deletable": false,
    "editable": false
   },
   "source": [
    "### Question 1(b) [5 points]\n",
    "\n",
    "The name of the second highest paid faculty member. (Assume no two faculty have the same salary)"
   ]
  },
  {
   "cell_type": "code",
   "execution_count": null,
   "id": "99167282-42f3-445a-96ca-679bb08c5064",
   "metadata": {
    "tags": []
   },
   "outputs": [],
   "source": [
    "sorted_instructor = instructor...(..., ascending = ...) \n",
    "second_row = ...\n",
    "your_ans = ...\n",
    "your_ans"
   ]
  },
  {
   "cell_type": "code",
   "execution_count": null,
   "id": "a9f2f095",
   "metadata": {
    "deletable": false,
    "editable": false
   },
   "outputs": [],
   "source": [
    "grader.check(\"q1(b)\")"
   ]
  },
  {
   "cell_type": "markdown",
   "id": "74306739-d462-4498-af05-a0ea078a2475",
   "metadata": {
    "deletable": false,
    "editable": false
   },
   "source": [
    "### Question 1(c) [10 points]\n",
    "\n",
    "The name of the department that has the most lecturers. (Assume one department has more than the rest)"
   ]
  },
  {
   "cell_type": "code",
   "execution_count": null,
   "id": "d50dce8a-43a1-4070-8ed7-00d479bd18d7",
   "metadata": {
    "tags": []
   },
   "outputs": [],
   "source": [
    "your_ans = ...\n",
    "your_ans"
   ]
  },
  {
   "cell_type": "code",
   "execution_count": null,
   "id": "e06e3ef6",
   "metadata": {
    "deletable": false,
    "editable": false
   },
   "outputs": [],
   "source": [
    "grader.check(\"q1(c)\")"
   ]
  },
  {
   "cell_type": "markdown",
   "id": "f413a4e7-6028-4bd7-b859-ffa22d70d0c9",
   "metadata": {
    "deletable": false,
    "editable": false
   },
   "source": [
    "### Question 1(d) [10 points]\n",
    "\n",
    "The average faculty salary after all instructors get a 10% raise in the present year. Round your answer upto two decimal points. "
   ]
  },
  {
   "cell_type": "code",
   "execution_count": null,
   "id": "5daeec31-c90e-4cdd-91a8-3275a2cd95d1",
   "metadata": {
    "tags": []
   },
   "outputs": [],
   "source": [
    "your_ans = ...\n",
    "your_ans"
   ]
  },
  {
   "cell_type": "code",
   "execution_count": null,
   "id": "06ef06d0",
   "metadata": {
    "deletable": false,
    "editable": false
   },
   "outputs": [],
   "source": [
    "grader.check(\"q1(d)\")"
   ]
  },
  {
   "cell_type": "markdown",
   "id": "37a258e8-c63e-448f-963f-9adc905c1a5c",
   "metadata": {
    "deletable": false,
    "editable": false
   },
   "source": [
    "### Question 1(e) [10 points]\n",
    "\n",
    "Find the departments which have both Lecturers and Professors. Your answer should return a **numpy array** of departments.\n",
    "\n",
    "Hint: \n",
    "Use `np.unique` to find the unique elements in a numpy array or pandas series. <br>\n",
    "For eg, see the cell below: "
   ]
  },
  {
   "cell_type": "code",
   "execution_count": null,
   "id": "aa461bcb-55ce-4435-a17e-462053b270ff",
   "metadata": {
    "deletable": false,
    "editable": false
   },
   "outputs": [],
   "source": [
    "# Example to understand how np.unique() works\n",
    "fruits = pd.Series(['Apple', 'Apple', 'Banana', 'Banana', 'Banana'])\n",
    "np.unique(fruits)"
   ]
  },
  {
   "cell_type": "code",
   "execution_count": null,
   "id": "6c676432-d685-4565-bf0f-4e0098df2566",
   "metadata": {
    "tags": []
   },
   "outputs": [],
   "source": [
    "your_ans = ...\n",
    "your_ans"
   ]
  },
  {
   "cell_type": "code",
   "execution_count": null,
   "id": "5b5e6206",
   "metadata": {
    "deletable": false,
    "editable": false
   },
   "outputs": [],
   "source": [
    "grader.check(\"q1(e)\")"
   ]
  },
  {
   "cell_type": "markdown",
   "id": "89ec6951-dccc-4b17-a9c1-7218ef51dfe3",
   "metadata": {
    "deletable": false,
    "editable": false
   },
   "source": [
    "### Question 1(f) [10 points]\n",
    "\n",
    "Find the absolute difference between a department's average **Lecturer** salary and its average **Professor** salary. Round the absolute differences upto two decimal points. Your answer should be a **pandas series** where labels are the department names and values are the absolute difference between the average Lecturers and Professors for that department. \n",
    "\n",
    "If a department don't have both, then simply drop those departments. \n",
    "\n",
    "Hint:\n",
    "1. Use pivot table\n",
    "2. For absolute difference, look into the numpy method `absolute` online here: [np.absolute documentation](https://numpy.org/doc/stable/reference/generated/numpy.absolute.html)\n",
    "3. To drop any row with missing value, simply call `dropna()` method. For eg, see the cell below"
   ]
  },
  {
   "cell_type": "code",
   "execution_count": null,
   "id": "01864c25-ac99-4d7f-8b30-27463e2287a2",
   "metadata": {
    "deletable": false,
    "editable": false
   },
   "outputs": [],
   "source": [
    "sample_df = pd.DataFrame({'Name': ['Kevin', 'Tyler', 'Victoria', 'Angela'],\n",
    "                          'Age' : [20,np.nan,np.nan, 40]\n",
    "                         })\n",
    "sample_df"
   ]
  },
  {
   "cell_type": "markdown",
   "id": "4d028c7e-f335-430e-9629-4fdb0e17037a",
   "metadata": {
    "deletable": false,
    "editable": false
   },
   "source": [
    "As you can notice, that the Tyler and Victoria has missing ages in it's row. To simply drop those two rows, we can do the following: "
   ]
  },
  {
   "cell_type": "code",
   "execution_count": null,
   "id": "2c7d7cae-173b-4cf1-80a1-ad87942e0527",
   "metadata": {
    "deletable": false,
    "editable": false
   },
   "outputs": [],
   "source": [
    "# Example to understand how to drop rows with missing values\n",
    "sample_df = sample_df.dropna()\n",
    "sample_df"
   ]
  },
  {
   "cell_type": "code",
   "execution_count": null,
   "id": "b11ba4b4-d783-4221-ab5f-c15263aba90d",
   "metadata": {
    "tags": []
   },
   "outputs": [],
   "source": [
    "your_ans = ...\n",
    "your_ans"
   ]
  },
  {
   "cell_type": "code",
   "execution_count": null,
   "id": "35711e70",
   "metadata": {
    "deletable": false,
    "editable": false
   },
   "outputs": [],
   "source": [
    "grader.check(\"q1(f)\")"
   ]
  }
 ],
 "metadata": {
  "kernelspec": {
   "display_name": "Python 3 (ipykernel)",
   "language": "python",
   "name": "python3"
  },
  "language_info": {
   "codemirror_mode": {
    "name": "ipython",
    "version": 3
   },
   "file_extension": ".py",
   "mimetype": "text/x-python",
   "name": "python",
   "nbconvert_exporter": "python",
   "pygments_lexer": "ipython3",
   "version": "3.12.6"
  },
  "otter": {
   "OK_FORMAT": true,
   "tests": {
    "q1(a)": {
     "name": "q1(a)",
     "points": null,
     "suites": [
      {
       "cases": [
        {
         "code": ">>> your_ans.item() == 53181784\nTrue",
         "hidden": false,
         "locked": false
        }
       ],
       "scored": true,
       "setup": "",
       "teardown": "",
       "type": "doctest"
      }
     ]
    },
    "q1(b)": {
     "name": "q1(b)",
     "points": null,
     "suites": [
      {
       "cases": [
        {
         "code": ">>> your_ans == 'Sienna'\nTrue",
         "hidden": false,
         "locked": false
        }
       ],
       "scored": true,
       "setup": "",
       "teardown": "",
       "type": "doctest"
      }
     ]
    },
    "q1(c)": {
     "name": "q1(c)",
     "points": null,
     "suites": [
      {
       "cases": [
        {
         "code": ">>> your_ans == 'History'\nTrue",
         "hidden": false,
         "locked": false
        }
       ],
       "scored": true,
       "setup": "",
       "teardown": "",
       "type": "doctest"
      }
     ]
    },
    "q1(d)": {
     "name": "q1(d)",
     "points": null,
     "suites": [
      {
       "cases": [
        {
         "code": ">>> your_ans.item() == 116999.92\nTrue",
         "hidden": false,
         "locked": false
        }
       ],
       "scored": true,
       "setup": "",
       "teardown": "",
       "type": "doctest"
      }
     ]
    },
    "q1(e)": {
     "name": "q1(e)",
     "points": null,
     "suites": [
      {
       "cases": [
        {
         "code": ">>> your_ans.shape[0] == 19\nTrue",
         "hidden": false,
         "locked": false
        },
        {
         "code": ">>> ('CompSci' not in your_ans) == True\nTrue",
         "hidden": false,
         "locked": false
        }
       ],
       "scored": true,
       "setup": "",
       "teardown": "",
       "type": "doctest"
      }
     ]
    },
    "q1(f)": {
     "name": "q1(f)",
     "points": null,
     "suites": [
      {
       "cases": [
        {
         "code": ">>> len(your_ans) == 19\nTrue",
         "hidden": false,
         "locked": false
        },
        {
         "code": ">>> np.sort(your_ans)[0].item() == 261.08\nTrue",
         "hidden": false,
         "locked": false
        }
       ],
       "scored": true,
       "setup": "",
       "teardown": "",
       "type": "doctest"
      }
     ]
    }
   }
  }
 },
 "nbformat": 4,
 "nbformat_minor": 5
}
