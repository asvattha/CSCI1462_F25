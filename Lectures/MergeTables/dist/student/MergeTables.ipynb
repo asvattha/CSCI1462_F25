{
 "cells": [
  {
   "cell_type": "code",
   "execution_count": 49,
   "id": "ce1c2602",
   "metadata": {
    "deletable": false,
    "editable": false
   },
   "outputs": [],
   "source": [
    "# Initialize Otter\n",
    "import otter\n",
    "grader = otter.Notebook(\"MergeTables.ipynb\")"
   ]
  },
  {
   "cell_type": "code",
   "execution_count": 50,
   "id": "6ce4ae0d-3799-4162-ac8e-4c7365c37062",
   "metadata": {},
   "outputs": [],
   "source": [
    "import pandas as pd\n",
    "import numpy as np"
   ]
  },
  {
   "cell_type": "markdown",
   "id": "df8e203a-6c16-4486-af9a-10542e7d87b8",
   "metadata": {},
   "source": [
    "# <span style=\"color:red\">Merging Tables</span>\n",
    "\n",
    "When making data-driven decisions, we often need information from various sources. For example, to identify at-risk students on campus, we'd analyze data from platforms like Brightspace, course registration, dining, AARC, and personal records. The Pandas library offers several methods to compare and merge these different dataframes, aiding in the analysis."
   ]
  },
  {
   "cell_type": "markdown",
   "id": "435a21af-afbb-45b4-9086-47509f1afb59",
   "metadata": {},
   "source": [
    "### Concatenate two dataframes together (vertically)\n",
    "\n",
    "Pandas `concat` method simply concatenates two dataframes together. "
   ]
  },
  {
   "cell_type": "code",
   "execution_count": 3,
   "id": "502d2165-ab74-4078-813c-e61d62e39c65",
   "metadata": {},
   "outputs": [
    {
     "data": {
      "text/html": [
       "<div>\n",
       "<style scoped>\n",
       "    .dataframe tbody tr th:only-of-type {\n",
       "        vertical-align: middle;\n",
       "    }\n",
       "\n",
       "    .dataframe tbody tr th {\n",
       "        vertical-align: top;\n",
       "    }\n",
       "\n",
       "    .dataframe thead th {\n",
       "        text-align: right;\n",
       "    }\n",
       "</style>\n",
       "<table border=\"1\" class=\"dataframe\">\n",
       "  <thead>\n",
       "    <tr style=\"text-align: right;\">\n",
       "      <th></th>\n",
       "      <th>Name</th>\n",
       "      <th>Age</th>\n",
       "    </tr>\n",
       "  </thead>\n",
       "  <tbody>\n",
       "    <tr>\n",
       "      <th>0</th>\n",
       "      <td>Kevin</td>\n",
       "      <td>22</td>\n",
       "    </tr>\n",
       "    <tr>\n",
       "      <th>1</th>\n",
       "      <td>Tyler</td>\n",
       "      <td>35</td>\n",
       "    </tr>\n",
       "    <tr>\n",
       "      <th>2</th>\n",
       "      <td>Kyla</td>\n",
       "      <td>21</td>\n",
       "    </tr>\n",
       "    <tr>\n",
       "      <th>3</th>\n",
       "      <td>Josh</td>\n",
       "      <td>50</td>\n",
       "    </tr>\n",
       "  </tbody>\n",
       "</table>\n",
       "</div>"
      ],
      "text/plain": [
       "    Name  Age\n",
       "0  Kevin   22\n",
       "1  Tyler   35\n",
       "2   Kyla   21\n",
       "3   Josh   50"
      ]
     },
     "execution_count": 3,
     "metadata": {},
     "output_type": "execute_result"
    }
   ],
   "source": [
    "df1 = pd.DataFrame({'Name': ['Kevin', 'Tyler', 'Kyla', 'Josh'],\n",
    "                   'Age': [22, 35, 21, 50]},\n",
    "                  index=[0, 1, 2, 3])\n",
    "df1"
   ]
  },
  {
   "cell_type": "code",
   "execution_count": 4,
   "id": "da94b382-9290-4438-8afa-1288c128a9c0",
   "metadata": {},
   "outputs": [
    {
     "data": {
      "text/html": [
       "<div>\n",
       "<style scoped>\n",
       "    .dataframe tbody tr th:only-of-type {\n",
       "        vertical-align: middle;\n",
       "    }\n",
       "\n",
       "    .dataframe tbody tr th {\n",
       "        vertical-align: top;\n",
       "    }\n",
       "\n",
       "    .dataframe thead th {\n",
       "        text-align: right;\n",
       "    }\n",
       "</style>\n",
       "<table border=\"1\" class=\"dataframe\">\n",
       "  <thead>\n",
       "    <tr style=\"text-align: right;\">\n",
       "      <th></th>\n",
       "      <th>Name</th>\n",
       "      <th>Age</th>\n",
       "    </tr>\n",
       "  </thead>\n",
       "  <tbody>\n",
       "    <tr>\n",
       "      <th>4</th>\n",
       "      <td>Justin</td>\n",
       "      <td>20</td>\n",
       "    </tr>\n",
       "    <tr>\n",
       "      <th>5</th>\n",
       "      <td>Jacob</td>\n",
       "      <td>15</td>\n",
       "    </tr>\n",
       "    <tr>\n",
       "      <th>6</th>\n",
       "      <td>Ben</td>\n",
       "      <td>44</td>\n",
       "    </tr>\n",
       "    <tr>\n",
       "      <th>7</th>\n",
       "      <td>Hector</td>\n",
       "      <td>9</td>\n",
       "    </tr>\n",
       "  </tbody>\n",
       "</table>\n",
       "</div>"
      ],
      "text/plain": [
       "     Name  Age\n",
       "4  Justin   20\n",
       "5   Jacob   15\n",
       "6     Ben   44\n",
       "7  Hector    9"
      ]
     },
     "execution_count": 4,
     "metadata": {},
     "output_type": "execute_result"
    }
   ],
   "source": [
    "df2 = pd.DataFrame({'Name': ['Justin', 'Jacob', 'Ben', 'Hector'],\n",
    "                   'Age': [20, 15, 44, 9]}, \n",
    "                  index = [4, 5, 6, 7])\n",
    "df2"
   ]
  },
  {
   "cell_type": "code",
   "execution_count": 5,
   "id": "b878f110-6faa-41fa-8591-25a6cfcc3606",
   "metadata": {},
   "outputs": [
    {
     "data": {
      "text/html": [
       "<div>\n",
       "<style scoped>\n",
       "    .dataframe tbody tr th:only-of-type {\n",
       "        vertical-align: middle;\n",
       "    }\n",
       "\n",
       "    .dataframe tbody tr th {\n",
       "        vertical-align: top;\n",
       "    }\n",
       "\n",
       "    .dataframe thead th {\n",
       "        text-align: right;\n",
       "    }\n",
       "</style>\n",
       "<table border=\"1\" class=\"dataframe\">\n",
       "  <thead>\n",
       "    <tr style=\"text-align: right;\">\n",
       "      <th></th>\n",
       "      <th>Name</th>\n",
       "      <th>Age</th>\n",
       "    </tr>\n",
       "  </thead>\n",
       "  <tbody>\n",
       "    <tr>\n",
       "      <th>0</th>\n",
       "      <td>Kevin</td>\n",
       "      <td>22</td>\n",
       "    </tr>\n",
       "    <tr>\n",
       "      <th>1</th>\n",
       "      <td>Tyler</td>\n",
       "      <td>35</td>\n",
       "    </tr>\n",
       "    <tr>\n",
       "      <th>2</th>\n",
       "      <td>Kyla</td>\n",
       "      <td>21</td>\n",
       "    </tr>\n",
       "    <tr>\n",
       "      <th>3</th>\n",
       "      <td>Josh</td>\n",
       "      <td>50</td>\n",
       "    </tr>\n",
       "    <tr>\n",
       "      <th>4</th>\n",
       "      <td>Justin</td>\n",
       "      <td>20</td>\n",
       "    </tr>\n",
       "    <tr>\n",
       "      <th>5</th>\n",
       "      <td>Jacob</td>\n",
       "      <td>15</td>\n",
       "    </tr>\n",
       "    <tr>\n",
       "      <th>6</th>\n",
       "      <td>Ben</td>\n",
       "      <td>44</td>\n",
       "    </tr>\n",
       "    <tr>\n",
       "      <th>7</th>\n",
       "      <td>Hector</td>\n",
       "      <td>9</td>\n",
       "    </tr>\n",
       "  </tbody>\n",
       "</table>\n",
       "</div>"
      ],
      "text/plain": [
       "     Name  Age\n",
       "0   Kevin   22\n",
       "1   Tyler   35\n",
       "2    Kyla   21\n",
       "3    Josh   50\n",
       "4  Justin   20\n",
       "5   Jacob   15\n",
       "6     Ben   44\n",
       "7  Hector    9"
      ]
     },
     "execution_count": 5,
     "metadata": {},
     "output_type": "execute_result"
    }
   ],
   "source": [
    "df3 = pd.concat([df1, df2]) # Try to run the code by removing the index parameter from the df1 and df2; and see the difference\n",
    "df3"
   ]
  },
  {
   "cell_type": "markdown",
   "id": "2f6d2b0c-c075-4328-8830-ab2e1a4856bb",
   "metadata": {},
   "source": [
    "### Concatenate two dataframes together (horizontally)"
   ]
  },
  {
   "cell_type": "code",
   "execution_count": 6,
   "id": "62ed1b93-e5a8-4ca3-92f3-048b134da489",
   "metadata": {},
   "outputs": [
    {
     "data": {
      "text/html": [
       "<div>\n",
       "<style scoped>\n",
       "    .dataframe tbody tr th:only-of-type {\n",
       "        vertical-align: middle;\n",
       "    }\n",
       "\n",
       "    .dataframe tbody tr th {\n",
       "        vertical-align: top;\n",
       "    }\n",
       "\n",
       "    .dataframe thead th {\n",
       "        text-align: right;\n",
       "    }\n",
       "</style>\n",
       "<table border=\"1\" class=\"dataframe\">\n",
       "  <thead>\n",
       "    <tr style=\"text-align: right;\">\n",
       "      <th></th>\n",
       "      <th>Name</th>\n",
       "      <th>City</th>\n",
       "    </tr>\n",
       "  </thead>\n",
       "  <tbody>\n",
       "    <tr>\n",
       "      <th>8</th>\n",
       "      <td>Cynthia</td>\n",
       "      <td>Houston</td>\n",
       "    </tr>\n",
       "    <tr>\n",
       "      <th>6</th>\n",
       "      <td>Benn</td>\n",
       "      <td>Dallas</td>\n",
       "    </tr>\n",
       "    <tr>\n",
       "      <th>9</th>\n",
       "      <td>Emily</td>\n",
       "      <td>New York</td>\n",
       "    </tr>\n",
       "    <tr>\n",
       "      <th>7</th>\n",
       "      <td>Hector</td>\n",
       "      <td>Seattle</td>\n",
       "    </tr>\n",
       "  </tbody>\n",
       "</table>\n",
       "</div>"
      ],
      "text/plain": [
       "      Name      City\n",
       "8  Cynthia   Houston\n",
       "6     Benn    Dallas\n",
       "9    Emily  New York\n",
       "7   Hector   Seattle"
      ]
     },
     "execution_count": 6,
     "metadata": {},
     "output_type": "execute_result"
    }
   ],
   "source": [
    "df4 = pd.DataFrame({'Name': ['Cynthia', 'Benn', 'Emily', 'Hector'],\n",
    "                   'City': ['Houston', 'Dallas', 'New York', 'Seattle']}, \n",
    "                  index = [8, 6, 9, 7])\n",
    "df4"
   ]
  },
  {
   "cell_type": "code",
   "execution_count": 7,
   "id": "803187e7-8998-4533-b136-5aaed43ba551",
   "metadata": {},
   "outputs": [
    {
     "data": {
      "text/html": [
       "<div>\n",
       "<style scoped>\n",
       "    .dataframe tbody tr th:only-of-type {\n",
       "        vertical-align: middle;\n",
       "    }\n",
       "\n",
       "    .dataframe tbody tr th {\n",
       "        vertical-align: top;\n",
       "    }\n",
       "\n",
       "    .dataframe thead th {\n",
       "        text-align: right;\n",
       "    }\n",
       "</style>\n",
       "<table border=\"1\" class=\"dataframe\">\n",
       "  <thead>\n",
       "    <tr style=\"text-align: right;\">\n",
       "      <th></th>\n",
       "      <th>Name</th>\n",
       "      <th>Age</th>\n",
       "      <th>Name</th>\n",
       "      <th>City</th>\n",
       "    </tr>\n",
       "  </thead>\n",
       "  <tbody>\n",
       "    <tr>\n",
       "      <th>0</th>\n",
       "      <td>Kevin</td>\n",
       "      <td>22.0</td>\n",
       "      <td>NaN</td>\n",
       "      <td>NaN</td>\n",
       "    </tr>\n",
       "    <tr>\n",
       "      <th>1</th>\n",
       "      <td>Tyler</td>\n",
       "      <td>35.0</td>\n",
       "      <td>NaN</td>\n",
       "      <td>NaN</td>\n",
       "    </tr>\n",
       "    <tr>\n",
       "      <th>2</th>\n",
       "      <td>Kyla</td>\n",
       "      <td>21.0</td>\n",
       "      <td>NaN</td>\n",
       "      <td>NaN</td>\n",
       "    </tr>\n",
       "    <tr>\n",
       "      <th>3</th>\n",
       "      <td>Josh</td>\n",
       "      <td>50.0</td>\n",
       "      <td>NaN</td>\n",
       "      <td>NaN</td>\n",
       "    </tr>\n",
       "    <tr>\n",
       "      <th>4</th>\n",
       "      <td>Justin</td>\n",
       "      <td>20.0</td>\n",
       "      <td>NaN</td>\n",
       "      <td>NaN</td>\n",
       "    </tr>\n",
       "    <tr>\n",
       "      <th>5</th>\n",
       "      <td>Jacob</td>\n",
       "      <td>15.0</td>\n",
       "      <td>NaN</td>\n",
       "      <td>NaN</td>\n",
       "    </tr>\n",
       "    <tr>\n",
       "      <th>6</th>\n",
       "      <td>Ben</td>\n",
       "      <td>44.0</td>\n",
       "      <td>Benn</td>\n",
       "      <td>Dallas</td>\n",
       "    </tr>\n",
       "    <tr>\n",
       "      <th>7</th>\n",
       "      <td>Hector</td>\n",
       "      <td>9.0</td>\n",
       "      <td>Hector</td>\n",
       "      <td>Seattle</td>\n",
       "    </tr>\n",
       "    <tr>\n",
       "      <th>8</th>\n",
       "      <td>NaN</td>\n",
       "      <td>NaN</td>\n",
       "      <td>Cynthia</td>\n",
       "      <td>Houston</td>\n",
       "    </tr>\n",
       "    <tr>\n",
       "      <th>9</th>\n",
       "      <td>NaN</td>\n",
       "      <td>NaN</td>\n",
       "      <td>Emily</td>\n",
       "      <td>New York</td>\n",
       "    </tr>\n",
       "  </tbody>\n",
       "</table>\n",
       "</div>"
      ],
      "text/plain": [
       "     Name   Age     Name      City\n",
       "0   Kevin  22.0      NaN       NaN\n",
       "1   Tyler  35.0      NaN       NaN\n",
       "2    Kyla  21.0      NaN       NaN\n",
       "3    Josh  50.0      NaN       NaN\n",
       "4  Justin  20.0      NaN       NaN\n",
       "5   Jacob  15.0      NaN       NaN\n",
       "6     Ben  44.0     Benn    Dallas\n",
       "7  Hector   9.0   Hector   Seattle\n",
       "8     NaN   NaN  Cynthia   Houston\n",
       "9     NaN   NaN    Emily  New York"
      ]
     },
     "execution_count": 7,
     "metadata": {},
     "output_type": "execute_result"
    }
   ],
   "source": [
    "pd.concat([df3, df4], axis='columns')"
   ]
  },
  {
   "cell_type": "code",
   "execution_count": 8,
   "id": "1f363480-e901-4177-8c20-1a775bfe6949",
   "metadata": {},
   "outputs": [
    {
     "data": {
      "text/html": [
       "<div>\n",
       "<style scoped>\n",
       "    .dataframe tbody tr th:only-of-type {\n",
       "        vertical-align: middle;\n",
       "    }\n",
       "\n",
       "    .dataframe tbody tr th {\n",
       "        vertical-align: top;\n",
       "    }\n",
       "\n",
       "    .dataframe thead th {\n",
       "        text-align: right;\n",
       "    }\n",
       "</style>\n",
       "<table border=\"1\" class=\"dataframe\">\n",
       "  <thead>\n",
       "    <tr style=\"text-align: right;\">\n",
       "      <th></th>\n",
       "      <th>Name</th>\n",
       "      <th>Age</th>\n",
       "      <th>Name</th>\n",
       "      <th>City</th>\n",
       "    </tr>\n",
       "  </thead>\n",
       "  <tbody>\n",
       "    <tr>\n",
       "      <th>6</th>\n",
       "      <td>Ben</td>\n",
       "      <td>44</td>\n",
       "      <td>Benn</td>\n",
       "      <td>Dallas</td>\n",
       "    </tr>\n",
       "    <tr>\n",
       "      <th>7</th>\n",
       "      <td>Hector</td>\n",
       "      <td>9</td>\n",
       "      <td>Hector</td>\n",
       "      <td>Seattle</td>\n",
       "    </tr>\n",
       "  </tbody>\n",
       "</table>\n",
       "</div>"
      ],
      "text/plain": [
       "     Name  Age    Name     City\n",
       "6     Ben   44    Benn   Dallas\n",
       "7  Hector    9  Hector  Seattle"
      ]
     },
     "execution_count": 8,
     "metadata": {},
     "output_type": "execute_result"
    }
   ],
   "source": [
    "pd.concat([df3, df4], axis='columns', join='inner')"
   ]
  },
  {
   "cell_type": "code",
   "execution_count": 9,
   "id": "1f9e7059-8389-4883-a5dd-24cdd0a20731",
   "metadata": {},
   "outputs": [
    {
     "data": {
      "text/html": [
       "<div>\n",
       "<style scoped>\n",
       "    .dataframe tbody tr th:only-of-type {\n",
       "        vertical-align: middle;\n",
       "    }\n",
       "\n",
       "    .dataframe tbody tr th {\n",
       "        vertical-align: top;\n",
       "    }\n",
       "\n",
       "    .dataframe thead th {\n",
       "        text-align: right;\n",
       "    }\n",
       "</style>\n",
       "<table border=\"1\" class=\"dataframe\">\n",
       "  <thead>\n",
       "    <tr style=\"text-align: right;\">\n",
       "      <th></th>\n",
       "      <th>Name</th>\n",
       "      <th>Dept</th>\n",
       "    </tr>\n",
       "  </thead>\n",
       "  <tbody>\n",
       "    <tr>\n",
       "      <th>0</th>\n",
       "      <td>Kevin</td>\n",
       "      <td>CS</td>\n",
       "    </tr>\n",
       "    <tr>\n",
       "      <th>1</th>\n",
       "      <td>Cynthia</td>\n",
       "      <td>Math</td>\n",
       "    </tr>\n",
       "    <tr>\n",
       "      <th>2</th>\n",
       "      <td>Hector</td>\n",
       "      <td>Math</td>\n",
       "    </tr>\n",
       "    <tr>\n",
       "      <th>3</th>\n",
       "      <td>Justin</td>\n",
       "      <td>Business</td>\n",
       "    </tr>\n",
       "  </tbody>\n",
       "</table>\n",
       "</div>"
      ],
      "text/plain": [
       "      Name      Dept\n",
       "0    Kevin        CS\n",
       "1  Cynthia      Math\n",
       "2   Hector      Math\n",
       "3   Justin  Business"
      ]
     },
     "execution_count": 9,
     "metadata": {},
     "output_type": "execute_result"
    }
   ],
   "source": [
    "df1 = pd.DataFrame({'Name': ['Kevin', 'Cynthia', 'Hector', 'Justin'],\n",
    "                       'Dept': ['CS', 'Math', 'Math', 'Business']})\n",
    "\n",
    "df1"
   ]
  },
  {
   "cell_type": "code",
   "execution_count": 10,
   "id": "c39f81c2-3fd4-4930-9230-3b3ae2e68728",
   "metadata": {},
   "outputs": [
    {
     "data": {
      "text/html": [
       "<div>\n",
       "<style scoped>\n",
       "    .dataframe tbody tr th:only-of-type {\n",
       "        vertical-align: middle;\n",
       "    }\n",
       "\n",
       "    .dataframe tbody tr th {\n",
       "        vertical-align: top;\n",
       "    }\n",
       "\n",
       "    .dataframe thead th {\n",
       "        text-align: right;\n",
       "    }\n",
       "</style>\n",
       "<table border=\"1\" class=\"dataframe\">\n",
       "  <thead>\n",
       "    <tr style=\"text-align: right;\">\n",
       "      <th></th>\n",
       "      <th>Gpa</th>\n",
       "      <th>City</th>\n",
       "    </tr>\n",
       "  </thead>\n",
       "  <tbody>\n",
       "    <tr>\n",
       "      <th>0</th>\n",
       "      <td>2.9</td>\n",
       "      <td>Houston</td>\n",
       "    </tr>\n",
       "    <tr>\n",
       "      <th>1</th>\n",
       "      <td>3.3</td>\n",
       "      <td>Dallas</td>\n",
       "    </tr>\n",
       "    <tr>\n",
       "      <th>2</th>\n",
       "      <td>3.9</td>\n",
       "      <td>Seattle</td>\n",
       "    </tr>\n",
       "    <tr>\n",
       "      <th>3</th>\n",
       "      <td>2.2</td>\n",
       "      <td>Austin</td>\n",
       "    </tr>\n",
       "  </tbody>\n",
       "</table>\n",
       "</div>"
      ],
      "text/plain": [
       "   Gpa     City\n",
       "0  2.9  Houston\n",
       "1  3.3   Dallas\n",
       "2  3.9  Seattle\n",
       "3  2.2   Austin"
      ]
     },
     "execution_count": 10,
     "metadata": {},
     "output_type": "execute_result"
    }
   ],
   "source": [
    "df2 = pd.DataFrame({'Gpa': [2.9, 3.3, 3.9, 2.2],\n",
    "                       'City': ['Houston', 'Dallas', 'Seattle', 'Austin']})\n",
    "\n",
    "df2"
   ]
  },
  {
   "cell_type": "code",
   "execution_count": 11,
   "id": "492d46db-1225-4069-bdd0-2abe4b58da25",
   "metadata": {},
   "outputs": [
    {
     "data": {
      "text/html": [
       "<div>\n",
       "<style scoped>\n",
       "    .dataframe tbody tr th:only-of-type {\n",
       "        vertical-align: middle;\n",
       "    }\n",
       "\n",
       "    .dataframe tbody tr th {\n",
       "        vertical-align: top;\n",
       "    }\n",
       "\n",
       "    .dataframe thead th {\n",
       "        text-align: right;\n",
       "    }\n",
       "</style>\n",
       "<table border=\"1\" class=\"dataframe\">\n",
       "  <thead>\n",
       "    <tr style=\"text-align: right;\">\n",
       "      <th></th>\n",
       "      <th>Name</th>\n",
       "      <th>Dept</th>\n",
       "      <th>Gpa</th>\n",
       "      <th>City</th>\n",
       "    </tr>\n",
       "  </thead>\n",
       "  <tbody>\n",
       "    <tr>\n",
       "      <th>0</th>\n",
       "      <td>Kevin</td>\n",
       "      <td>CS</td>\n",
       "      <td>2.9</td>\n",
       "      <td>Houston</td>\n",
       "    </tr>\n",
       "    <tr>\n",
       "      <th>1</th>\n",
       "      <td>Cynthia</td>\n",
       "      <td>Math</td>\n",
       "      <td>3.3</td>\n",
       "      <td>Dallas</td>\n",
       "    </tr>\n",
       "    <tr>\n",
       "      <th>2</th>\n",
       "      <td>Hector</td>\n",
       "      <td>Math</td>\n",
       "      <td>3.9</td>\n",
       "      <td>Seattle</td>\n",
       "    </tr>\n",
       "    <tr>\n",
       "      <th>3</th>\n",
       "      <td>Justin</td>\n",
       "      <td>Business</td>\n",
       "      <td>2.2</td>\n",
       "      <td>Austin</td>\n",
       "    </tr>\n",
       "  </tbody>\n",
       "</table>\n",
       "</div>"
      ],
      "text/plain": [
       "      Name      Dept  Gpa     City\n",
       "0    Kevin        CS  2.9  Houston\n",
       "1  Cynthia      Math  3.3   Dallas\n",
       "2   Hector      Math  3.9  Seattle\n",
       "3   Justin  Business  2.2   Austin"
      ]
     },
     "execution_count": 11,
     "metadata": {},
     "output_type": "execute_result"
    }
   ],
   "source": [
    "pd.concat([df1, df2], axis='columns')"
   ]
  },
  {
   "cell_type": "markdown",
   "id": "554a45eb-6c19-459f-9003-b1d3686837c9",
   "metadata": {},
   "source": [
    "### Merging tables\n",
    "\n",
    "#### Performing cartesian product of rows of two tables\n",
    "\n",
    "A cartesian product joins each row of left table with every rows of right table. The resulant table will have n1 * n2 rows, where n1 and n2 are the number of rows in left and right table respectively. "
   ]
  },
  {
   "cell_type": "code",
   "execution_count": 12,
   "id": "b2d1b537-17c6-4e7e-a814-e95969965ea9",
   "metadata": {},
   "outputs": [],
   "source": [
    "left = pd.DataFrame({'SID': [111, 222, 111, 333],\n",
    "                    'Name': ['Kelly', 'John', 'Kelly', 'Megan'],\n",
    "                    'Course': ['CSCI1302', 'MTH1304', 'CSCI1462', 'CSCI1462']})\n",
    "\n",
    "right = pd.DataFrame({'EID': ['XY03', 'ZZ02', 'FF02', 'YYY2'],\n",
    "                    'Name': ['Kelly', 'Ben', 'John', 'Max'],\n",
    "                    'Designation': ['Manager', 'CEO', 'HRManager', 'Developer']})"
   ]
  },
  {
   "cell_type": "code",
   "execution_count": 13,
   "id": "d5f209ec-1909-4765-93a9-f6764143b38b",
   "metadata": {},
   "outputs": [
    {
     "data": {
      "text/html": [
       "<div>\n",
       "<style scoped>\n",
       "    .dataframe tbody tr th:only-of-type {\n",
       "        vertical-align: middle;\n",
       "    }\n",
       "\n",
       "    .dataframe tbody tr th {\n",
       "        vertical-align: top;\n",
       "    }\n",
       "\n",
       "    .dataframe thead th {\n",
       "        text-align: right;\n",
       "    }\n",
       "</style>\n",
       "<table border=\"1\" class=\"dataframe\">\n",
       "  <thead>\n",
       "    <tr style=\"text-align: right;\">\n",
       "      <th></th>\n",
       "      <th>SID</th>\n",
       "      <th>Name</th>\n",
       "      <th>Course</th>\n",
       "    </tr>\n",
       "  </thead>\n",
       "  <tbody>\n",
       "    <tr>\n",
       "      <th>0</th>\n",
       "      <td>111</td>\n",
       "      <td>Kelly</td>\n",
       "      <td>CSCI1302</td>\n",
       "    </tr>\n",
       "    <tr>\n",
       "      <th>1</th>\n",
       "      <td>222</td>\n",
       "      <td>John</td>\n",
       "      <td>MTH1304</td>\n",
       "    </tr>\n",
       "    <tr>\n",
       "      <th>2</th>\n",
       "      <td>111</td>\n",
       "      <td>Kelly</td>\n",
       "      <td>CSCI1462</td>\n",
       "    </tr>\n",
       "    <tr>\n",
       "      <th>3</th>\n",
       "      <td>333</td>\n",
       "      <td>Megan</td>\n",
       "      <td>CSCI1462</td>\n",
       "    </tr>\n",
       "  </tbody>\n",
       "</table>\n",
       "</div>"
      ],
      "text/plain": [
       "   SID   Name    Course\n",
       "0  111  Kelly  CSCI1302\n",
       "1  222   John   MTH1304\n",
       "2  111  Kelly  CSCI1462\n",
       "3  333  Megan  CSCI1462"
      ]
     },
     "execution_count": 13,
     "metadata": {},
     "output_type": "execute_result"
    }
   ],
   "source": [
    "left"
   ]
  },
  {
   "cell_type": "code",
   "execution_count": 14,
   "id": "b172c5a1-f702-4db6-8829-f0e2bd701442",
   "metadata": {},
   "outputs": [
    {
     "data": {
      "text/html": [
       "<div>\n",
       "<style scoped>\n",
       "    .dataframe tbody tr th:only-of-type {\n",
       "        vertical-align: middle;\n",
       "    }\n",
       "\n",
       "    .dataframe tbody tr th {\n",
       "        vertical-align: top;\n",
       "    }\n",
       "\n",
       "    .dataframe thead th {\n",
       "        text-align: right;\n",
       "    }\n",
       "</style>\n",
       "<table border=\"1\" class=\"dataframe\">\n",
       "  <thead>\n",
       "    <tr style=\"text-align: right;\">\n",
       "      <th></th>\n",
       "      <th>EID</th>\n",
       "      <th>Name</th>\n",
       "      <th>Designation</th>\n",
       "    </tr>\n",
       "  </thead>\n",
       "  <tbody>\n",
       "    <tr>\n",
       "      <th>0</th>\n",
       "      <td>XY03</td>\n",
       "      <td>Kelly</td>\n",
       "      <td>Manager</td>\n",
       "    </tr>\n",
       "    <tr>\n",
       "      <th>1</th>\n",
       "      <td>ZZ02</td>\n",
       "      <td>Ben</td>\n",
       "      <td>CEO</td>\n",
       "    </tr>\n",
       "    <tr>\n",
       "      <th>2</th>\n",
       "      <td>FF02</td>\n",
       "      <td>John</td>\n",
       "      <td>HRManager</td>\n",
       "    </tr>\n",
       "    <tr>\n",
       "      <th>3</th>\n",
       "      <td>YYY2</td>\n",
       "      <td>Max</td>\n",
       "      <td>Developer</td>\n",
       "    </tr>\n",
       "  </tbody>\n",
       "</table>\n",
       "</div>"
      ],
      "text/plain": [
       "    EID   Name Designation\n",
       "0  XY03  Kelly     Manager\n",
       "1  ZZ02    Ben         CEO\n",
       "2  FF02   John   HRManager\n",
       "3  YYY2    Max   Developer"
      ]
     },
     "execution_count": 14,
     "metadata": {},
     "output_type": "execute_result"
    }
   ],
   "source": [
    "right"
   ]
  },
  {
   "cell_type": "code",
   "execution_count": 15,
   "id": "ea1f2b44-e7df-49fc-bf7e-b62adb07aa37",
   "metadata": {},
   "outputs": [
    {
     "data": {
      "text/html": [
       "<div>\n",
       "<style scoped>\n",
       "    .dataframe tbody tr th:only-of-type {\n",
       "        vertical-align: middle;\n",
       "    }\n",
       "\n",
       "    .dataframe tbody tr th {\n",
       "        vertical-align: top;\n",
       "    }\n",
       "\n",
       "    .dataframe thead th {\n",
       "        text-align: right;\n",
       "    }\n",
       "</style>\n",
       "<table border=\"1\" class=\"dataframe\">\n",
       "  <thead>\n",
       "    <tr style=\"text-align: right;\">\n",
       "      <th></th>\n",
       "      <th>SID</th>\n",
       "      <th>Name_x</th>\n",
       "      <th>Course</th>\n",
       "      <th>EID</th>\n",
       "      <th>Name_y</th>\n",
       "      <th>Designation</th>\n",
       "    </tr>\n",
       "  </thead>\n",
       "  <tbody>\n",
       "    <tr>\n",
       "      <th>0</th>\n",
       "      <td>111</td>\n",
       "      <td>Kelly</td>\n",
       "      <td>CSCI1302</td>\n",
       "      <td>XY03</td>\n",
       "      <td>Kelly</td>\n",
       "      <td>Manager</td>\n",
       "    </tr>\n",
       "    <tr>\n",
       "      <th>1</th>\n",
       "      <td>111</td>\n",
       "      <td>Kelly</td>\n",
       "      <td>CSCI1302</td>\n",
       "      <td>ZZ02</td>\n",
       "      <td>Ben</td>\n",
       "      <td>CEO</td>\n",
       "    </tr>\n",
       "    <tr>\n",
       "      <th>2</th>\n",
       "      <td>111</td>\n",
       "      <td>Kelly</td>\n",
       "      <td>CSCI1302</td>\n",
       "      <td>FF02</td>\n",
       "      <td>John</td>\n",
       "      <td>HRManager</td>\n",
       "    </tr>\n",
       "    <tr>\n",
       "      <th>3</th>\n",
       "      <td>111</td>\n",
       "      <td>Kelly</td>\n",
       "      <td>CSCI1302</td>\n",
       "      <td>YYY2</td>\n",
       "      <td>Max</td>\n",
       "      <td>Developer</td>\n",
       "    </tr>\n",
       "    <tr>\n",
       "      <th>4</th>\n",
       "      <td>222</td>\n",
       "      <td>John</td>\n",
       "      <td>MTH1304</td>\n",
       "      <td>XY03</td>\n",
       "      <td>Kelly</td>\n",
       "      <td>Manager</td>\n",
       "    </tr>\n",
       "    <tr>\n",
       "      <th>5</th>\n",
       "      <td>222</td>\n",
       "      <td>John</td>\n",
       "      <td>MTH1304</td>\n",
       "      <td>ZZ02</td>\n",
       "      <td>Ben</td>\n",
       "      <td>CEO</td>\n",
       "    </tr>\n",
       "    <tr>\n",
       "      <th>6</th>\n",
       "      <td>222</td>\n",
       "      <td>John</td>\n",
       "      <td>MTH1304</td>\n",
       "      <td>FF02</td>\n",
       "      <td>John</td>\n",
       "      <td>HRManager</td>\n",
       "    </tr>\n",
       "    <tr>\n",
       "      <th>7</th>\n",
       "      <td>222</td>\n",
       "      <td>John</td>\n",
       "      <td>MTH1304</td>\n",
       "      <td>YYY2</td>\n",
       "      <td>Max</td>\n",
       "      <td>Developer</td>\n",
       "    </tr>\n",
       "    <tr>\n",
       "      <th>8</th>\n",
       "      <td>111</td>\n",
       "      <td>Kelly</td>\n",
       "      <td>CSCI1462</td>\n",
       "      <td>XY03</td>\n",
       "      <td>Kelly</td>\n",
       "      <td>Manager</td>\n",
       "    </tr>\n",
       "    <tr>\n",
       "      <th>9</th>\n",
       "      <td>111</td>\n",
       "      <td>Kelly</td>\n",
       "      <td>CSCI1462</td>\n",
       "      <td>ZZ02</td>\n",
       "      <td>Ben</td>\n",
       "      <td>CEO</td>\n",
       "    </tr>\n",
       "    <tr>\n",
       "      <th>10</th>\n",
       "      <td>111</td>\n",
       "      <td>Kelly</td>\n",
       "      <td>CSCI1462</td>\n",
       "      <td>FF02</td>\n",
       "      <td>John</td>\n",
       "      <td>HRManager</td>\n",
       "    </tr>\n",
       "    <tr>\n",
       "      <th>11</th>\n",
       "      <td>111</td>\n",
       "      <td>Kelly</td>\n",
       "      <td>CSCI1462</td>\n",
       "      <td>YYY2</td>\n",
       "      <td>Max</td>\n",
       "      <td>Developer</td>\n",
       "    </tr>\n",
       "    <tr>\n",
       "      <th>12</th>\n",
       "      <td>333</td>\n",
       "      <td>Megan</td>\n",
       "      <td>CSCI1462</td>\n",
       "      <td>XY03</td>\n",
       "      <td>Kelly</td>\n",
       "      <td>Manager</td>\n",
       "    </tr>\n",
       "    <tr>\n",
       "      <th>13</th>\n",
       "      <td>333</td>\n",
       "      <td>Megan</td>\n",
       "      <td>CSCI1462</td>\n",
       "      <td>ZZ02</td>\n",
       "      <td>Ben</td>\n",
       "      <td>CEO</td>\n",
       "    </tr>\n",
       "    <tr>\n",
       "      <th>14</th>\n",
       "      <td>333</td>\n",
       "      <td>Megan</td>\n",
       "      <td>CSCI1462</td>\n",
       "      <td>FF02</td>\n",
       "      <td>John</td>\n",
       "      <td>HRManager</td>\n",
       "    </tr>\n",
       "    <tr>\n",
       "      <th>15</th>\n",
       "      <td>333</td>\n",
       "      <td>Megan</td>\n",
       "      <td>CSCI1462</td>\n",
       "      <td>YYY2</td>\n",
       "      <td>Max</td>\n",
       "      <td>Developer</td>\n",
       "    </tr>\n",
       "  </tbody>\n",
       "</table>\n",
       "</div>"
      ],
      "text/plain": [
       "    SID Name_x    Course   EID Name_y Designation\n",
       "0   111  Kelly  CSCI1302  XY03  Kelly     Manager\n",
       "1   111  Kelly  CSCI1302  ZZ02    Ben         CEO\n",
       "2   111  Kelly  CSCI1302  FF02   John   HRManager\n",
       "3   111  Kelly  CSCI1302  YYY2    Max   Developer\n",
       "4   222   John   MTH1304  XY03  Kelly     Manager\n",
       "5   222   John   MTH1304  ZZ02    Ben         CEO\n",
       "6   222   John   MTH1304  FF02   John   HRManager\n",
       "7   222   John   MTH1304  YYY2    Max   Developer\n",
       "8   111  Kelly  CSCI1462  XY03  Kelly     Manager\n",
       "9   111  Kelly  CSCI1462  ZZ02    Ben         CEO\n",
       "10  111  Kelly  CSCI1462  FF02   John   HRManager\n",
       "11  111  Kelly  CSCI1462  YYY2    Max   Developer\n",
       "12  333  Megan  CSCI1462  XY03  Kelly     Manager\n",
       "13  333  Megan  CSCI1462  ZZ02    Ben         CEO\n",
       "14  333  Megan  CSCI1462  FF02   John   HRManager\n",
       "15  333  Megan  CSCI1462  YYY2    Max   Developer"
      ]
     },
     "execution_count": 15,
     "metadata": {},
     "output_type": "execute_result"
    }
   ],
   "source": [
    "pd.merge(left, right, how='cross') # Cartesian Product"
   ]
  },
  {
   "cell_type": "markdown",
   "id": "2ec8d6aa-a177-41eb-9690-08bbf75f696c",
   "metadata": {},
   "source": [
    "<img src=\"https://www.ionos.fr/digitalguide/fileadmin/DigitalGuide/Screenshots_2019/sql-outer-join.png\" width=500 />"
   ]
  },
  {
   "cell_type": "markdown",
   "id": "d36a9d6d-4a24-4cf3-a1ab-af1b0a48af4e",
   "metadata": {},
   "source": [
    "### Performing inner join between rows of tables\n",
    "\n",
    "Inner join select rows from both the tables that have matching keys in both the tables. "
   ]
  },
  {
   "cell_type": "code",
   "execution_count": 16,
   "id": "6bf4bfb5-3830-429b-9739-6851f077133b",
   "metadata": {},
   "outputs": [
    {
     "data": {
      "text/html": [
       "<div>\n",
       "<style scoped>\n",
       "    .dataframe tbody tr th:only-of-type {\n",
       "        vertical-align: middle;\n",
       "    }\n",
       "\n",
       "    .dataframe tbody tr th {\n",
       "        vertical-align: top;\n",
       "    }\n",
       "\n",
       "    .dataframe thead th {\n",
       "        text-align: right;\n",
       "    }\n",
       "</style>\n",
       "<table border=\"1\" class=\"dataframe\">\n",
       "  <thead>\n",
       "    <tr style=\"text-align: right;\">\n",
       "      <th></th>\n",
       "      <th>SID</th>\n",
       "      <th>Name</th>\n",
       "      <th>Course</th>\n",
       "    </tr>\n",
       "  </thead>\n",
       "  <tbody>\n",
       "    <tr>\n",
       "      <th>0</th>\n",
       "      <td>111</td>\n",
       "      <td>Kelly</td>\n",
       "      <td>CSCI1302</td>\n",
       "    </tr>\n",
       "    <tr>\n",
       "      <th>1</th>\n",
       "      <td>222</td>\n",
       "      <td>John</td>\n",
       "      <td>MTH1304</td>\n",
       "    </tr>\n",
       "    <tr>\n",
       "      <th>2</th>\n",
       "      <td>111</td>\n",
       "      <td>Kelly</td>\n",
       "      <td>CSCI1462</td>\n",
       "    </tr>\n",
       "    <tr>\n",
       "      <th>3</th>\n",
       "      <td>333</td>\n",
       "      <td>Megan</td>\n",
       "      <td>CSCI1462</td>\n",
       "    </tr>\n",
       "  </tbody>\n",
       "</table>\n",
       "</div>"
      ],
      "text/plain": [
       "   SID   Name    Course\n",
       "0  111  Kelly  CSCI1302\n",
       "1  222   John   MTH1304\n",
       "2  111  Kelly  CSCI1462\n",
       "3  333  Megan  CSCI1462"
      ]
     },
     "execution_count": 16,
     "metadata": {},
     "output_type": "execute_result"
    }
   ],
   "source": [
    "left"
   ]
  },
  {
   "cell_type": "code",
   "execution_count": 17,
   "id": "641bc6be-3788-4e79-81ef-bc288b9ec30a",
   "metadata": {},
   "outputs": [
    {
     "data": {
      "text/html": [
       "<div>\n",
       "<style scoped>\n",
       "    .dataframe tbody tr th:only-of-type {\n",
       "        vertical-align: middle;\n",
       "    }\n",
       "\n",
       "    .dataframe tbody tr th {\n",
       "        vertical-align: top;\n",
       "    }\n",
       "\n",
       "    .dataframe thead th {\n",
       "        text-align: right;\n",
       "    }\n",
       "</style>\n",
       "<table border=\"1\" class=\"dataframe\">\n",
       "  <thead>\n",
       "    <tr style=\"text-align: right;\">\n",
       "      <th></th>\n",
       "      <th>EID</th>\n",
       "      <th>Name</th>\n",
       "      <th>Designation</th>\n",
       "    </tr>\n",
       "  </thead>\n",
       "  <tbody>\n",
       "    <tr>\n",
       "      <th>0</th>\n",
       "      <td>XY03</td>\n",
       "      <td>Kelly</td>\n",
       "      <td>Manager</td>\n",
       "    </tr>\n",
       "    <tr>\n",
       "      <th>1</th>\n",
       "      <td>ZZ02</td>\n",
       "      <td>Ben</td>\n",
       "      <td>CEO</td>\n",
       "    </tr>\n",
       "    <tr>\n",
       "      <th>2</th>\n",
       "      <td>FF02</td>\n",
       "      <td>John</td>\n",
       "      <td>HRManager</td>\n",
       "    </tr>\n",
       "    <tr>\n",
       "      <th>3</th>\n",
       "      <td>YYY2</td>\n",
       "      <td>Max</td>\n",
       "      <td>Developer</td>\n",
       "    </tr>\n",
       "  </tbody>\n",
       "</table>\n",
       "</div>"
      ],
      "text/plain": [
       "    EID   Name Designation\n",
       "0  XY03  Kelly     Manager\n",
       "1  ZZ02    Ben         CEO\n",
       "2  FF02   John   HRManager\n",
       "3  YYY2    Max   Developer"
      ]
     },
     "execution_count": 17,
     "metadata": {},
     "output_type": "execute_result"
    }
   ],
   "source": [
    "right"
   ]
  },
  {
   "cell_type": "code",
   "execution_count": 18,
   "id": "f04ffc8c-0d1b-4d21-91a4-5b15aee9706f",
   "metadata": {},
   "outputs": [
    {
     "data": {
      "text/html": [
       "<div>\n",
       "<style scoped>\n",
       "    .dataframe tbody tr th:only-of-type {\n",
       "        vertical-align: middle;\n",
       "    }\n",
       "\n",
       "    .dataframe tbody tr th {\n",
       "        vertical-align: top;\n",
       "    }\n",
       "\n",
       "    .dataframe thead th {\n",
       "        text-align: right;\n",
       "    }\n",
       "</style>\n",
       "<table border=\"1\" class=\"dataframe\">\n",
       "  <thead>\n",
       "    <tr style=\"text-align: right;\">\n",
       "      <th></th>\n",
       "      <th>SID</th>\n",
       "      <th>Name</th>\n",
       "      <th>Course</th>\n",
       "      <th>EID</th>\n",
       "      <th>Designation</th>\n",
       "    </tr>\n",
       "  </thead>\n",
       "  <tbody>\n",
       "    <tr>\n",
       "      <th>0</th>\n",
       "      <td>111</td>\n",
       "      <td>Kelly</td>\n",
       "      <td>CSCI1302</td>\n",
       "      <td>XY03</td>\n",
       "      <td>Manager</td>\n",
       "    </tr>\n",
       "    <tr>\n",
       "      <th>1</th>\n",
       "      <td>222</td>\n",
       "      <td>John</td>\n",
       "      <td>MTH1304</td>\n",
       "      <td>FF02</td>\n",
       "      <td>HRManager</td>\n",
       "    </tr>\n",
       "    <tr>\n",
       "      <th>2</th>\n",
       "      <td>111</td>\n",
       "      <td>Kelly</td>\n",
       "      <td>CSCI1462</td>\n",
       "      <td>XY03</td>\n",
       "      <td>Manager</td>\n",
       "    </tr>\n",
       "  </tbody>\n",
       "</table>\n",
       "</div>"
      ],
      "text/plain": [
       "   SID   Name    Course   EID Designation\n",
       "0  111  Kelly  CSCI1302  XY03     Manager\n",
       "1  222   John   MTH1304  FF02   HRManager\n",
       "2  111  Kelly  CSCI1462  XY03     Manager"
      ]
     },
     "execution_count": 18,
     "metadata": {},
     "output_type": "execute_result"
    }
   ],
   "source": [
    "pd.merge(left, right, how='inner', on='Name')"
   ]
  },
  {
   "cell_type": "markdown",
   "id": "9faf0d6b-45df-4161-b6b0-4c0304b03b91",
   "metadata": {},
   "source": [
    "### Performing outer join between rows of tables\n",
    "\n",
    "The outer join returns all the rows from both the tables when there is a match between the keys (like inner join). Moreover,  if there are rows in one table that do not have matches in the other, those rows will also be listed, with missing(NaN) values in the columns from the table without a match. "
   ]
  },
  {
   "cell_type": "code",
   "execution_count": 19,
   "id": "4d81baf1-b1fd-4b9c-a3eb-da10cd9fd67b",
   "metadata": {},
   "outputs": [
    {
     "data": {
      "text/html": [
       "<div>\n",
       "<style scoped>\n",
       "    .dataframe tbody tr th:only-of-type {\n",
       "        vertical-align: middle;\n",
       "    }\n",
       "\n",
       "    .dataframe tbody tr th {\n",
       "        vertical-align: top;\n",
       "    }\n",
       "\n",
       "    .dataframe thead th {\n",
       "        text-align: right;\n",
       "    }\n",
       "</style>\n",
       "<table border=\"1\" class=\"dataframe\">\n",
       "  <thead>\n",
       "    <tr style=\"text-align: right;\">\n",
       "      <th></th>\n",
       "      <th>SID</th>\n",
       "      <th>Name</th>\n",
       "      <th>Course</th>\n",
       "    </tr>\n",
       "  </thead>\n",
       "  <tbody>\n",
       "    <tr>\n",
       "      <th>0</th>\n",
       "      <td>111</td>\n",
       "      <td>Kelly</td>\n",
       "      <td>CSCI1302</td>\n",
       "    </tr>\n",
       "    <tr>\n",
       "      <th>1</th>\n",
       "      <td>222</td>\n",
       "      <td>John</td>\n",
       "      <td>MTH1304</td>\n",
       "    </tr>\n",
       "    <tr>\n",
       "      <th>2</th>\n",
       "      <td>111</td>\n",
       "      <td>Kelly</td>\n",
       "      <td>CSCI1462</td>\n",
       "    </tr>\n",
       "    <tr>\n",
       "      <th>3</th>\n",
       "      <td>333</td>\n",
       "      <td>Megan</td>\n",
       "      <td>CSCI1462</td>\n",
       "    </tr>\n",
       "  </tbody>\n",
       "</table>\n",
       "</div>"
      ],
      "text/plain": [
       "   SID   Name    Course\n",
       "0  111  Kelly  CSCI1302\n",
       "1  222   John   MTH1304\n",
       "2  111  Kelly  CSCI1462\n",
       "3  333  Megan  CSCI1462"
      ]
     },
     "execution_count": 19,
     "metadata": {},
     "output_type": "execute_result"
    }
   ],
   "source": [
    "left"
   ]
  },
  {
   "cell_type": "code",
   "execution_count": 20,
   "id": "9634b594-9ba8-4226-81a5-79ca88bc5e98",
   "metadata": {},
   "outputs": [
    {
     "data": {
      "text/html": [
       "<div>\n",
       "<style scoped>\n",
       "    .dataframe tbody tr th:only-of-type {\n",
       "        vertical-align: middle;\n",
       "    }\n",
       "\n",
       "    .dataframe tbody tr th {\n",
       "        vertical-align: top;\n",
       "    }\n",
       "\n",
       "    .dataframe thead th {\n",
       "        text-align: right;\n",
       "    }\n",
       "</style>\n",
       "<table border=\"1\" class=\"dataframe\">\n",
       "  <thead>\n",
       "    <tr style=\"text-align: right;\">\n",
       "      <th></th>\n",
       "      <th>EID</th>\n",
       "      <th>Name</th>\n",
       "      <th>Designation</th>\n",
       "    </tr>\n",
       "  </thead>\n",
       "  <tbody>\n",
       "    <tr>\n",
       "      <th>0</th>\n",
       "      <td>XY03</td>\n",
       "      <td>Kelly</td>\n",
       "      <td>Manager</td>\n",
       "    </tr>\n",
       "    <tr>\n",
       "      <th>1</th>\n",
       "      <td>ZZ02</td>\n",
       "      <td>Ben</td>\n",
       "      <td>CEO</td>\n",
       "    </tr>\n",
       "    <tr>\n",
       "      <th>2</th>\n",
       "      <td>FF02</td>\n",
       "      <td>John</td>\n",
       "      <td>HRManager</td>\n",
       "    </tr>\n",
       "    <tr>\n",
       "      <th>3</th>\n",
       "      <td>YYY2</td>\n",
       "      <td>Max</td>\n",
       "      <td>Developer</td>\n",
       "    </tr>\n",
       "  </tbody>\n",
       "</table>\n",
       "</div>"
      ],
      "text/plain": [
       "    EID   Name Designation\n",
       "0  XY03  Kelly     Manager\n",
       "1  ZZ02    Ben         CEO\n",
       "2  FF02   John   HRManager\n",
       "3  YYY2    Max   Developer"
      ]
     },
     "execution_count": 20,
     "metadata": {},
     "output_type": "execute_result"
    }
   ],
   "source": [
    "right"
   ]
  },
  {
   "cell_type": "code",
   "execution_count": 21,
   "id": "0e9b381c-767a-4809-8ab9-12d4c14c3284",
   "metadata": {},
   "outputs": [
    {
     "data": {
      "text/html": [
       "<div>\n",
       "<style scoped>\n",
       "    .dataframe tbody tr th:only-of-type {\n",
       "        vertical-align: middle;\n",
       "    }\n",
       "\n",
       "    .dataframe tbody tr th {\n",
       "        vertical-align: top;\n",
       "    }\n",
       "\n",
       "    .dataframe thead th {\n",
       "        text-align: right;\n",
       "    }\n",
       "</style>\n",
       "<table border=\"1\" class=\"dataframe\">\n",
       "  <thead>\n",
       "    <tr style=\"text-align: right;\">\n",
       "      <th></th>\n",
       "      <th>SID</th>\n",
       "      <th>Name</th>\n",
       "      <th>Course</th>\n",
       "      <th>EID</th>\n",
       "      <th>Designation</th>\n",
       "    </tr>\n",
       "  </thead>\n",
       "  <tbody>\n",
       "    <tr>\n",
       "      <th>0</th>\n",
       "      <td>NaN</td>\n",
       "      <td>Ben</td>\n",
       "      <td>NaN</td>\n",
       "      <td>ZZ02</td>\n",
       "      <td>CEO</td>\n",
       "    </tr>\n",
       "    <tr>\n",
       "      <th>1</th>\n",
       "      <td>222.0</td>\n",
       "      <td>John</td>\n",
       "      <td>MTH1304</td>\n",
       "      <td>FF02</td>\n",
       "      <td>HRManager</td>\n",
       "    </tr>\n",
       "    <tr>\n",
       "      <th>2</th>\n",
       "      <td>111.0</td>\n",
       "      <td>Kelly</td>\n",
       "      <td>CSCI1302</td>\n",
       "      <td>XY03</td>\n",
       "      <td>Manager</td>\n",
       "    </tr>\n",
       "    <tr>\n",
       "      <th>3</th>\n",
       "      <td>111.0</td>\n",
       "      <td>Kelly</td>\n",
       "      <td>CSCI1462</td>\n",
       "      <td>XY03</td>\n",
       "      <td>Manager</td>\n",
       "    </tr>\n",
       "    <tr>\n",
       "      <th>4</th>\n",
       "      <td>NaN</td>\n",
       "      <td>Max</td>\n",
       "      <td>NaN</td>\n",
       "      <td>YYY2</td>\n",
       "      <td>Developer</td>\n",
       "    </tr>\n",
       "    <tr>\n",
       "      <th>5</th>\n",
       "      <td>333.0</td>\n",
       "      <td>Megan</td>\n",
       "      <td>CSCI1462</td>\n",
       "      <td>NaN</td>\n",
       "      <td>NaN</td>\n",
       "    </tr>\n",
       "  </tbody>\n",
       "</table>\n",
       "</div>"
      ],
      "text/plain": [
       "     SID   Name    Course   EID Designation\n",
       "0    NaN    Ben       NaN  ZZ02         CEO\n",
       "1  222.0   John   MTH1304  FF02   HRManager\n",
       "2  111.0  Kelly  CSCI1302  XY03     Manager\n",
       "3  111.0  Kelly  CSCI1462  XY03     Manager\n",
       "4    NaN    Max       NaN  YYY2   Developer\n",
       "5  333.0  Megan  CSCI1462   NaN         NaN"
      ]
     },
     "execution_count": 21,
     "metadata": {},
     "output_type": "execute_result"
    }
   ],
   "source": [
    "pd.merge(left, right, how='outer', on='Name')"
   ]
  },
  {
   "cell_type": "markdown",
   "id": "0608689d-59e6-437e-8b92-125f43048e94",
   "metadata": {},
   "source": [
    "### Performing left join between rows of tables\n",
    "\n",
    "The left join returns all the rows from the left table and the matching rows from the right table. Moreover,  if there are rows in left table that do not have matches in the right, those rows will also be listed, with missing(NaN) values in the columns from the right table without a match. "
   ]
  },
  {
   "cell_type": "code",
   "execution_count": 22,
   "id": "e2e02d94-2828-4949-b179-71df7da98956",
   "metadata": {},
   "outputs": [
    {
     "data": {
      "text/html": [
       "<div>\n",
       "<style scoped>\n",
       "    .dataframe tbody tr th:only-of-type {\n",
       "        vertical-align: middle;\n",
       "    }\n",
       "\n",
       "    .dataframe tbody tr th {\n",
       "        vertical-align: top;\n",
       "    }\n",
       "\n",
       "    .dataframe thead th {\n",
       "        text-align: right;\n",
       "    }\n",
       "</style>\n",
       "<table border=\"1\" class=\"dataframe\">\n",
       "  <thead>\n",
       "    <tr style=\"text-align: right;\">\n",
       "      <th></th>\n",
       "      <th>SID</th>\n",
       "      <th>Name</th>\n",
       "      <th>Course</th>\n",
       "    </tr>\n",
       "  </thead>\n",
       "  <tbody>\n",
       "    <tr>\n",
       "      <th>0</th>\n",
       "      <td>111</td>\n",
       "      <td>Kelly</td>\n",
       "      <td>CSCI1302</td>\n",
       "    </tr>\n",
       "    <tr>\n",
       "      <th>1</th>\n",
       "      <td>222</td>\n",
       "      <td>John</td>\n",
       "      <td>MTH1304</td>\n",
       "    </tr>\n",
       "    <tr>\n",
       "      <th>2</th>\n",
       "      <td>111</td>\n",
       "      <td>Kelly</td>\n",
       "      <td>CSCI1462</td>\n",
       "    </tr>\n",
       "    <tr>\n",
       "      <th>3</th>\n",
       "      <td>333</td>\n",
       "      <td>Megan</td>\n",
       "      <td>CSCI1462</td>\n",
       "    </tr>\n",
       "  </tbody>\n",
       "</table>\n",
       "</div>"
      ],
      "text/plain": [
       "   SID   Name    Course\n",
       "0  111  Kelly  CSCI1302\n",
       "1  222   John   MTH1304\n",
       "2  111  Kelly  CSCI1462\n",
       "3  333  Megan  CSCI1462"
      ]
     },
     "execution_count": 22,
     "metadata": {},
     "output_type": "execute_result"
    }
   ],
   "source": [
    "left"
   ]
  },
  {
   "cell_type": "code",
   "execution_count": 23,
   "id": "a2cba65a-2de0-4d8e-8517-87ed55813e68",
   "metadata": {},
   "outputs": [
    {
     "data": {
      "text/html": [
       "<div>\n",
       "<style scoped>\n",
       "    .dataframe tbody tr th:only-of-type {\n",
       "        vertical-align: middle;\n",
       "    }\n",
       "\n",
       "    .dataframe tbody tr th {\n",
       "        vertical-align: top;\n",
       "    }\n",
       "\n",
       "    .dataframe thead th {\n",
       "        text-align: right;\n",
       "    }\n",
       "</style>\n",
       "<table border=\"1\" class=\"dataframe\">\n",
       "  <thead>\n",
       "    <tr style=\"text-align: right;\">\n",
       "      <th></th>\n",
       "      <th>EID</th>\n",
       "      <th>Name</th>\n",
       "      <th>Designation</th>\n",
       "    </tr>\n",
       "  </thead>\n",
       "  <tbody>\n",
       "    <tr>\n",
       "      <th>0</th>\n",
       "      <td>XY03</td>\n",
       "      <td>Kelly</td>\n",
       "      <td>Manager</td>\n",
       "    </tr>\n",
       "    <tr>\n",
       "      <th>1</th>\n",
       "      <td>ZZ02</td>\n",
       "      <td>Ben</td>\n",
       "      <td>CEO</td>\n",
       "    </tr>\n",
       "    <tr>\n",
       "      <th>2</th>\n",
       "      <td>FF02</td>\n",
       "      <td>John</td>\n",
       "      <td>HRManager</td>\n",
       "    </tr>\n",
       "    <tr>\n",
       "      <th>3</th>\n",
       "      <td>YYY2</td>\n",
       "      <td>Max</td>\n",
       "      <td>Developer</td>\n",
       "    </tr>\n",
       "  </tbody>\n",
       "</table>\n",
       "</div>"
      ],
      "text/plain": [
       "    EID   Name Designation\n",
       "0  XY03  Kelly     Manager\n",
       "1  ZZ02    Ben         CEO\n",
       "2  FF02   John   HRManager\n",
       "3  YYY2    Max   Developer"
      ]
     },
     "execution_count": 23,
     "metadata": {},
     "output_type": "execute_result"
    }
   ],
   "source": [
    "right"
   ]
  },
  {
   "cell_type": "code",
   "execution_count": 24,
   "id": "aaa73ff2-f232-4c5c-afcc-2e3f6c922d97",
   "metadata": {},
   "outputs": [
    {
     "data": {
      "text/html": [
       "<div>\n",
       "<style scoped>\n",
       "    .dataframe tbody tr th:only-of-type {\n",
       "        vertical-align: middle;\n",
       "    }\n",
       "\n",
       "    .dataframe tbody tr th {\n",
       "        vertical-align: top;\n",
       "    }\n",
       "\n",
       "    .dataframe thead th {\n",
       "        text-align: right;\n",
       "    }\n",
       "</style>\n",
       "<table border=\"1\" class=\"dataframe\">\n",
       "  <thead>\n",
       "    <tr style=\"text-align: right;\">\n",
       "      <th></th>\n",
       "      <th>SID</th>\n",
       "      <th>Name</th>\n",
       "      <th>Course</th>\n",
       "      <th>EID</th>\n",
       "      <th>Designation</th>\n",
       "    </tr>\n",
       "  </thead>\n",
       "  <tbody>\n",
       "    <tr>\n",
       "      <th>0</th>\n",
       "      <td>111</td>\n",
       "      <td>Kelly</td>\n",
       "      <td>CSCI1302</td>\n",
       "      <td>XY03</td>\n",
       "      <td>Manager</td>\n",
       "    </tr>\n",
       "    <tr>\n",
       "      <th>1</th>\n",
       "      <td>222</td>\n",
       "      <td>John</td>\n",
       "      <td>MTH1304</td>\n",
       "      <td>FF02</td>\n",
       "      <td>HRManager</td>\n",
       "    </tr>\n",
       "    <tr>\n",
       "      <th>2</th>\n",
       "      <td>111</td>\n",
       "      <td>Kelly</td>\n",
       "      <td>CSCI1462</td>\n",
       "      <td>XY03</td>\n",
       "      <td>Manager</td>\n",
       "    </tr>\n",
       "    <tr>\n",
       "      <th>3</th>\n",
       "      <td>333</td>\n",
       "      <td>Megan</td>\n",
       "      <td>CSCI1462</td>\n",
       "      <td>NaN</td>\n",
       "      <td>NaN</td>\n",
       "    </tr>\n",
       "  </tbody>\n",
       "</table>\n",
       "</div>"
      ],
      "text/plain": [
       "   SID   Name    Course   EID Designation\n",
       "0  111  Kelly  CSCI1302  XY03     Manager\n",
       "1  222   John   MTH1304  FF02   HRManager\n",
       "2  111  Kelly  CSCI1462  XY03     Manager\n",
       "3  333  Megan  CSCI1462   NaN         NaN"
      ]
     },
     "execution_count": 24,
     "metadata": {},
     "output_type": "execute_result"
    }
   ],
   "source": [
    "pd.merge(left, right, how='left', on='Name')"
   ]
  },
  {
   "cell_type": "markdown",
   "id": "64a5e437-7a69-4f84-b26a-1a3bcc695ea2",
   "metadata": {},
   "source": [
    "### Performing right join between rows of tables\n",
    "\n",
    "The right join returns all the rows from the right table and the matching rows from the left table. Moreover,  if there are rows in right table that do not have matches in the left, those rows will also be listed, with missing(NaN) values in the columns from the left table without a match. "
   ]
  },
  {
   "cell_type": "code",
   "execution_count": 25,
   "id": "49375926-df84-4e4e-b35f-8fc2822a590e",
   "metadata": {},
   "outputs": [
    {
     "data": {
      "text/html": [
       "<div>\n",
       "<style scoped>\n",
       "    .dataframe tbody tr th:only-of-type {\n",
       "        vertical-align: middle;\n",
       "    }\n",
       "\n",
       "    .dataframe tbody tr th {\n",
       "        vertical-align: top;\n",
       "    }\n",
       "\n",
       "    .dataframe thead th {\n",
       "        text-align: right;\n",
       "    }\n",
       "</style>\n",
       "<table border=\"1\" class=\"dataframe\">\n",
       "  <thead>\n",
       "    <tr style=\"text-align: right;\">\n",
       "      <th></th>\n",
       "      <th>SID</th>\n",
       "      <th>Name</th>\n",
       "      <th>Course</th>\n",
       "    </tr>\n",
       "  </thead>\n",
       "  <tbody>\n",
       "    <tr>\n",
       "      <th>0</th>\n",
       "      <td>111</td>\n",
       "      <td>Kelly</td>\n",
       "      <td>CSCI1302</td>\n",
       "    </tr>\n",
       "    <tr>\n",
       "      <th>1</th>\n",
       "      <td>222</td>\n",
       "      <td>John</td>\n",
       "      <td>MTH1304</td>\n",
       "    </tr>\n",
       "    <tr>\n",
       "      <th>2</th>\n",
       "      <td>111</td>\n",
       "      <td>Kelly</td>\n",
       "      <td>CSCI1462</td>\n",
       "    </tr>\n",
       "    <tr>\n",
       "      <th>3</th>\n",
       "      <td>333</td>\n",
       "      <td>Megan</td>\n",
       "      <td>CSCI1462</td>\n",
       "    </tr>\n",
       "  </tbody>\n",
       "</table>\n",
       "</div>"
      ],
      "text/plain": [
       "   SID   Name    Course\n",
       "0  111  Kelly  CSCI1302\n",
       "1  222   John   MTH1304\n",
       "2  111  Kelly  CSCI1462\n",
       "3  333  Megan  CSCI1462"
      ]
     },
     "execution_count": 25,
     "metadata": {},
     "output_type": "execute_result"
    }
   ],
   "source": [
    "left"
   ]
  },
  {
   "cell_type": "code",
   "execution_count": 26,
   "id": "32c9344c-c17b-4bc0-b118-09d1c4101cab",
   "metadata": {},
   "outputs": [
    {
     "data": {
      "text/html": [
       "<div>\n",
       "<style scoped>\n",
       "    .dataframe tbody tr th:only-of-type {\n",
       "        vertical-align: middle;\n",
       "    }\n",
       "\n",
       "    .dataframe tbody tr th {\n",
       "        vertical-align: top;\n",
       "    }\n",
       "\n",
       "    .dataframe thead th {\n",
       "        text-align: right;\n",
       "    }\n",
       "</style>\n",
       "<table border=\"1\" class=\"dataframe\">\n",
       "  <thead>\n",
       "    <tr style=\"text-align: right;\">\n",
       "      <th></th>\n",
       "      <th>EID</th>\n",
       "      <th>Name</th>\n",
       "      <th>Designation</th>\n",
       "    </tr>\n",
       "  </thead>\n",
       "  <tbody>\n",
       "    <tr>\n",
       "      <th>0</th>\n",
       "      <td>XY03</td>\n",
       "      <td>Kelly</td>\n",
       "      <td>Manager</td>\n",
       "    </tr>\n",
       "    <tr>\n",
       "      <th>1</th>\n",
       "      <td>ZZ02</td>\n",
       "      <td>Ben</td>\n",
       "      <td>CEO</td>\n",
       "    </tr>\n",
       "    <tr>\n",
       "      <th>2</th>\n",
       "      <td>FF02</td>\n",
       "      <td>John</td>\n",
       "      <td>HRManager</td>\n",
       "    </tr>\n",
       "    <tr>\n",
       "      <th>3</th>\n",
       "      <td>YYY2</td>\n",
       "      <td>Max</td>\n",
       "      <td>Developer</td>\n",
       "    </tr>\n",
       "  </tbody>\n",
       "</table>\n",
       "</div>"
      ],
      "text/plain": [
       "    EID   Name Designation\n",
       "0  XY03  Kelly     Manager\n",
       "1  ZZ02    Ben         CEO\n",
       "2  FF02   John   HRManager\n",
       "3  YYY2    Max   Developer"
      ]
     },
     "execution_count": 26,
     "metadata": {},
     "output_type": "execute_result"
    }
   ],
   "source": [
    "right"
   ]
  },
  {
   "cell_type": "code",
   "execution_count": 27,
   "id": "009b9c01-1cac-40dd-b867-6baba8ee6320",
   "metadata": {},
   "outputs": [
    {
     "data": {
      "text/html": [
       "<div>\n",
       "<style scoped>\n",
       "    .dataframe tbody tr th:only-of-type {\n",
       "        vertical-align: middle;\n",
       "    }\n",
       "\n",
       "    .dataframe tbody tr th {\n",
       "        vertical-align: top;\n",
       "    }\n",
       "\n",
       "    .dataframe thead th {\n",
       "        text-align: right;\n",
       "    }\n",
       "</style>\n",
       "<table border=\"1\" class=\"dataframe\">\n",
       "  <thead>\n",
       "    <tr style=\"text-align: right;\">\n",
       "      <th></th>\n",
       "      <th>SID</th>\n",
       "      <th>Name</th>\n",
       "      <th>Course</th>\n",
       "      <th>EID</th>\n",
       "      <th>Designation</th>\n",
       "    </tr>\n",
       "  </thead>\n",
       "  <tbody>\n",
       "    <tr>\n",
       "      <th>0</th>\n",
       "      <td>111.0</td>\n",
       "      <td>Kelly</td>\n",
       "      <td>CSCI1302</td>\n",
       "      <td>XY03</td>\n",
       "      <td>Manager</td>\n",
       "    </tr>\n",
       "    <tr>\n",
       "      <th>1</th>\n",
       "      <td>111.0</td>\n",
       "      <td>Kelly</td>\n",
       "      <td>CSCI1462</td>\n",
       "      <td>XY03</td>\n",
       "      <td>Manager</td>\n",
       "    </tr>\n",
       "    <tr>\n",
       "      <th>2</th>\n",
       "      <td>NaN</td>\n",
       "      <td>Ben</td>\n",
       "      <td>NaN</td>\n",
       "      <td>ZZ02</td>\n",
       "      <td>CEO</td>\n",
       "    </tr>\n",
       "    <tr>\n",
       "      <th>3</th>\n",
       "      <td>222.0</td>\n",
       "      <td>John</td>\n",
       "      <td>MTH1304</td>\n",
       "      <td>FF02</td>\n",
       "      <td>HRManager</td>\n",
       "    </tr>\n",
       "    <tr>\n",
       "      <th>4</th>\n",
       "      <td>NaN</td>\n",
       "      <td>Max</td>\n",
       "      <td>NaN</td>\n",
       "      <td>YYY2</td>\n",
       "      <td>Developer</td>\n",
       "    </tr>\n",
       "  </tbody>\n",
       "</table>\n",
       "</div>"
      ],
      "text/plain": [
       "     SID   Name    Course   EID Designation\n",
       "0  111.0  Kelly  CSCI1302  XY03     Manager\n",
       "1  111.0  Kelly  CSCI1462  XY03     Manager\n",
       "2    NaN    Ben       NaN  ZZ02         CEO\n",
       "3  222.0   John   MTH1304  FF02   HRManager\n",
       "4    NaN    Max       NaN  YYY2   Developer"
      ]
     },
     "execution_count": 27,
     "metadata": {},
     "output_type": "execute_result"
    }
   ],
   "source": [
    "pd.merge(left, right, how='right', on='Name')"
   ]
  },
  {
   "cell_type": "code",
   "execution_count": 28,
   "id": "6e191c2e-5a01-4192-b0af-57f0776f2735",
   "metadata": {},
   "outputs": [],
   "source": [
    "left = pd.DataFrame({'Id': [100, 200, 300],\n",
    "                    'FirstName': ['Mary', 'Vincent', 'Jack'],\n",
    "                    'LastName': ['Dufrene', 'Robin', 'Sparrow']})\n",
    "\n",
    "right = pd.DataFrame({'FirstName': ['Jack', 'Mary', 'Vincent', 'Jack'],\n",
    "                      'LastName' : ['Sullivan', 'Dufrene', 'Morgan', 'Sparrow'],\n",
    "                      'City': ['Nacogdoches', 'Houston', 'Dallas', 'Houston']})\n"
   ]
  },
  {
   "cell_type": "code",
   "execution_count": 29,
   "id": "1391dada-3b90-4c79-8e9d-0f6ca3e04390",
   "metadata": {},
   "outputs": [
    {
     "data": {
      "text/html": [
       "<div>\n",
       "<style scoped>\n",
       "    .dataframe tbody tr th:only-of-type {\n",
       "        vertical-align: middle;\n",
       "    }\n",
       "\n",
       "    .dataframe tbody tr th {\n",
       "        vertical-align: top;\n",
       "    }\n",
       "\n",
       "    .dataframe thead th {\n",
       "        text-align: right;\n",
       "    }\n",
       "</style>\n",
       "<table border=\"1\" class=\"dataframe\">\n",
       "  <thead>\n",
       "    <tr style=\"text-align: right;\">\n",
       "      <th></th>\n",
       "      <th>Id</th>\n",
       "      <th>FirstName</th>\n",
       "      <th>LastName</th>\n",
       "    </tr>\n",
       "  </thead>\n",
       "  <tbody>\n",
       "    <tr>\n",
       "      <th>0</th>\n",
       "      <td>100</td>\n",
       "      <td>Mary</td>\n",
       "      <td>Dufrene</td>\n",
       "    </tr>\n",
       "    <tr>\n",
       "      <th>1</th>\n",
       "      <td>200</td>\n",
       "      <td>Vincent</td>\n",
       "      <td>Robin</td>\n",
       "    </tr>\n",
       "    <tr>\n",
       "      <th>2</th>\n",
       "      <td>300</td>\n",
       "      <td>Jack</td>\n",
       "      <td>Sparrow</td>\n",
       "    </tr>\n",
       "  </tbody>\n",
       "</table>\n",
       "</div>"
      ],
      "text/plain": [
       "    Id FirstName LastName\n",
       "0  100      Mary  Dufrene\n",
       "1  200   Vincent    Robin\n",
       "2  300      Jack  Sparrow"
      ]
     },
     "execution_count": 29,
     "metadata": {},
     "output_type": "execute_result"
    }
   ],
   "source": [
    "left"
   ]
  },
  {
   "cell_type": "code",
   "execution_count": 30,
   "id": "0cce40ae-cb04-45a1-ab4b-cab4aef47850",
   "metadata": {},
   "outputs": [
    {
     "data": {
      "text/html": [
       "<div>\n",
       "<style scoped>\n",
       "    .dataframe tbody tr th:only-of-type {\n",
       "        vertical-align: middle;\n",
       "    }\n",
       "\n",
       "    .dataframe tbody tr th {\n",
       "        vertical-align: top;\n",
       "    }\n",
       "\n",
       "    .dataframe thead th {\n",
       "        text-align: right;\n",
       "    }\n",
       "</style>\n",
       "<table border=\"1\" class=\"dataframe\">\n",
       "  <thead>\n",
       "    <tr style=\"text-align: right;\">\n",
       "      <th></th>\n",
       "      <th>FirstName</th>\n",
       "      <th>LastName</th>\n",
       "      <th>City</th>\n",
       "    </tr>\n",
       "  </thead>\n",
       "  <tbody>\n",
       "    <tr>\n",
       "      <th>0</th>\n",
       "      <td>Jack</td>\n",
       "      <td>Sullivan</td>\n",
       "      <td>Nacogdoches</td>\n",
       "    </tr>\n",
       "    <tr>\n",
       "      <th>1</th>\n",
       "      <td>Mary</td>\n",
       "      <td>Dufrene</td>\n",
       "      <td>Houston</td>\n",
       "    </tr>\n",
       "    <tr>\n",
       "      <th>2</th>\n",
       "      <td>Vincent</td>\n",
       "      <td>Morgan</td>\n",
       "      <td>Dallas</td>\n",
       "    </tr>\n",
       "    <tr>\n",
       "      <th>3</th>\n",
       "      <td>Jack</td>\n",
       "      <td>Sparrow</td>\n",
       "      <td>Houston</td>\n",
       "    </tr>\n",
       "  </tbody>\n",
       "</table>\n",
       "</div>"
      ],
      "text/plain": [
       "  FirstName  LastName         City\n",
       "0      Jack  Sullivan  Nacogdoches\n",
       "1      Mary   Dufrene      Houston\n",
       "2   Vincent    Morgan       Dallas\n",
       "3      Jack   Sparrow      Houston"
      ]
     },
     "execution_count": 30,
     "metadata": {},
     "output_type": "execute_result"
    }
   ],
   "source": [
    "right"
   ]
  },
  {
   "cell_type": "code",
   "execution_count": null,
   "id": "586d23a4-e737-4b2a-ad40-8f5b17789758",
   "metadata": {},
   "outputs": [],
   "source": [
    "pd.merge(left, right, how='inner', on='FirstName')"
   ]
  },
  {
   "cell_type": "markdown",
   "id": "4ff8ab86-c9b4-4013-9b3a-9d4e25a721e1",
   "metadata": {},
   "source": [
    "### Question 1\n",
    "\n",
    "A table named `mealSwipes` contains a row for each time a student swipe meals during the month of Oct, Nov and Dec. The table contains four columns: \n",
    "- Email: a string, the email address of the student\n",
    "- Department: a string, the department that the student belongs to\n",
    "- Meal Swipes: an int, the number of meal swipes per month\n",
    "- Month: a string, the month in which the student swiped for the meals\n",
    "\n",
    "A second table `roster` contains a row for each student enrolled at SFA. It has two columns: \n",
    "- Email: a string, the email address of the student\n",
    "- Name: a string, the first name of the student\n",
    "\n",
    "Note: Every student has one unique email address, but two students might have the same name. \n",
    "\n",
    "Write python code to answer the following questions: "
   ]
  },
  {
   "cell_type": "code",
   "execution_count": 31,
   "id": "906a87cc-6d06-45e8-a4d7-f7559d69b22b",
   "metadata": {},
   "outputs": [
    {
     "data": {
      "text/html": [
       "<div>\n",
       "<style scoped>\n",
       "    .dataframe tbody tr th:only-of-type {\n",
       "        vertical-align: middle;\n",
       "    }\n",
       "\n",
       "    .dataframe tbody tr th {\n",
       "        vertical-align: top;\n",
       "    }\n",
       "\n",
       "    .dataframe thead th {\n",
       "        text-align: right;\n",
       "    }\n",
       "</style>\n",
       "<table border=\"1\" class=\"dataframe\">\n",
       "  <thead>\n",
       "    <tr style=\"text-align: right;\">\n",
       "      <th></th>\n",
       "      <th>Email</th>\n",
       "      <th>Department</th>\n",
       "      <th>MealSwipes</th>\n",
       "      <th>Month</th>\n",
       "    </tr>\n",
       "  </thead>\n",
       "  <tbody>\n",
       "    <tr>\n",
       "      <th>0</th>\n",
       "      <td>erica7298@sfasu.edu</td>\n",
       "      <td>Physics</td>\n",
       "      <td>472</td>\n",
       "      <td>Oct</td>\n",
       "    </tr>\n",
       "    <tr>\n",
       "      <th>1</th>\n",
       "      <td>dacey@sfasu.edu</td>\n",
       "      <td>Mathematics</td>\n",
       "      <td>33</td>\n",
       "      <td>Nov</td>\n",
       "    </tr>\n",
       "    <tr>\n",
       "      <th>2</th>\n",
       "      <td>slade7982@sfasu.edu</td>\n",
       "      <td>Physics</td>\n",
       "      <td>178</td>\n",
       "      <td>Oct</td>\n",
       "    </tr>\n",
       "  </tbody>\n",
       "</table>\n",
       "</div>"
      ],
      "text/plain": [
       "                 Email   Department  MealSwipes Month\n",
       "0  erica7298@sfasu.edu      Physics         472   Oct\n",
       "1      dacey@sfasu.edu  Mathematics          33   Nov\n",
       "2  slade7982@sfasu.edu      Physics         178   Oct"
      ]
     },
     "execution_count": 31,
     "metadata": {},
     "output_type": "execute_result"
    }
   ],
   "source": [
    "mealSwipes = pd.read_csv('data/mealSwipes.csv')\n",
    "mealSwipes.head(3)"
   ]
  },
  {
   "cell_type": "code",
   "execution_count": 32,
   "id": "aa0b324f-9613-4bc1-a5c3-d761bfde0a45",
   "metadata": {},
   "outputs": [
    {
     "data": {
      "text/html": [
       "<div>\n",
       "<style scoped>\n",
       "    .dataframe tbody tr th:only-of-type {\n",
       "        vertical-align: middle;\n",
       "    }\n",
       "\n",
       "    .dataframe tbody tr th {\n",
       "        vertical-align: top;\n",
       "    }\n",
       "\n",
       "    .dataframe thead th {\n",
       "        text-align: right;\n",
       "    }\n",
       "</style>\n",
       "<table border=\"1\" class=\"dataframe\">\n",
       "  <thead>\n",
       "    <tr style=\"text-align: right;\">\n",
       "      <th></th>\n",
       "      <th>Email</th>\n",
       "      <th>Name</th>\n",
       "    </tr>\n",
       "  </thead>\n",
       "  <tbody>\n",
       "    <tr>\n",
       "      <th>0</th>\n",
       "      <td>erica7298@sfasu.edu</td>\n",
       "      <td>Erica</td>\n",
       "    </tr>\n",
       "    <tr>\n",
       "      <th>1</th>\n",
       "      <td>dacey@sfasu.edu</td>\n",
       "      <td>Dacey</td>\n",
       "    </tr>\n",
       "    <tr>\n",
       "      <th>2</th>\n",
       "      <td>slade7982@sfasu.edu</td>\n",
       "      <td>Slade</td>\n",
       "    </tr>\n",
       "  </tbody>\n",
       "</table>\n",
       "</div>"
      ],
      "text/plain": [
       "                 Email   Name\n",
       "0  erica7298@sfasu.edu  Erica\n",
       "1      dacey@sfasu.edu  Dacey\n",
       "2  slade7982@sfasu.edu  Slade"
      ]
     },
     "execution_count": 32,
     "metadata": {},
     "output_type": "execute_result"
    }
   ],
   "source": [
    "roster = pd.read_csv('data/roster.csv')\n",
    "roster.head(3)"
   ]
  },
  {
   "cell_type": "markdown",
   "id": "e1cbc6e5-554a-4cb4-b16d-65cb0b441b90",
   "metadata": {
    "deletable": false,
    "editable": false
   },
   "source": [
    "### Question 1(a) \n",
    "The largest number of meal swipes made by any student. Store your result in `your_ans`. \n",
    "\n",
    "Hint: Use numpy `max` method"
   ]
  },
  {
   "cell_type": "code",
   "execution_count": 33,
   "id": "4b401956-f432-4f65-84ed-a4d43147aa1a",
   "metadata": {
    "tags": []
   },
   "outputs": [
    {
     "data": {
      "text/plain": [
       "np.int64(499)"
      ]
     },
     "execution_count": 33,
     "metadata": {},
     "output_type": "execute_result"
    }
   ],
   "source": [
    "your_ans = np.max(mealSwipes['MealSwipes'])\n",
    "your_ans"
   ]
  },
  {
   "cell_type": "code",
   "execution_count": 34,
   "id": "06d80504",
   "metadata": {
    "deletable": false,
    "editable": false
   },
   "outputs": [
    {
     "data": {
      "text/html": [
       "<p><strong><pre style='display: inline;'>q1(a)</pre></strong> passed! 💯</p>"
      ],
      "text/plain": [
       "q1(a) results: All test cases passed!"
      ]
     },
     "execution_count": 34,
     "metadata": {},
     "output_type": "execute_result"
    }
   ],
   "source": [
    "grader.check(\"q1(a)\")"
   ]
  },
  {
   "cell_type": "markdown",
   "id": "ff188fb0-7be5-42d3-a45a-4f814dcc18f4",
   "metadata": {
    "deletable": false,
    "editable": false
   },
   "source": [
    "### Question 1(b)\n",
    "\n",
    "The department that appears most often in the `mealSwipes` table. Store your result in the variable `your_ans`. "
   ]
  },
  {
   "cell_type": "code",
   "execution_count": 44,
   "id": "bcdd9aef-7d8e-48a5-83a4-f7e746466db1",
   "metadata": {
    "tags": []
   },
   "outputs": [
    {
     "data": {
      "text/plain": [
       "'EarthSci'"
      ]
     },
     "execution_count": 44,
     "metadata": {},
     "output_type": "execute_result"
    }
   ],
   "source": [
    "df = mealSwipes[['MealSwipes', 'Department']].groupby('Department', as_index = False).count()\n",
    "sorted_df = df.sort_values('MealSwipes', ascending=False)\n",
    "your_ans = sorted_df.iloc[0, 0]\n",
    "your_ans"
   ]
  },
  {
   "cell_type": "code",
   "execution_count": 45,
   "id": "61e5230f",
   "metadata": {
    "deletable": false,
    "editable": false
   },
   "outputs": [
    {
     "data": {
      "text/html": [
       "<p><strong><pre style='display: inline;'>q1(b)</pre></strong> passed! 🌟</p>"
      ],
      "text/plain": [
       "q1(b) results: All test cases passed!"
      ]
     },
     "execution_count": 45,
     "metadata": {},
     "output_type": "execute_result"
    }
   ],
   "source": [
    "grader.check(\"q1(b)\")"
   ]
  },
  {
   "cell_type": "markdown",
   "id": "59bc7e07-bc35-4dd2-8884-2cd60223814b",
   "metadata": {
    "deletable": false,
    "editable": false
   },
   "source": [
    "### Question 1(c)\n",
    "\n",
    "The total number of meal swipes for the month of November for students belonging to the department of `CompSci`, `Chemistry` and `Mathematics`. "
   ]
  },
  {
   "cell_type": "code",
   "execution_count": null,
   "id": "ba1e4e47-171b-42a7-8cac-31d007a0557c",
   "metadata": {
    "tags": []
   },
   "outputs": [],
   "source": [
    "your_ans = ...\n",
    "your_ans"
   ]
  },
  {
   "cell_type": "code",
   "execution_count": null,
   "id": "6b1637c5",
   "metadata": {
    "deletable": false,
    "editable": false
   },
   "outputs": [],
   "source": [
    "grader.check(\"q1(c)\")"
   ]
  },
  {
   "cell_type": "markdown",
   "id": "569e6d2e-1b5e-4454-9d42-16e32f4fa22b",
   "metadata": {
    "deletable": false,
    "editable": false
   },
   "source": [
    "### Question 1(d)\n",
    "\n",
    "The name of the student who had most meal swipes across all three months. (Assume no ties; i.e, no two students have the most swipes)"
   ]
  },
  {
   "cell_type": "code",
   "execution_count": null,
   "id": "6c2e2962-e103-4e49-90cb-064c65e16e2a",
   "metadata": {
    "tags": []
   },
   "outputs": [],
   "source": [
    "your_ans = ...\n",
    "your_ans"
   ]
  },
  {
   "cell_type": "code",
   "execution_count": null,
   "id": "3b7ef7b9",
   "metadata": {
    "deletable": false,
    "editable": false
   },
   "outputs": [],
   "source": [
    "grader.check(\"q1(d)\")"
   ]
  }
 ],
 "metadata": {
  "kernelspec": {
   "display_name": "Python 3 (ipykernel)",
   "language": "python",
   "name": "python3"
  },
  "language_info": {
   "codemirror_mode": {
    "name": "ipython",
    "version": 3
   },
   "file_extension": ".py",
   "mimetype": "text/x-python",
   "name": "python",
   "nbconvert_exporter": "python",
   "pygments_lexer": "ipython3",
   "version": "3.12.6"
  },
  "otter": {
   "OK_FORMAT": true,
   "tests": {
    "q1(a)": {
     "name": "q1(a)",
     "points": null,
     "suites": [
      {
       "cases": [
        {
         "code": ">>> your_ans.item() == 499\nTrue",
         "hidden": false,
         "locked": false
        }
       ],
       "scored": true,
       "setup": "",
       "teardown": "",
       "type": "doctest"
      }
     ]
    },
    "q1(b)": {
     "name": "q1(b)",
     "points": null,
     "suites": [
      {
       "cases": [
        {
         "code": ">>> your_ans == 'EarthSci'\nTrue",
         "hidden": false,
         "locked": false
        }
       ],
       "scored": true,
       "setup": "",
       "teardown": "",
       "type": "doctest"
      }
     ]
    },
    "q1(c)": {
     "name": "q1(c)",
     "points": null,
     "suites": [
      {
       "cases": [
        {
         "code": ">>> your_ans.item() == 3093\nTrue",
         "hidden": false,
         "locked": false
        }
       ],
       "scored": true,
       "setup": "",
       "teardown": "",
       "type": "doctest"
      }
     ]
    },
    "q1(d)": {
     "name": "q1(d)",
     "points": null,
     "suites": [
      {
       "cases": [
        {
         "code": ">>> your_ans == 'Merrill'\nTrue",
         "hidden": false,
         "locked": false
        }
       ],
       "scored": true,
       "setup": "",
       "teardown": "",
       "type": "doctest"
      }
     ]
    }
   }
  }
 },
 "nbformat": 4,
 "nbformat_minor": 5
}
