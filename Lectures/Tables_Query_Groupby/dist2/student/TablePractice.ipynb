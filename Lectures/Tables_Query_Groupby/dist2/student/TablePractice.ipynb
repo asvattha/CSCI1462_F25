{
 "cells": [
  {
   "cell_type": "code",
   "execution_count": 10,
   "id": "82c533b5",
   "metadata": {
    "deletable": false,
    "editable": false
   },
   "outputs": [
    {
     "ename": "Exception",
     "evalue": "Could not create the log file as the file system is read-only. Please contact your instructor before continuing on this assignment.",
     "output_type": "error",
     "traceback": [
      "\u001b[0;31m---------------------------------------------------------------------------\u001b[0m",
      "\u001b[0;31mAttributeError\u001b[0m                            Traceback (most recent call last)",
      "File \u001b[0;32m/opt/tljh/user/lib/python3.12/site-packages/nbformat/__init__.py:169\u001b[0m, in \u001b[0;36mread\u001b[0;34m(fp, as_version, capture_validation_error, **kwargs)\u001b[0m\n\u001b[1;32m    168\u001b[0m \u001b[38;5;28;01mtry\u001b[39;00m:\n\u001b[0;32m--> 169\u001b[0m     buf \u001b[38;5;241m=\u001b[39m \u001b[43mfp\u001b[49m\u001b[38;5;241;43m.\u001b[39;49m\u001b[43mread\u001b[49m()\n\u001b[1;32m    170\u001b[0m \u001b[38;5;28;01mexcept\u001b[39;00m \u001b[38;5;167;01mAttributeError\u001b[39;00m:\n",
      "\u001b[0;31mAttributeError\u001b[0m: 'str' object has no attribute 'read'",
      "\nDuring handling of the above exception, another exception occurred:\n",
      "\u001b[0;31mFileNotFoundError\u001b[0m                         Traceback (most recent call last)",
      "File \u001b[0;32m/opt/tljh/user/lib/python3.12/site-packages/otter/check/utils.py:237\u001b[0m, in \u001b[0;36mlogs_event.<locals>.event_logger\u001b[0;34m(wrapped, self, args, kwargs)\u001b[0m\n\u001b[1;32m    236\u001b[0m \u001b[38;5;28;01mtry\u001b[39;00m:\n\u001b[0;32m--> 237\u001b[0m     ret: Optional[LoggedEventReturnValue[T]] \u001b[38;5;241m=\u001b[39m \u001b[43mwrapped\u001b[49m\u001b[43m(\u001b[49m\u001b[38;5;241;43m*\u001b[39;49m\u001b[43margs\u001b[49m\u001b[43m,\u001b[49m\u001b[43m \u001b[49m\u001b[38;5;241;43m*\u001b[39;49m\u001b[38;5;241;43m*\u001b[39;49m\u001b[43mkwargs\u001b[49m\u001b[43m)\u001b[49m\n\u001b[1;32m    239\u001b[0m \u001b[38;5;28;01mexcept\u001b[39;00m \u001b[38;5;167;01mException\u001b[39;00m \u001b[38;5;28;01mas\u001b[39;00m e:\n",
      "File \u001b[0;32m/opt/tljh/user/lib/python3.12/site-packages/otter/check/notebook.py:142\u001b[0m, in \u001b[0;36mNotebook.__init__\u001b[0;34m(self, nb_path, tests_dir, tests_url_prefix)\u001b[0m\n\u001b[1;32m    140\u001b[0m \u001b[38;5;28;01mif\u001b[39;00m \u001b[38;5;28mself\u001b[39m\u001b[38;5;241m.\u001b[39m_notebook:\n\u001b[1;32m    141\u001b[0m     \u001b[38;5;28mself\u001b[39m\u001b[38;5;241m.\u001b[39m_nbmeta_config \u001b[38;5;241m=\u001b[39m NBMetadataConfig\u001b[38;5;241m.\u001b[39mfrom_notebook(\n\u001b[0;32m--> 142\u001b[0m         \u001b[43mnbf\u001b[49m\u001b[38;5;241;43m.\u001b[39;49m\u001b[43mread\u001b[49m\u001b[43m(\u001b[49m\u001b[38;5;28;43mself\u001b[39;49m\u001b[38;5;241;43m.\u001b[39;49m\u001b[43m_notebook\u001b[49m\u001b[43m,\u001b[49m\u001b[43m \u001b[49m\u001b[43mnbf\u001b[49m\u001b[38;5;241;43m.\u001b[39;49m\u001b[43mNO_CONVERT\u001b[49m\u001b[43m)\u001b[49m\n\u001b[1;32m    143\u001b[0m     )\n\u001b[1;32m    144\u001b[0m \u001b[38;5;28;01melse\u001b[39;00m:\n",
      "File \u001b[0;32m/opt/tljh/user/lib/python3.12/site-packages/nbformat/__init__.py:171\u001b[0m, in \u001b[0;36mread\u001b[0;34m(fp, as_version, capture_validation_error, **kwargs)\u001b[0m\n\u001b[1;32m    170\u001b[0m \u001b[38;5;28;01mexcept\u001b[39;00m \u001b[38;5;167;01mAttributeError\u001b[39;00m:\n\u001b[0;32m--> 171\u001b[0m     \u001b[38;5;28;01mwith\u001b[39;00m \u001b[38;5;28;43mopen\u001b[39;49m\u001b[43m(\u001b[49m\u001b[43mfp\u001b[49m\u001b[43m,\u001b[49m\u001b[43m \u001b[49m\u001b[43mencoding\u001b[49m\u001b[38;5;241;43m=\u001b[39;49m\u001b[38;5;124;43m\"\u001b[39;49m\u001b[38;5;124;43mutf8\u001b[39;49m\u001b[38;5;124;43m\"\u001b[39;49m\u001b[43m)\u001b[49m \u001b[38;5;28;01mas\u001b[39;00m f:  \u001b[38;5;66;03m# noqa: PTH123\u001b[39;00m\n\u001b[1;32m    172\u001b[0m         \u001b[38;5;28;01mreturn\u001b[39;00m reads(f\u001b[38;5;241m.\u001b[39mread(), as_version, capture_validation_error, \u001b[38;5;241m*\u001b[39m\u001b[38;5;241m*\u001b[39mkwargs)\n",
      "\u001b[0;31mFileNotFoundError\u001b[0m: [Errno 2] No such file or directory: 'TablePractice.ipynb'",
      "\nDuring handling of the above exception, another exception occurred:\n",
      "\u001b[0;31mFileNotFoundError\u001b[0m                         Traceback (most recent call last)",
      "File \u001b[0;32m/opt/tljh/user/lib/python3.12/site-packages/otter/check/logs.py:152\u001b[0m, in \u001b[0;36mLogEntry.flush_to_file\u001b[0;34m(self, filename)\u001b[0m\n\u001b[1;32m    151\u001b[0m \u001b[38;5;28;01mtry\u001b[39;00m:\n\u001b[0;32m--> 152\u001b[0m     file \u001b[38;5;241m=\u001b[39m \u001b[38;5;28;43mopen\u001b[39;49m\u001b[43m(\u001b[49m\u001b[43mfilename\u001b[49m\u001b[43m,\u001b[49m\u001b[43m \u001b[49m\u001b[38;5;124;43m\"\u001b[39;49m\u001b[38;5;124;43mab+\u001b[39;49m\u001b[38;5;124;43m\"\u001b[39;49m\u001b[43m)\u001b[49m\n\u001b[1;32m    153\u001b[0m     dill\u001b[38;5;241m.\u001b[39mdump(\u001b[38;5;28mself\u001b[39m, file)\n",
      "\u001b[0;31mFileNotFoundError\u001b[0m: [Errno 2] No such file or directory: '.OTTER_LOG'",
      "\nDuring handling of the above exception, another exception occurred:\n",
      "\u001b[0;31mException\u001b[0m                                 Traceback (most recent call last)",
      "Cell \u001b[0;32mIn[10], line 3\u001b[0m\n\u001b[1;32m      1\u001b[0m \u001b[38;5;66;03m# Initialize Otter\u001b[39;00m\n\u001b[1;32m      2\u001b[0m \u001b[38;5;28;01mimport\u001b[39;00m\u001b[38;5;250m \u001b[39m\u001b[38;5;21;01motter\u001b[39;00m\n\u001b[0;32m----> 3\u001b[0m grader \u001b[38;5;241m=\u001b[39m \u001b[43motter\u001b[49m\u001b[38;5;241;43m.\u001b[39;49m\u001b[43mNotebook\u001b[49m\u001b[43m(\u001b[49m\u001b[38;5;124;43m\"\u001b[39;49m\u001b[38;5;124;43mTablePractice.ipynb\u001b[39;49m\u001b[38;5;124;43m\"\u001b[39;49m\u001b[43m)\u001b[49m\n",
      "File \u001b[0;32m/opt/tljh/user/lib/python3.12/site-packages/otter/check/utils.py:240\u001b[0m, in \u001b[0;36mlogs_event.<locals>.event_logger\u001b[0;34m(wrapped, self, args, kwargs)\u001b[0m\n\u001b[1;32m    237\u001b[0m     ret: Optional[LoggedEventReturnValue[T]] \u001b[38;5;241m=\u001b[39m wrapped(\u001b[38;5;241m*\u001b[39margs, \u001b[38;5;241m*\u001b[39m\u001b[38;5;241m*\u001b[39mkwargs)\n\u001b[1;32m    239\u001b[0m \u001b[38;5;28;01mexcept\u001b[39;00m \u001b[38;5;167;01mException\u001b[39;00m \u001b[38;5;28;01mas\u001b[39;00m e:\n\u001b[0;32m--> 240\u001b[0m     \u001b[38;5;28;43mself\u001b[39;49m\u001b[38;5;241;43m.\u001b[39;49m\u001b[43m_log_event\u001b[49m\u001b[43m(\u001b[49m\u001b[43mevent_type\u001b[49m\u001b[43m,\u001b[49m\u001b[43m \u001b[49m\u001b[43msuccess\u001b[49m\u001b[38;5;241;43m=\u001b[39;49m\u001b[38;5;28;43;01mFalse\u001b[39;49;00m\u001b[43m,\u001b[49m\u001b[43m \u001b[49m\u001b[43merror\u001b[49m\u001b[38;5;241;43m=\u001b[39;49m\u001b[43me\u001b[49m\u001b[43m)\u001b[49m\n\u001b[1;32m    241\u001b[0m     \u001b[38;5;28;01mraise\u001b[39;00m e\n\u001b[1;32m    243\u001b[0m \u001b[38;5;28;01mif\u001b[39;00m ret \u001b[38;5;129;01mis\u001b[39;00m \u001b[38;5;28;01mNone\u001b[39;00m:\n",
      "File \u001b[0;32m/opt/tljh/user/lib/python3.12/site-packages/otter/check/utils.py:187\u001b[0m, in \u001b[0;36mincompatible_with.<locals>.incompatible\u001b[0;34m(wrapped, self, args, kwargs)\u001b[0m\n\u001b[1;32m    185\u001b[0m     \u001b[38;5;28;01melse\u001b[39;00m:\n\u001b[1;32m    186\u001b[0m         \u001b[38;5;28;01mreturn\u001b[39;00m\n\u001b[0;32m--> 187\u001b[0m \u001b[38;5;28;01mreturn\u001b[39;00m \u001b[43mwrapped\u001b[49m\u001b[43m(\u001b[49m\u001b[38;5;241;43m*\u001b[39;49m\u001b[43margs\u001b[49m\u001b[43m,\u001b[49m\u001b[43m \u001b[49m\u001b[38;5;241;43m*\u001b[39;49m\u001b[38;5;241;43m*\u001b[39;49m\u001b[43mkwargs\u001b[49m\u001b[43m)\u001b[49m\n",
      "File \u001b[0;32m/opt/tljh/user/lib/python3.12/site-packages/otter/check/notebook.py:195\u001b[0m, in \u001b[0;36mNotebook._log_event\u001b[0;34m(self, event_type, results, question, success, error, shelve_env)\u001b[0m\n\u001b[1;32m    185\u001b[0m         \u001b[38;5;28;01mraise\u001b[39;00m \u001b[38;5;167;01mTypeError\u001b[39;00m(\u001b[38;5;124mf\u001b[39m\u001b[38;5;124m\"\u001b[39m\u001b[38;5;124mshelve_env has an invalid type: \u001b[39m\u001b[38;5;132;01m{\u001b[39;00m\u001b[38;5;28mtype\u001b[39m(shelve_env)\u001b[38;5;132;01m}\u001b[39;00m\u001b[38;5;124m\"\u001b[39m)\n\u001b[1;32m    187\u001b[0m     entry\u001b[38;5;241m.\u001b[39mshelve(\n\u001b[1;32m    188\u001b[0m         shelve_env,\n\u001b[1;32m    189\u001b[0m         delete\u001b[38;5;241m=\u001b[39m\u001b[38;5;28;01mTrue\u001b[39;00m,\n\u001b[0;32m   (...)\u001b[0m\n\u001b[1;32m    192\u001b[0m         variables\u001b[38;5;241m=\u001b[39m\u001b[38;5;28mself\u001b[39m\u001b[38;5;241m.\u001b[39m_vars_to_store,\n\u001b[1;32m    193\u001b[0m     )\n\u001b[0;32m--> 195\u001b[0m \u001b[43mentry\u001b[49m\u001b[38;5;241;43m.\u001b[39;49m\u001b[43mflush_to_file\u001b[49m\u001b[43m(\u001b[49m\u001b[43mOTTER_LOG_FILENAME\u001b[49m\u001b[43m)\u001b[49m\n",
      "File \u001b[0;32m/opt/tljh/user/lib/python3.12/site-packages/otter/check/logs.py:156\u001b[0m, in \u001b[0;36mLogEntry.flush_to_file\u001b[0;34m(self, filename)\u001b[0m\n\u001b[1;32m    153\u001b[0m     dill\u001b[38;5;241m.\u001b[39mdump(\u001b[38;5;28mself\u001b[39m, file)\n\u001b[1;32m    155\u001b[0m \u001b[38;5;28;01mexcept\u001b[39;00m \u001b[38;5;167;01mOSError\u001b[39;00m:\n\u001b[0;32m--> 156\u001b[0m     \u001b[38;5;28;01mraise\u001b[39;00m \u001b[38;5;167;01mException\u001b[39;00m(\n\u001b[1;32m    157\u001b[0m         \u001b[38;5;124m\"\u001b[39m\u001b[38;5;124mCould not create the log file as the file system is read-only. Please contact your \u001b[39m\u001b[38;5;124m\"\u001b[39m\n\u001b[1;32m    158\u001b[0m         \u001b[38;5;124m\"\u001b[39m\u001b[38;5;124minstructor before continuing on this assignment.\u001b[39m\u001b[38;5;124m\"\u001b[39m\n\u001b[1;32m    159\u001b[0m     )\n\u001b[1;32m    161\u001b[0m \u001b[38;5;28;01mfinally\u001b[39;00m:\n\u001b[1;32m    162\u001b[0m     \u001b[38;5;28;01mif\u001b[39;00m \u001b[38;5;124m\"\u001b[39m\u001b[38;5;124mfile\u001b[39m\u001b[38;5;124m\"\u001b[39m \u001b[38;5;129;01min\u001b[39;00m \u001b[38;5;28mlocals\u001b[39m():\n",
      "\u001b[0;31mException\u001b[0m: Could not create the log file as the file system is read-only. Please contact your instructor before continuing on this assignment."
     ]
    }
   ],
   "source": [
    "# Initialize Otter\n",
    "import otter\n",
    "grader = otter.Notebook(\"TablePractice.ipynb\")"
   ]
  },
  {
   "cell_type": "code",
   "execution_count": null,
   "id": "29e08054-1e3b-4172-9308-504ecbddc80f",
   "metadata": {},
   "outputs": [],
   "source": [
    "import pandas as pd\n",
    "import numpy as np"
   ]
  },
  {
   "cell_type": "markdown",
   "id": "9c176602-eff5-4235-91ac-17744645d475",
   "metadata": {},
   "source": [
    "# 1. Citi Bike Dataset 🗽\n",
    "\n",
    "Citibike is a well-known bike sharing/renting system in New York City. It is privately owned by Lyft and operates in the boroughs of the Bronx, Brooklyn, Manhattan, Queens, Jersey City New Jersey, and Hoboken New Jersey. The system was proposed in 2008 but officially started in 2013 with 332 stations and 6,000 bikes. As of today, there are 17,000 bikes with approximately 50,000 rides on average daily."
   ]
  },
  {
   "cell_type": "markdown",
   "id": "62216796-416b-44dd-866f-51e04982d48a",
   "metadata": {
    "deletable": false,
    "editable": false
   },
   "source": [
    "### Question 1.1\n",
    "\n",
    "Write a python code to read the file **citibike-trips.csv** located under the data directory. Store your answer in the variable `citibike`.\n",
    "\n",
    "Hint: Use `read_csv()` method"
   ]
  },
  {
   "cell_type": "code",
   "execution_count": null,
   "id": "baeaa2ba-f0db-4927-8b80-7be6508efb24",
   "metadata": {
    "tags": []
   },
   "outputs": [],
   "source": [
    "citibike = ...\n",
    "citibike.head()"
   ]
  },
  {
   "cell_type": "code",
   "execution_count": null,
   "id": "3999b11d",
   "metadata": {
    "deletable": false,
    "editable": false
   },
   "outputs": [],
   "source": [
    "grader.check(\"q1.1\")"
   ]
  },
  {
   "cell_type": "markdown",
   "id": "10209997-627e-405a-b8d5-138298d8abc9",
   "metadata": {
    "deletable": false,
    "editable": false
   },
   "source": [
    "### Question 1.2\n",
    "\n",
    "Select the columns `tripduration`, `start_station_name` and `end_station_name` from the citibike dataframe. Store your answer in the updated dataframe `citibike`. \n"
   ]
  },
  {
   "cell_type": "code",
   "execution_count": null,
   "id": "d09f9990-4764-4207-aeb9-a928a055e7c8",
   "metadata": {
    "tags": []
   },
   "outputs": [],
   "source": [
    "citibike = ...\n",
    "citibike.head()"
   ]
  },
  {
   "cell_type": "code",
   "execution_count": null,
   "id": "cf81af26",
   "metadata": {
    "deletable": false,
    "editable": false
   },
   "outputs": [],
   "source": [
    "grader.check(\"q1.2\")"
   ]
  },
  {
   "cell_type": "markdown",
   "id": "09e9a42c-4f80-4269-999a-60daa1ed3332",
   "metadata": {
    "deletable": false,
    "editable": false
   },
   "source": [
    "### Question 1.3\n",
    "\n",
    "Find the average duration of a trip that lasted more than 30 minutes. Store your answer in the variable `above_30_mins` rounded upto two decimal points. "
   ]
  },
  {
   "cell_type": "code",
   "execution_count": null,
   "id": "f3476c90-a0ca-4976-a8a5-a0090656fd7c",
   "metadata": {
    "tags": []
   },
   "outputs": [],
   "source": [
    "above_30_mins = ...\n",
    "above_30_mins"
   ]
  },
  {
   "cell_type": "code",
   "execution_count": null,
   "id": "7f46f197",
   "metadata": {
    "deletable": false,
    "editable": false
   },
   "outputs": [],
   "source": [
    "grader.check(\"q1.3\")"
   ]
  },
  {
   "cell_type": "markdown",
   "id": "9e9da08a-c3b7-4c04-a9fd-7a19cd4e44ab",
   "metadata": {
    "deletable": false,
    "editable": false
   },
   "source": [
    "### Question 1.4\n",
    "\n",
    "Find the number of trips that started at the **W 78 St & Broadway** station. Store your answer in the variable `num_trips`. \n"
   ]
  },
  {
   "cell_type": "code",
   "execution_count": null,
   "id": "bc85a57e-0731-48a5-84a3-c6ddda83f3ff",
   "metadata": {
    "tags": []
   },
   "outputs": [],
   "source": [
    "num_trips = ...\n",
    "num_trips"
   ]
  },
  {
   "cell_type": "code",
   "execution_count": null,
   "id": "4fcb20a5",
   "metadata": {
    "deletable": false,
    "editable": false
   },
   "outputs": [],
   "source": [
    "grader.check(\"q1.4\")"
   ]
  },
  {
   "cell_type": "markdown",
   "id": "9f8f928c-5cca-44f6-bcfe-b2cd134cd743",
   "metadata": {
    "deletable": false,
    "editable": false
   },
   "source": [
    "### Question 1.5\n",
    "\n",
    "Find the station name where the most trips ended (Assume there are no ties). Store your answer in the variable `crowded_station` of type `str`."
   ]
  },
  {
   "cell_type": "code",
   "execution_count": null,
   "id": "5803277c-1e27-4aba-a0c4-6afd1f326d48",
   "metadata": {
    "tags": []
   },
   "outputs": [],
   "source": [
    "crowded_station = ...\n",
    "crowded_station"
   ]
  },
  {
   "cell_type": "code",
   "execution_count": null,
   "id": "93caaea6",
   "metadata": {
    "deletable": false,
    "editable": false
   },
   "outputs": [],
   "source": [
    "grader.check(\"q1.5\")"
   ]
  },
  {
   "cell_type": "markdown",
   "id": "58277edd-d966-4f27-a9a1-7dff6b28f361",
   "metadata": {
    "deletable": false,
    "editable": false
   },
   "source": [
    "### Question 1.6\n",
    "\n",
    "Find the number of trips for which the trip duration ending at the `crowded_station` was at least 500 seconds. Store your answer in the variable `num_trips`. "
   ]
  },
  {
   "cell_type": "code",
   "execution_count": null,
   "id": "1c01e3d5-dc9a-49a6-bcc7-3dab22c691c4",
   "metadata": {
    "tags": []
   },
   "outputs": [],
   "source": [
    "num_trips = ...\n",
    "num_trips"
   ]
  },
  {
   "cell_type": "code",
   "execution_count": null,
   "id": "0f9542b5",
   "metadata": {
    "deletable": false,
    "editable": false
   },
   "outputs": [],
   "source": [
    "grader.check(\"q1.6\")"
   ]
  },
  {
   "cell_type": "markdown",
   "id": "ed96748c-680f-4a1e-8a23-af25e5290afb",
   "metadata": {
    "deletable": false,
    "editable": false
   },
   "source": [
    "### Question 1.7\n",
    "\n",
    "Find the number of stations for which the average duration ending at that station was at least 2000 seconds. Store your answer in the variable `num_stations`. "
   ]
  },
  {
   "cell_type": "code",
   "execution_count": null,
   "id": "5f1eb24a-25e7-424e-bf9b-2e5c909943dc",
   "metadata": {
    "tags": []
   },
   "outputs": [],
   "source": [
    "num_stations = ...\n",
    "num_stations"
   ]
  },
  {
   "cell_type": "code",
   "execution_count": null,
   "id": "b58b7886",
   "metadata": {
    "deletable": false,
    "editable": false
   },
   "outputs": [],
   "source": [
    "grader.check(\"q1.7\")"
   ]
  },
  {
   "cell_type": "markdown",
   "id": "300b5a03-5b8a-4f8c-9b5c-4c81d6f77cb9",
   "metadata": {},
   "source": [
    "# 2. SFA Basketball\n",
    "\n",
    "The **sfa** table describes the `name` (string), `position` (string), `class` (string), and `height` (int) of SFA basketball\n",
    "players in the 2024-125 season. Please note, this is just a synthetic data. "
   ]
  },
  {
   "cell_type": "code",
   "execution_count": null,
   "id": "986fba8f-bd67-426e-86ef-817cc5de4c92",
   "metadata": {},
   "outputs": [],
   "source": [
    "sfa = pd.read_csv('data/sfa_basketball.csv')\n",
    "sfa.head()"
   ]
  },
  {
   "cell_type": "markdown",
   "id": "ed68af12-b52a-4cf4-a9af-ed79f4ba7f1b",
   "metadata": {
    "deletable": false,
    "editable": false
   },
   "source": [
    "### Question 2.1\n",
    "\n",
    "Find the proportion of all players whose position is **Forward**. Store you answer in variable `fwd_prop` rounded upto two decimal points. "
   ]
  },
  {
   "cell_type": "code",
   "execution_count": null,
   "id": "7266f4ce-cf09-4bfe-8f19-396daab7cd78",
   "metadata": {
    "tags": []
   },
   "outputs": [],
   "source": [
    "fwd_prop = ...\n",
    "fwd_prop"
   ]
  },
  {
   "cell_type": "code",
   "execution_count": null,
   "id": "eea78df8",
   "metadata": {
    "deletable": false,
    "editable": false
   },
   "outputs": [],
   "source": [
    "grader.check(\"q2.1\")"
   ]
  },
  {
   "cell_type": "markdown",
   "id": "694dd598-39e1-48c8-bd83-49d07621753c",
   "metadata": {
    "deletable": false,
    "editable": false
   },
   "source": [
    "### Question 2.2\n",
    "\n",
    "Find the name of the shortest **freshman**. Assume that one is shorter than the rest. Store your answer in the variable `shortest` of type `str`\n"
   ]
  },
  {
   "cell_type": "code",
   "execution_count": null,
   "id": "6c581aca-a110-4d84-8d21-ae3275a76b02",
   "metadata": {
    "tags": []
   },
   "outputs": [],
   "source": [
    "shortest = ...\n",
    "shortest"
   ]
  },
  {
   "cell_type": "code",
   "execution_count": null,
   "id": "5742af40",
   "metadata": {
    "deletable": false,
    "editable": false
   },
   "outputs": [],
   "source": [
    "grader.check(\"q2.2\")"
   ]
  },
  {
   "cell_type": "markdown",
   "id": "999a4497-4c56-4b61-ae7f-c85e8cb1195d",
   "metadata": {
    "deletable": false,
    "editable": false
   },
   "source": [
    "### Question 2.3\n",
    "\n",
    "Find whether there are at least 3/4 of players that are atleast 80 inches taller. The result should be True or False and stored in the variable `percentile_75th`."
   ]
  },
  {
   "cell_type": "code",
   "execution_count": null,
   "id": "8dad6a95-0d8d-4196-bcb2-6f98cc649e4b",
   "metadata": {
    "tags": []
   },
   "outputs": [],
   "source": [
    "percentile_75th = ...\n",
    "percentile_75th"
   ]
  },
  {
   "cell_type": "code",
   "execution_count": null,
   "id": "e6f507b0",
   "metadata": {
    "deletable": false,
    "editable": false
   },
   "outputs": [],
   "source": [
    "grader.check(\"q2.3\")"
   ]
  },
  {
   "cell_type": "markdown",
   "id": "5023ac58-87c1-4172-849d-064a4dcd3ee7",
   "metadata": {
    "deletable": false,
    "editable": false
   },
   "source": [
    "### Question 2.4\n",
    "\n",
    "Find a pandas series of all positions, sorted in increasing order of the average height for all players in that position. Store your answer in variable `sorted_pos` of type `pandas.Series`\n"
   ]
  },
  {
   "cell_type": "code",
   "execution_count": null,
   "id": "cff6c36f-0dc4-40fd-9c8c-d03a83d5eecd",
   "metadata": {
    "tags": []
   },
   "outputs": [],
   "source": [
    "sorted_pos = ...\n",
    "sorted_pos "
   ]
  },
  {
   "cell_type": "code",
   "execution_count": null,
   "id": "d239506f",
   "metadata": {
    "deletable": false,
    "editable": false
   },
   "outputs": [],
   "source": [
    "grader.check(\"q2.4\")"
   ]
  }
 ],
 "metadata": {
  "kernelspec": {
   "display_name": "Python 3 (ipykernel)",
   "language": "python",
   "name": "python3"
  },
  "language_info": {
   "codemirror_mode": {
    "name": "ipython",
    "version": 3
   },
   "file_extension": ".py",
   "mimetype": "text/x-python",
   "name": "python",
   "nbconvert_exporter": "python",
   "pygments_lexer": "ipython3",
   "version": "3.12.6"
  },
  "otter": {
   "OK_FORMAT": true,
   "tests": {
    "q1.1": {
     "name": "q1.1",
     "points": null,
     "suites": [
      {
       "cases": [
        {
         "code": ">>> citibike.shape == (473556, 16)\nTrue",
         "hidden": false,
         "locked": false
        }
       ],
       "scored": true,
       "setup": "",
       "teardown": "",
       "type": "doctest"
      }
     ]
    },
    "q1.2": {
     "name": "q1.2",
     "points": null,
     "suites": [
      {
       "cases": [
        {
         "code": ">>> citibike.shape == (473556, 3)\nTrue",
         "hidden": false,
         "locked": false
        }
       ],
       "scored": true,
       "setup": "",
       "teardown": "",
       "type": "doctest"
      }
     ]
    },
    "q1.3": {
     "name": "q1.3",
     "points": null,
     "suites": [
      {
       "cases": [
        {
         "code": ">>> int(above_30_mins) == 4117\nTrue",
         "hidden": false,
         "locked": false
        }
       ],
       "scored": true,
       "setup": "",
       "teardown": "",
       "type": "doctest"
      }
     ]
    },
    "q1.4": {
     "name": "q1.4",
     "points": null,
     "suites": [
      {
       "cases": [
        {
         "code": ">>> num_trips == 362\nTrue",
         "hidden": false,
         "locked": false
        }
       ],
       "scored": true,
       "setup": "",
       "teardown": "",
       "type": "doctest"
      }
     ]
    },
    "q1.5": {
     "name": "q1.5",
     "points": null,
     "suites": [
      {
       "cases": [
        {
         "code": ">>> crowded_station == 'E 17 St & Broadway'\nTrue",
         "hidden": false,
         "locked": false
        }
       ],
       "scored": true,
       "setup": "",
       "teardown": "",
       "type": "doctest"
      }
     ]
    },
    "q1.6": {
     "name": "q1.6",
     "points": null,
     "suites": [
      {
       "cases": [
        {
         "code": ">>> num_trips == 2351\nTrue",
         "hidden": false,
         "locked": false
        }
       ],
       "scored": true,
       "setup": "",
       "teardown": "",
       "type": "doctest"
      }
     ]
    },
    "q1.7": {
     "name": "q1.7",
     "points": null,
     "suites": [
      {
       "cases": [
        {
         "code": ">>> num_stations == 40\nTrue",
         "hidden": false,
         "locked": false
        }
       ],
       "scored": true,
       "setup": "",
       "teardown": "",
       "type": "doctest"
      }
     ]
    },
    "q2.1": {
     "name": "q2.1",
     "points": null,
     "suites": [
      {
       "cases": [
        {
         "code": ">>> fwd_prop == 0.36\nTrue",
         "hidden": false,
         "locked": false
        }
       ],
       "scored": true,
       "setup": "",
       "teardown": "",
       "type": "doctest"
      }
     ]
    },
    "q2.2": {
     "name": "q2.2",
     "points": null,
     "suites": [
      {
       "cases": [
        {
         "code": ">>> shortest == 'Lauryn Stockin'\nTrue",
         "hidden": false,
         "locked": false
        }
       ],
       "scored": true,
       "setup": "",
       "teardown": "",
       "type": "doctest"
      }
     ]
    },
    "q2.3": {
     "name": "q2.3",
     "points": null,
     "suites": [
      {
       "cases": [
        {
         "code": ">>> percentile_75th == False\nTrue",
         "hidden": false,
         "locked": false
        }
       ],
       "scored": true,
       "setup": "",
       "teardown": "",
       "type": "doctest"
      }
     ]
    },
    "q2.4": {
     "name": "q2.4",
     "points": null,
     "suites": [
      {
       "cases": [
        {
         "code": ">>> sorted_pos.iloc[0] == 'Guard' and sorted_pos.iloc[-1] == 'Center'\nTrue",
         "hidden": false,
         "locked": false
        }
       ],
       "scored": true,
       "setup": "",
       "teardown": "",
       "type": "doctest"
      }
     ]
    }
   }
  }
 },
 "nbformat": 4,
 "nbformat_minor": 5
}
