{
 "cells": [
  {
   "cell_type": "code",
   "execution_count": null,
   "id": "48e35893",
   "metadata": {
    "deletable": false,
    "editable": false
   },
   "outputs": [],
   "source": [
    "# Initialize Otter\n",
    "import otter\n",
    "grader = otter.Notebook(\"Lab02.ipynb\")"
   ]
  },
  {
   "cell_type": "code",
   "execution_count": null,
   "id": "9195557b-fde2-4d49-8514-d3f03ed3e23d",
   "metadata": {},
   "outputs": [],
   "source": [
    "import numpy as np\n",
    "import pandas as pd"
   ]
  },
  {
   "cell_type": "markdown",
   "id": "8137b386-5ea8-440d-a2ae-18c079f1002c",
   "metadata": {},
   "source": [
    "Grading Rubric:\n",
    "\n",
    "| Question | Points |\n",
    "| ----- |---- |\n",
    "| 1.1(a) | 5 |\n",
    "| 1.1(b) | 5 |\n",
    "| 1.1(c) | 5 |\n",
    "| 1.1(d) | 5 |\n",
    "| 1.1(e) | 5 |\n",
    "| 1.1(f) | 5 |\n",
    "| 1.1(g) | 5 | \n",
    "| 1.2 | 10 | \n",
    "| 2.1(a) | 5 |\n",
    "| 2.1(b) | 5 |\n",
    "| 2.1(c) | 5 |\n",
    "| 2.1(d) | 5 |\n",
    "| 2.1(e) | 5 |\n",
    "| 3.1(a) | 5 |\n",
    "| 3.1(b) | 5 |\n",
    "| 3.1(c) | 5 |\n",
    "| 3.1(d) | 5 |\n",
    "| 3.1(e) | 5 |\n",
    "| 3.2 | 5 |\n",
    "| Total | 100 |"
   ]
  },
  {
   "cell_type": "markdown",
   "id": "be80e038-c0bc-4d81-8294-bf69b326e443",
   "metadata": {},
   "source": [
    "# Welcome to Lab02.\n",
    "\n",
    "Objectives:\n",
    "1. Functions\n",
    "2. Intro to Tables (Pandas Series and Pandas DataFrame)\n",
    "3. Numpy array"
   ]
  },
  {
   "cell_type": "markdown",
   "id": "d802bf9f-e46a-4038-b332-f39a25a42900",
   "metadata": {},
   "source": [
    "Instructions: \n",
    "\n",
    "1. Please upload your notebook (.ipynb) file to D2L under Lab >> Lab2 Dropbox.\n",
    "2. The lab assignment is meant to be completed individually. Do not share or copy code with others, as violations will result in consequences outlined in the syllabus.\n",
    "3. Passing the autograder test does not guarantee that your answer is correct. Be sure to answer questions carefully, as the instructor has additional hidden tests. Full points will only be awarded if your answers pass these tests during grading.\n",
    "4. If you encounter any difficulties, don't hesitate to contact me for assistance."
   ]
  },
  {
   "cell_type": "markdown",
   "id": "76d11625-8575-4934-879c-e6c1e03daad7",
   "metadata": {},
   "source": [
    "## 1. Functions \n",
    "\n",
    "Up to this point, you’ve explored various ways to call functions or methods depending on their type — whether they are built-in Python functions, part of Python’s built-in data structures (like lists, strings, dictionaries, tuples, etc.), or from external libraries like Pandas or NumPy. In the following questions, select the correct way to call each function from the four provided options. Simply assign the option label to the variable **your_ans**. For eg: If the correct answer is option A then your_ans = \"A\""
   ]
  },
  {
   "cell_type": "markdown",
   "id": "5f713b59-1bbf-4538-92c0-f1537d9c9481",
   "metadata": {
    "deletable": false,
    "editable": false
   },
   "source": [
    "### Question 1.1(a) [5 points]\n",
    "Which of the following choices would return the length (number of characters) of the string? (In-built Python function)\n",
    "\n",
    "```\n",
    "msg = \"I love Data Analytics\"\n",
    "```\n",
    "\n",
    "A. str.len(msg)<br>\n",
    "B. len(msg)<br>\n",
    "C. python.len(msg)<br>\n",
    "D. string.len(msg)<br>"
   ]
  },
  {
   "cell_type": "code",
   "execution_count": null,
   "id": "cc8e245b-b736-436d-aa94-7e3f7e081640",
   "metadata": {
    "tags": []
   },
   "outputs": [],
   "source": [
    "your_ans = ..."
   ]
  },
  {
   "cell_type": "code",
   "execution_count": null,
   "id": "d5d116f5",
   "metadata": {
    "deletable": false,
    "editable": false
   },
   "outputs": [],
   "source": [
    "grader.check(\"q1.1(a)\")"
   ]
  },
  {
   "cell_type": "markdown",
   "id": "6f9d0e25-4ddb-43d9-b9d5-fdcad760f833",
   "metadata": {
    "deletable": false,
    "editable": false
   },
   "source": [
    "### Question 1.1(b) [5 points]\n",
    "Which of the following choices would convert the string `msg` into upper case? (In-built Python datastructure)\n",
    "\n",
    "```\n",
    "msg = \"I love Data Analytics\"\n",
    "```\n",
    "\n",
    "A. upper(msg)<br>\n",
    "B. upper()<br>\n",
    "C. msg.upper()<br>\n",
    "D. string.upper(msg)<br>"
   ]
  },
  {
   "cell_type": "code",
   "execution_count": null,
   "id": "14afa0f9-9420-44ca-9b62-ca4186704ccd",
   "metadata": {
    "tags": []
   },
   "outputs": [],
   "source": [
    "your_ans = ..."
   ]
  },
  {
   "cell_type": "code",
   "execution_count": null,
   "id": "e825ddae",
   "metadata": {
    "deletable": false,
    "editable": false
   },
   "outputs": [],
   "source": [
    "grader.check(\"q1.1(b)\")"
   ]
  },
  {
   "cell_type": "markdown",
   "id": "d419e96f-e1e0-4be8-82e1-b53da6fd4c5f",
   "metadata": {
    "deletable": false,
    "editable": false
   },
   "source": [
    "### Question 1.1(c) [5 points]\n",
    "Which of the following would return the total number of elements in a list? (In-built Python function)\n",
    "\n",
    "```\n",
    "my_list = [\"Kevin\", \"Sydney\", \"Barbara\", \"Tyler\"]\n",
    "```\n",
    "\n",
    "A. my_list.len()<br>\n",
    "B. len(my_list)<br>\n",
    "C. list.len(my_list)<br>\n",
    "D. my_list.shape<br>"
   ]
  },
  {
   "cell_type": "code",
   "execution_count": null,
   "id": "4e693f41-731e-4c44-8b93-05c9e4a284d6",
   "metadata": {
    "tags": []
   },
   "outputs": [],
   "source": [
    "your_ans = ..."
   ]
  },
  {
   "cell_type": "code",
   "execution_count": null,
   "id": "a6977880",
   "metadata": {
    "deletable": false,
    "editable": false
   },
   "outputs": [],
   "source": [
    "grader.check(\"q1.1(c)\")"
   ]
  },
  {
   "cell_type": "markdown",
   "id": "3fb2587a-fb78-4a3b-99f1-e95c7b33ce55",
   "metadata": {
    "deletable": false,
    "editable": false
   },
   "source": [
    "### Question 1.1(d) [5 points]\n",
    "Which of the following would add \"John\" as the first element of the list? (In-built Python datastructure)\n",
    "\n",
    "```\n",
    "my_list = [\"Kevin\", \"Sydney\", \"Barbara\", \"Tyler\"]\n",
    "```\n",
    "\n",
    "A. insert(0, \"John\")  <br>\n",
    "B. my_list.add(\"John\")<br>\n",
    "C. list.insert(0, \"John\")<br>\n",
    "D. my_list.insert(0, \"John\")<br>"
   ]
  },
  {
   "cell_type": "code",
   "execution_count": null,
   "id": "d7ee7b78-2f07-4eab-a4ad-a8e94e561c98",
   "metadata": {
    "tags": []
   },
   "outputs": [],
   "source": [
    "your_ans = ..."
   ]
  },
  {
   "cell_type": "code",
   "execution_count": null,
   "id": "2f5308cb",
   "metadata": {
    "deletable": false,
    "editable": false
   },
   "outputs": [],
   "source": [
    "grader.check(\"q1.1(d)\")"
   ]
  },
  {
   "cell_type": "markdown",
   "id": "adac7b1c-4706-47e8-a830-db5d115a823f",
   "metadata": {
    "deletable": false,
    "editable": false
   },
   "source": [
    "### Question 1.1(e) [5 points]\n",
    "Which of the following would create a numpy array which stores the elements 10, 20, 30? Assume numpy module is imported as `np`. (Numpy method)\n",
    "\n",
    "A. array(10, 20, 30)  <br>\n",
    "B. array([10, 20, 30]) <br>\n",
    "C. np.array(10, 20, 30) <br>\n",
    "D. np.array([10, 20, 30])<br>"
   ]
  },
  {
   "cell_type": "code",
   "execution_count": null,
   "id": "8d5bbe9d-b52d-4efc-b632-7292f1fbfa56",
   "metadata": {
    "tags": []
   },
   "outputs": [],
   "source": [
    "your_ans = ..."
   ]
  },
  {
   "cell_type": "code",
   "execution_count": null,
   "id": "542067aa",
   "metadata": {
    "deletable": false,
    "editable": false
   },
   "outputs": [],
   "source": [
    "grader.check(\"q1.1(e)\")"
   ]
  },
  {
   "cell_type": "markdown",
   "id": "8620e7c5-fd18-48d8-a8dd-c1850007a76b",
   "metadata": {
    "deletable": false,
    "editable": false
   },
   "source": [
    "### Question 1.1(f) [5 points]\n",
    "Which of the following would create a pandas series with elements 10, 20, 30? Assume pandas module is imported as `pd`. (Pandas method)\n",
    "\n",
    "A. series(10, 20, 30)  <br>\n",
    "B. pd.Series([10, 20, 30]) <br>\n",
    "C. pd.Series({10, 20, 30}) <br>\n",
    "D. pd;Series([10, 20, 30])<br>"
   ]
  },
  {
   "cell_type": "code",
   "execution_count": null,
   "id": "41dc6d75-4eeb-418f-bc1f-6286263cb2c5",
   "metadata": {
    "tags": []
   },
   "outputs": [],
   "source": [
    "your_ans = ..."
   ]
  },
  {
   "cell_type": "code",
   "execution_count": null,
   "id": "9f80dfbd",
   "metadata": {
    "deletable": false,
    "editable": false
   },
   "outputs": [],
   "source": [
    "grader.check(\"q1.1(f)\")"
   ]
  },
  {
   "cell_type": "markdown",
   "id": "df8ba8e1-83c3-4c86-b769-f55911101b53",
   "metadata": {
    "deletable": false,
    "editable": false
   },
   "source": [
    "### Question 1.1(g) [5 points]\n",
    "\n",
    "Which of the following would return the `shape` property of a pandas dataframe `titanic`? Assume pandas module is imported as `pd`. (Pandas property)\n",
    "\n",
    "A. titanic.shape()  <br>\n",
    "B. titanic.shape[] <br>\n",
    "C. titanic.shape <br>\n",
    "D. len(titanic) <br>"
   ]
  },
  {
   "cell_type": "code",
   "execution_count": null,
   "id": "e8880f4c-31fa-401b-a094-d9ca0ea5de0e",
   "metadata": {
    "tags": []
   },
   "outputs": [],
   "source": [
    "your_ans = ..."
   ]
  },
  {
   "cell_type": "code",
   "execution_count": null,
   "id": "52dca9f9",
   "metadata": {
    "deletable": false,
    "editable": false
   },
   "outputs": [],
   "source": [
    "grader.check(\"q1.1(g)\")"
   ]
  },
  {
   "cell_type": "markdown",
   "id": "3bfcb60f-41bc-4db0-8445-7dbc7c76ea03",
   "metadata": {
    "deletable": false,
    "editable": false
   },
   "source": [
    "### Question 1.2 [10 points]\n",
    "\n",
    "Write a function to find the euclidean distance between two points whose (x,y) cordinates are (x1, y1) and (x2, y2) in the Cartesian cordinate system respectively.\n",
    "\n",
    "Note your function, `calculate_distance` will take four parameters, `x1`, `x2`, `y1` and `y2` and will return the euclidean distance as the output, **rounded upto two decimal points**. Also, set the default parameter values for your functions to be 5, 9, 8, and 1 respectively.\n",
    "\n",
    "$$ Distance = \\sqrt {(x_1 - x_2) ^ 2 + (y_1 - y_2) ^ 2}$$"
   ]
  },
  {
   "cell_type": "code",
   "execution_count": null,
   "id": "5d1e013f-5044-48c0-8873-51e099a92605",
   "metadata": {
    "tags": []
   },
   "outputs": [],
   "source": [
    "import math\n",
    "def calculate_distance(...):\n",
    "    euclidean_distance = ...\n",
    "    return ..."
   ]
  },
  {
   "cell_type": "code",
   "execution_count": null,
   "id": "530d6f88-ed1e-4a5e-be31-b8defe2e18ff",
   "metadata": {
    "tags": []
   },
   "outputs": [],
   "source": [
    "distance = calculate_distance()"
   ]
  },
  {
   "cell_type": "code",
   "execution_count": null,
   "id": "d419ec80",
   "metadata": {
    "deletable": false,
    "editable": false
   },
   "outputs": [],
   "source": [
    "grader.check(\"q1.2\")"
   ]
  },
  {
   "cell_type": "markdown",
   "id": "dc039b01-4a88-40b0-a6b2-3e563aa44ba9",
   "metadata": {},
   "source": [
    "## 2. Pandas DataFrame and Series"
   ]
  },
  {
   "cell_type": "markdown",
   "id": "3dd0022e-0daa-443a-88c6-2d8322d908d2",
   "metadata": {
    "deletable": false,
    "editable": false
   },
   "source": [
    "### Question 2.1(a) [5 points]\n",
    "\n",
    "Use `pd.DataFrame` method to create a dataframe, `fruits`, which looks like the following:\n",
    "\n",
    "<img src=\"pics/fruits.png\" width=200\\>\n",
    "\n",
    "\n",
    "Hint: Use `index` paramter of the `pd.DataFrame` method to add row named labels."
   ]
  },
  {
   "cell_type": "code",
   "execution_count": null,
   "id": "63abd383-9266-4e32-a7d1-fa708ba9d240",
   "metadata": {
    "tags": []
   },
   "outputs": [],
   "source": [
    "fruits = ...\n",
    "fruits"
   ]
  },
  {
   "cell_type": "code",
   "execution_count": null,
   "id": "adc2f625",
   "metadata": {
    "deletable": false,
    "editable": false
   },
   "outputs": [],
   "source": [
    "grader.check(\"q2.1(a)\")"
   ]
  },
  {
   "cell_type": "markdown",
   "id": "732f0424-5c9c-444c-a397-08cfcd6157a9",
   "metadata": {
    "deletable": false,
    "editable": false
   },
   "source": [
    "### Question 2.1(b) [5 points]\n",
    "\n",
    "Write a Python program (using **`loc`** property) to display the `Fruit Name` and `Price per lbs` for fruits that are typically grown in the summer season. Store your answer in a variable, `summer_fruits` \n",
    "\n",
    "Your solution would look like the following:\n",
    "\n",
    "<img src=\"pics/summer_fruits.png\" width=200/>\n"
   ]
  },
  {
   "cell_type": "code",
   "execution_count": null,
   "id": "fc7b0b43-54c6-4fd5-8516-6443cf9eafaf",
   "metadata": {
    "tags": []
   },
   "outputs": [],
   "source": [
    "summer_fruits = ...\n",
    "summer_fruits"
   ]
  },
  {
   "cell_type": "code",
   "execution_count": null,
   "id": "8fe33201",
   "metadata": {
    "deletable": false,
    "editable": false
   },
   "outputs": [],
   "source": [
    "grader.check(\"q2.1(b)\")"
   ]
  },
  {
   "cell_type": "markdown",
   "id": "b34e0551-b7fc-4f57-98b8-28f11a62117f",
   "metadata": {
    "deletable": false,
    "editable": false
   },
   "source": [
    "### Question 2.1(c) [5 points]\n",
    "\n",
    "Solve the question in 2.1(b) using **`iloc`** property. "
   ]
  },
  {
   "cell_type": "code",
   "execution_count": null,
   "id": "93ecc046-56f6-417f-9bb2-c985669c7355",
   "metadata": {
    "tags": []
   },
   "outputs": [],
   "source": [
    "summer_fruits = ...\n",
    "summer_fruits"
   ]
  },
  {
   "cell_type": "code",
   "execution_count": null,
   "id": "35cc651e",
   "metadata": {
    "deletable": false,
    "editable": false
   },
   "outputs": [],
   "source": [
    "grader.check(\"q2.1(c)\")"
   ]
  },
  {
   "cell_type": "markdown",
   "id": "bf14a1f5-dbb7-4f1e-b171-fc0eea8b5ac0",
   "metadata": {
    "deletable": false,
    "editable": false
   },
   "source": [
    "### Question 2.1(d) [5 points]\n",
    "\n",
    "Write a python code to find the most expensive fruit name among the `fruits` dataframe. Store your result in a variable `costly_fruit`. The datatype of the `costly_fruit` is a string. "
   ]
  },
  {
   "cell_type": "code",
   "execution_count": null,
   "id": "80e60923-8579-4793-9e5f-797ed9e3015f",
   "metadata": {
    "tags": []
   },
   "outputs": [],
   "source": [
    "costly_fruit = ...\n",
    "costly_fruit"
   ]
  },
  {
   "cell_type": "code",
   "execution_count": null,
   "id": "fb87d00c",
   "metadata": {
    "deletable": false,
    "editable": false
   },
   "outputs": [],
   "source": [
    "grader.check(\"q2.1(d)\")"
   ]
  },
  {
   "cell_type": "markdown",
   "id": "154b6fdd-62ff-46a0-b170-5d1c659e6dd6",
   "metadata": {
    "deletable": false,
    "editable": false
   },
   "source": [
    "### Question 2.1(e) [5 points]\n",
    "\n",
    "Write a python code to find names of the fruits available in the Fall season and have a *Quantity* of less than 10. Store your final answer as a pandas series in the `your_ans` variable. "
   ]
  },
  {
   "cell_type": "code",
   "execution_count": null,
   "id": "31c280dd-b736-4a65-a8b1-a2077e972de8",
   "metadata": {
    "tags": []
   },
   "outputs": [],
   "source": [
    "your_ans = ..."
   ]
  },
  {
   "cell_type": "code",
   "execution_count": null,
   "id": "edba97f8",
   "metadata": {
    "deletable": false,
    "editable": false
   },
   "outputs": [],
   "source": [
    "grader.check(\"q2.1(e)\")"
   ]
  },
  {
   "cell_type": "markdown",
   "id": "f164e88b-07a7-487a-b6b0-18b089ac9f7f",
   "metadata": {},
   "source": [
    "## 3. Numpy "
   ]
  },
  {
   "cell_type": "markdown",
   "id": "da5ebdb7-b629-47e6-aca3-7b8422c680e1",
   "metadata": {
    "deletable": false,
    "editable": false
   },
   "source": [
    "<!-- BEGIN QUESTION -->\n",
    "\n",
    "For each of the Python expressions listed below, write down the output after evaluating the expression. If an error occurs, type **Error**. Provide an explanation or demonstrate your reasoning on how you arrived at the solution, rather than just giving the final answer. Do **NOT** run the code. \n",
    "\n",
    "### Question 3.1(a) [5 points]\n",
    "\n",
    "```\n",
    "np.array([1, 3, 5, 7]) + np.arange(2, 10, 2)\n",
    "```"
   ]
  },
  {
   "cell_type": "markdown",
   "id": "dc83b6a6",
   "metadata": {},
   "source": [
    "_Type your answer here, replacing this text._"
   ]
  },
  {
   "cell_type": "markdown",
   "id": "f3998576-7812-4e4f-85da-0d419ac1b85e",
   "metadata": {
    "deletable": false,
    "editable": false
   },
   "source": [
    "<!-- END QUESTION -->\n",
    "\n",
    "<!-- BEGIN QUESTION -->\n",
    "\n",
    "### Question 3.1(b) [5 points]\n",
    "\n",
    "```\n",
    "np.array([1, 1, 1, 1]) + np.arange(1, 10)\n",
    "```"
   ]
  },
  {
   "cell_type": "markdown",
   "id": "46c07121",
   "metadata": {},
   "source": [
    "_Type your answer here, replacing this text._"
   ]
  },
  {
   "cell_type": "markdown",
   "id": "0e7c34d8-1c44-4237-88db-aba4f32e1e0b",
   "metadata": {
    "deletable": false,
    "editable": false
   },
   "source": [
    "<!-- END QUESTION -->\n",
    "\n",
    "<!-- BEGIN QUESTION -->\n",
    "\n",
    "### Question 3.1(c) [5 points]\n",
    "\n",
    "```\n",
    "np.max(np.arange(15))\n",
    "```"
   ]
  },
  {
   "cell_type": "markdown",
   "id": "184c752d",
   "metadata": {},
   "source": [
    "_Type your answer here, replacing this text._"
   ]
  },
  {
   "cell_type": "markdown",
   "id": "12411fe3-6b87-46a2-a798-2a1fbe68e372",
   "metadata": {
    "deletable": false,
    "editable": false
   },
   "source": [
    "<!-- END QUESTION -->\n",
    "\n",
    "### Question 3.1(d) [5 points]\n",
    "\n",
    "Give the function `foo`: \n",
    "\n",
    "```\n",
    "def foo(x):\n",
    "    return x[1] - x[0]\n",
    "```\n",
    "\n",
    "What is the output of the following:\n",
    "\n",
    "```\n",
    "my_arr = np.array([5, 15, 25, 10])\n",
    "foo(my_arr)\n",
    "```"
   ]
  },
  {
   "cell_type": "markdown",
   "id": "a32e209f-03f2-434e-bc30-717e96549981",
   "metadata": {
    "deletable": false,
    "editable": false
   },
   "source": [
    "<!-- BEGIN QUESTION -->\n",
    "\n",
    "### Question 3.1(e) [5 points]\n",
    "\n",
    "Give the function `foo`: \n",
    "\n",
    "```\n",
    "def foo(x):\n",
    "    return x[1] - x[0]\n",
    "```\n",
    "\n",
    "What is the output of the following:\n",
    "\n",
    "```\n",
    "my_arr = np.array([[1, 1, 1], [20, 20, 20], [5, 5, 5]])\n",
    "foo(my_arr)\n",
    "```"
   ]
  },
  {
   "cell_type": "markdown",
   "id": "af5864bf",
   "metadata": {},
   "source": [
    "_Type your answer here, replacing this text._"
   ]
  },
  {
   "cell_type": "markdown",
   "id": "3210f083-6364-4bda-a7d0-2591d27d547a",
   "metadata": {
    "deletable": false,
    "editable": false
   },
   "source": [
    "<!-- END QUESTION -->\n",
    "\n",
    "### Question 2.2 [5 points]\n",
    "\n",
    "Create a numpy array, `squares`, containing the first 100 squares i.e, $1^2, 2^2, 3^2, 4^2, 5^2, 6^2, ....., 100^2$  = 1, 4, 9, 16, 25, 36, 49, 64, ...., 10000"
   ]
  },
  {
   "cell_type": "code",
   "execution_count": null,
   "id": "1eb2e9d3-7e03-4d6e-a371-cdbdc50c2ac7",
   "metadata": {
    "tags": []
   },
   "outputs": [],
   "source": [
    "squares = ...\n",
    "squares"
   ]
  },
  {
   "cell_type": "code",
   "execution_count": null,
   "id": "a98c57d0",
   "metadata": {
    "deletable": false,
    "editable": false
   },
   "outputs": [],
   "source": [
    "grader.check(\"q2.2\")"
   ]
  }
 ],
 "metadata": {
  "kernelspec": {
   "display_name": "Python 3 (ipykernel)",
   "language": "python",
   "name": "python3"
  },
  "language_info": {
   "codemirror_mode": {
    "name": "ipython",
    "version": 3
   },
   "file_extension": ".py",
   "mimetype": "text/x-python",
   "name": "python",
   "nbconvert_exporter": "python",
   "pygments_lexer": "ipython3",
   "version": "3.12.6"
  },
  "otter": {
   "OK_FORMAT": true,
   "tests": {
    "q1.1(a)": {
     "name": "q1.1(a)",
     "points": null,
     "suites": [
      {
       "cases": [
        {
         "code": ">>> (your_ans in ['A', 'B', 'C', 'D']) == True\nTrue",
         "hidden": false,
         "locked": false
        }
       ],
       "scored": true,
       "setup": "",
       "teardown": "",
       "type": "doctest"
      }
     ]
    },
    "q1.1(b)": {
     "name": "q1.1(b)",
     "points": null,
     "suites": [
      {
       "cases": [
        {
         "code": ">>> (your_ans in ['A', 'B', 'C', 'D']) == True\nTrue",
         "hidden": false,
         "locked": false
        }
       ],
       "scored": true,
       "setup": "",
       "teardown": "",
       "type": "doctest"
      }
     ]
    },
    "q1.1(c)": {
     "name": "q1.1(c)",
     "points": null,
     "suites": [
      {
       "cases": [
        {
         "code": ">>> (your_ans in ['A', 'B', 'C', 'D']) == True\nTrue",
         "hidden": false,
         "locked": false
        }
       ],
       "scored": true,
       "setup": "",
       "teardown": "",
       "type": "doctest"
      }
     ]
    },
    "q1.1(d)": {
     "name": "q1.1(d)",
     "points": null,
     "suites": [
      {
       "cases": [
        {
         "code": ">>> (your_ans in ['A', 'B', 'C', 'D']) == True\nTrue",
         "hidden": false,
         "locked": false
        }
       ],
       "scored": true,
       "setup": "",
       "teardown": "",
       "type": "doctest"
      }
     ]
    },
    "q1.1(e)": {
     "name": "q1.1(e)",
     "points": null,
     "suites": [
      {
       "cases": [
        {
         "code": ">>> (your_ans in ['A', 'B', 'C', 'D']) == True\nTrue",
         "hidden": false,
         "locked": false
        }
       ],
       "scored": true,
       "setup": "",
       "teardown": "",
       "type": "doctest"
      }
     ]
    },
    "q1.1(f)": {
     "name": "q1.1(f)",
     "points": null,
     "suites": [
      {
       "cases": [
        {
         "code": ">>> (your_ans in ['A', 'B', 'C', 'D']) == True\nTrue",
         "hidden": false,
         "locked": false
        }
       ],
       "scored": true,
       "setup": "",
       "teardown": "",
       "type": "doctest"
      }
     ]
    },
    "q1.1(g)": {
     "name": "q1.1(g)",
     "points": null,
     "suites": [
      {
       "cases": [
        {
         "code": ">>> (your_ans in ['A', 'B', 'C', 'D']) == True\nTrue",
         "hidden": false,
         "locked": false
        }
       ],
       "scored": true,
       "setup": "",
       "teardown": "",
       "type": "doctest"
      }
     ]
    },
    "q1.2": {
     "name": "q1.2",
     "points": null,
     "suites": [
      {
       "cases": [
        {
         "code": ">>> math.isclose(distance, 8.54, abs_tol=0.1)\nTrue",
         "hidden": false,
         "locked": false
        },
        {
         "code": ">>> math.isclose(calculate_distance(2, 0, 0, 0), 2, abs_tol=0.1)\nTrue",
         "hidden": false,
         "locked": false
        }
       ],
       "scored": true,
       "setup": "",
       "teardown": "",
       "type": "doctest"
      }
     ]
    },
    "q2.1(a)": {
     "name": "q2.1(a)",
     "points": null,
     "suites": [
      {
       "cases": [
        {
         "code": ">>> fruits.shape == (5, 3)\nTrue",
         "hidden": false,
         "locked": false
        }
       ],
       "scored": true,
       "setup": "",
       "teardown": "",
       "type": "doctest"
      }
     ]
    },
    "q2.1(b)": {
     "name": "q2.1(b)",
     "points": null,
     "suites": [
      {
       "cases": [
        {
         "code": ">>> summer_fruits.shape == (2, 2)\nTrue",
         "hidden": false,
         "locked": false
        },
        {
         "code": ">>> ('Summer' in np.unique(summer_fruits.index)) == True\nTrue",
         "hidden": false,
         "locked": false
        }
       ],
       "scored": true,
       "setup": "",
       "teardown": "",
       "type": "doctest"
      }
     ]
    },
    "q2.1(c)": {
     "name": "q2.1(c)",
     "points": null,
     "suites": [
      {
       "cases": [
        {
         "code": ">>> summer_fruits.shape == (2, 2)\nTrue",
         "hidden": false,
         "locked": false
        },
        {
         "code": ">>> ('Summer' in np.unique(summer_fruits.index)) == True\nTrue",
         "hidden": false,
         "locked": false
        }
       ],
       "scored": true,
       "setup": "",
       "teardown": "",
       "type": "doctest"
      }
     ]
    },
    "q2.1(d)": {
     "name": "q2.1(d)",
     "points": null,
     "suites": [
      {
       "cases": [
        {
         "code": ">>> costly_fruit == 'Apple'\nTrue",
         "hidden": false,
         "locked": false
        }
       ],
       "scored": true,
       "setup": "",
       "teardown": "",
       "type": "doctest"
      }
     ]
    },
    "q2.1(e)": {
     "name": "q2.1(e)",
     "points": null,
     "suites": [
      {
       "cases": [
        {
         "code": ">>> len(your_ans) == 1\nTrue",
         "hidden": false,
         "locked": false
        },
        {
         "code": ">>> your_ans.values[0] == 'Apricot'\nTrue",
         "hidden": false,
         "locked": false
        }
       ],
       "scored": true,
       "setup": "",
       "teardown": "",
       "type": "doctest"
      }
     ]
    },
    "q2.2": {
     "name": "q2.2",
     "points": null,
     "suites": [
      {
       "cases": [
        {
         "code": ">>> len(squares) == 100\nTrue",
         "hidden": false,
         "locked": false
        },
        {
         "code": ">>> squares[-2].item() == 9801 and squares[-1].item() == 10000\nTrue",
         "hidden": false,
         "locked": false
        }
       ],
       "scored": true,
       "setup": "",
       "teardown": "",
       "type": "doctest"
      }
     ]
    }
   }
  }
 },
 "nbformat": 4,
 "nbformat_minor": 5
}
